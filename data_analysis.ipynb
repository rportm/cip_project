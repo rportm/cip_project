{
 "cells": [
  {
   "cell_type": "code",
   "execution_count": 43,
   "metadata": {
    "collapsed": true,
    "ExecuteTime": {
     "end_time": "2023-12-09T21:43:46.007810100Z",
     "start_time": "2023-12-09T21:43:45.924966800Z"
    }
   },
   "outputs": [],
   "source": [
    "import pandas as pd"
   ]
  },
  {
   "cell_type": "code",
   "execution_count": 44,
   "outputs": [],
   "source": [
    "#load joined data\n",
    "df = pd.read_csv('data/joined_data.csv')"
   ],
   "metadata": {
    "collapsed": false,
    "ExecuteTime": {
     "end_time": "2023-12-09T21:43:46.067639700Z",
     "start_time": "2023-12-09T21:43:45.930929900Z"
    }
   }
  },
  {
   "cell_type": "code",
   "execution_count": 45,
   "outputs": [
    {
     "data": {
      "text/plain": "brand                             object\nname                              object\nphone_storage                      int64\nscrapeday                         object\nprice_digitec_CHF                float64\nrating_digitec                    object\ndelivery_time_days_digitec        object\ncleaned_phone_name                object\nmodel                             object\nstorage                            int64\nprice_mediamarkt_CHF             float64\nrating_mediamarkt                float64\ndelivery_time_days_mediamarkt    float64\ndtype: object"
     },
     "execution_count": 45,
     "metadata": {},
     "output_type": "execute_result"
    }
   ],
   "source": [
    "df.dtypes"
   ],
   "metadata": {
    "collapsed": false,
    "ExecuteTime": {
     "end_time": "2023-12-09T21:43:46.068665Z",
     "start_time": "2023-12-09T21:43:45.944212Z"
    }
   }
  },
  {
   "cell_type": "code",
   "execution_count": 46,
   "outputs": [
    {
     "data": {
      "text/plain": "  brand         name  phone_storage scrapeday  price_digitec_CHF  \\\n0  ASUS  ROG Phone 7            256        af              921.0   \n1  ASUS  ROG Phone 7            256        bf              909.0   \n2  ASUS  ROG Phone 7            256        cm              999.0   \n3  ASUS  ROG Phone 7            512        af             1079.0   \n4  ASUS  ROG Phone 7            512        bf              999.5   \n\n  rating_digitec delivery_time_days_digitec cleaned_phone_name        model  \\\n0            3.4                          1        ROG Phone 7  ROG Phone 7   \n1            3.4                          1        ROG Phone 7  ROG Phone 7   \n2            3.4                          1        ROG Phone 7  ROG Phone 7   \n3            4.5                          1        ROG Phone 7  ROG Phone 7   \n4            4.5                          1        ROG Phone 7  ROG Phone 7   \n\n   storage  price_mediamarkt_CHF  rating_mediamarkt  \\\n0      256              1015.500             4.5000   \n1      256              1012.655             4.5000   \n2      256              1048.460             4.5000   \n3      512              1133.650             4.8269   \n4      512              1156.910             4.8200   \n\n   delivery_time_days_mediamarkt  \n0                            1.0  \n1                            5.0  \n2                            4.0  \n3                            2.0  \n4                            4.0  ",
      "text/html": "<div>\n<style scoped>\n    .dataframe tbody tr th:only-of-type {\n        vertical-align: middle;\n    }\n\n    .dataframe tbody tr th {\n        vertical-align: top;\n    }\n\n    .dataframe thead th {\n        text-align: right;\n    }\n</style>\n<table border=\"1\" class=\"dataframe\">\n  <thead>\n    <tr style=\"text-align: right;\">\n      <th></th>\n      <th>brand</th>\n      <th>name</th>\n      <th>phone_storage</th>\n      <th>scrapeday</th>\n      <th>price_digitec_CHF</th>\n      <th>rating_digitec</th>\n      <th>delivery_time_days_digitec</th>\n      <th>cleaned_phone_name</th>\n      <th>model</th>\n      <th>storage</th>\n      <th>price_mediamarkt_CHF</th>\n      <th>rating_mediamarkt</th>\n      <th>delivery_time_days_mediamarkt</th>\n    </tr>\n  </thead>\n  <tbody>\n    <tr>\n      <th>0</th>\n      <td>ASUS</td>\n      <td>ROG Phone 7</td>\n      <td>256</td>\n      <td>af</td>\n      <td>921.0</td>\n      <td>3.4</td>\n      <td>1</td>\n      <td>ROG Phone 7</td>\n      <td>ROG Phone 7</td>\n      <td>256</td>\n      <td>1015.500</td>\n      <td>4.5000</td>\n      <td>1.0</td>\n    </tr>\n    <tr>\n      <th>1</th>\n      <td>ASUS</td>\n      <td>ROG Phone 7</td>\n      <td>256</td>\n      <td>bf</td>\n      <td>909.0</td>\n      <td>3.4</td>\n      <td>1</td>\n      <td>ROG Phone 7</td>\n      <td>ROG Phone 7</td>\n      <td>256</td>\n      <td>1012.655</td>\n      <td>4.5000</td>\n      <td>5.0</td>\n    </tr>\n    <tr>\n      <th>2</th>\n      <td>ASUS</td>\n      <td>ROG Phone 7</td>\n      <td>256</td>\n      <td>cm</td>\n      <td>999.0</td>\n      <td>3.4</td>\n      <td>1</td>\n      <td>ROG Phone 7</td>\n      <td>ROG Phone 7</td>\n      <td>256</td>\n      <td>1048.460</td>\n      <td>4.5000</td>\n      <td>4.0</td>\n    </tr>\n    <tr>\n      <th>3</th>\n      <td>ASUS</td>\n      <td>ROG Phone 7</td>\n      <td>512</td>\n      <td>af</td>\n      <td>1079.0</td>\n      <td>4.5</td>\n      <td>1</td>\n      <td>ROG Phone 7</td>\n      <td>ROG Phone 7</td>\n      <td>512</td>\n      <td>1133.650</td>\n      <td>4.8269</td>\n      <td>2.0</td>\n    </tr>\n    <tr>\n      <th>4</th>\n      <td>ASUS</td>\n      <td>ROG Phone 7</td>\n      <td>512</td>\n      <td>bf</td>\n      <td>999.5</td>\n      <td>4.5</td>\n      <td>1</td>\n      <td>ROG Phone 7</td>\n      <td>ROG Phone 7</td>\n      <td>512</td>\n      <td>1156.910</td>\n      <td>4.8200</td>\n      <td>4.0</td>\n    </tr>\n  </tbody>\n</table>\n</div>"
     },
     "execution_count": 46,
     "metadata": {},
     "output_type": "execute_result"
    }
   ],
   "source": [
    "df.head()"
   ],
   "metadata": {
    "collapsed": false,
    "ExecuteTime": {
     "end_time": "2023-12-09T21:43:46.068665Z",
     "start_time": "2023-12-09T21:43:45.951765500Z"
    }
   }
  },
  {
   "cell_type": "markdown",
   "source": [
    "# 1. Frage: Wie stehen die Preise der einzelnen Marken zueinander, bei welchen Marken gibt es die grössten und kleinsten Preisunterschiede?"
   ],
   "metadata": {
    "collapsed": false
   }
  },
  {
   "cell_type": "code",
   "execution_count": 47,
   "outputs": [
    {
     "data": {
      "text/plain": "        brand price_digitec_CHF                          price_mediamarkt_CHF  \\\n                           mean         min          max                 mean   \n0       APPLE        852.019476  168.000000  1539.862500           908.013465   \n1        ASUS        868.887843  555.886667  1349.000000          1142.497647   \n2   BLACKVIEW        283.066667   74.000000   470.000000           320.578556   \n3         CAT        328.500000  222.000000   444.000000           349.875000   \n4        DORO        318.000000  318.000000   318.000000           285.270000   \n5     EMPORIA        173.000000  173.000000   173.000000           191.120000   \n6   FAIRPHONE        628.888889  628.666667   629.000000           669.850000   \n7     GIGASET        221.852000  112.000000   261.400000           225.448000   \n8      GOOGLE        619.281275  349.000000  1076.193333           668.972343   \n9      HAMMER        231.900000  231.900000   231.900000           195.226667   \n10      HONOR        407.521944  185.950000   898.500000           440.255556   \n11     HUAWEI        687.022304  207.000000  2197.000000           702.678676   \n12         LG        130.000000  130.000000   130.000000           303.690000   \n13   MOTOROLA        284.281631   85.475000   832.000000           306.730364   \n14      NOKIA        215.482432  110.000000   512.500000           224.103784   \n15    NOTHING        441.058824  324.000000   602.500000           478.269412   \n16     REALME        220.425705   76.700000   416.000000           245.293077   \n17    SAMSUNG        631.646926  119.666667  1668.383333           717.981986   \n18       SONY        782.793556  392.500000  1025.666667           927.037333   \n19    ULEFONE        163.296296  138.000000   192.000000           178.145000   \n20     XIAOMI        266.962271   78.750000  1079.000000           294.397992   \n21        ZTE        151.217500   54.400000   399.000000           135.982833   \n\n                         \n           min      max  \n0   464.238333  1583.57  \n1   564.390000  1453.37  \n2   161.010000   477.73  \n3   217.370000   506.65  \n4   278.920000   288.62  \n5   191.120000   191.12  \n6   660.900000   674.74  \n7   216.520000   231.66  \n8   132.320000  1118.78  \n9   186.900000   211.65  \n10  229.230000   945.98  \n11  193.060000  2006.86  \n12  303.690000   303.69  \n13   84.120000   849.50  \n14   81.900000   536.33  \n15  320.520000   602.26  \n16   78.210000   541.65  \n17  130.060000  1833.10  \n18  802.730000  1303.84  \n19  132.080000   226.65  \n20   72.480000  1446.98  \n21   53.060000   244.88  ",
      "text/html": "<div>\n<style scoped>\n    .dataframe tbody tr th:only-of-type {\n        vertical-align: middle;\n    }\n\n    .dataframe tbody tr th {\n        vertical-align: top;\n    }\n\n    .dataframe thead tr th {\n        text-align: left;\n    }\n</style>\n<table border=\"1\" class=\"dataframe\">\n  <thead>\n    <tr>\n      <th></th>\n      <th>brand</th>\n      <th colspan=\"3\" halign=\"left\">price_digitec_CHF</th>\n      <th colspan=\"3\" halign=\"left\">price_mediamarkt_CHF</th>\n    </tr>\n    <tr>\n      <th></th>\n      <th></th>\n      <th>mean</th>\n      <th>min</th>\n      <th>max</th>\n      <th>mean</th>\n      <th>min</th>\n      <th>max</th>\n    </tr>\n  </thead>\n  <tbody>\n    <tr>\n      <th>0</th>\n      <td>APPLE</td>\n      <td>852.019476</td>\n      <td>168.000000</td>\n      <td>1539.862500</td>\n      <td>908.013465</td>\n      <td>464.238333</td>\n      <td>1583.57</td>\n    </tr>\n    <tr>\n      <th>1</th>\n      <td>ASUS</td>\n      <td>868.887843</td>\n      <td>555.886667</td>\n      <td>1349.000000</td>\n      <td>1142.497647</td>\n      <td>564.390000</td>\n      <td>1453.37</td>\n    </tr>\n    <tr>\n      <th>2</th>\n      <td>BLACKVIEW</td>\n      <td>283.066667</td>\n      <td>74.000000</td>\n      <td>470.000000</td>\n      <td>320.578556</td>\n      <td>161.010000</td>\n      <td>477.73</td>\n    </tr>\n    <tr>\n      <th>3</th>\n      <td>CAT</td>\n      <td>328.500000</td>\n      <td>222.000000</td>\n      <td>444.000000</td>\n      <td>349.875000</td>\n      <td>217.370000</td>\n      <td>506.65</td>\n    </tr>\n    <tr>\n      <th>4</th>\n      <td>DORO</td>\n      <td>318.000000</td>\n      <td>318.000000</td>\n      <td>318.000000</td>\n      <td>285.270000</td>\n      <td>278.920000</td>\n      <td>288.62</td>\n    </tr>\n    <tr>\n      <th>5</th>\n      <td>EMPORIA</td>\n      <td>173.000000</td>\n      <td>173.000000</td>\n      <td>173.000000</td>\n      <td>191.120000</td>\n      <td>191.120000</td>\n      <td>191.12</td>\n    </tr>\n    <tr>\n      <th>6</th>\n      <td>FAIRPHONE</td>\n      <td>628.888889</td>\n      <td>628.666667</td>\n      <td>629.000000</td>\n      <td>669.850000</td>\n      <td>660.900000</td>\n      <td>674.74</td>\n    </tr>\n    <tr>\n      <th>7</th>\n      <td>GIGASET</td>\n      <td>221.852000</td>\n      <td>112.000000</td>\n      <td>261.400000</td>\n      <td>225.448000</td>\n      <td>216.520000</td>\n      <td>231.66</td>\n    </tr>\n    <tr>\n      <th>8</th>\n      <td>GOOGLE</td>\n      <td>619.281275</td>\n      <td>349.000000</td>\n      <td>1076.193333</td>\n      <td>668.972343</td>\n      <td>132.320000</td>\n      <td>1118.78</td>\n    </tr>\n    <tr>\n      <th>9</th>\n      <td>HAMMER</td>\n      <td>231.900000</td>\n      <td>231.900000</td>\n      <td>231.900000</td>\n      <td>195.226667</td>\n      <td>186.900000</td>\n      <td>211.65</td>\n    </tr>\n    <tr>\n      <th>10</th>\n      <td>HONOR</td>\n      <td>407.521944</td>\n      <td>185.950000</td>\n      <td>898.500000</td>\n      <td>440.255556</td>\n      <td>229.230000</td>\n      <td>945.98</td>\n    </tr>\n    <tr>\n      <th>11</th>\n      <td>HUAWEI</td>\n      <td>687.022304</td>\n      <td>207.000000</td>\n      <td>2197.000000</td>\n      <td>702.678676</td>\n      <td>193.060000</td>\n      <td>2006.86</td>\n    </tr>\n    <tr>\n      <th>12</th>\n      <td>LG</td>\n      <td>130.000000</td>\n      <td>130.000000</td>\n      <td>130.000000</td>\n      <td>303.690000</td>\n      <td>303.690000</td>\n      <td>303.69</td>\n    </tr>\n    <tr>\n      <th>13</th>\n      <td>MOTOROLA</td>\n      <td>284.281631</td>\n      <td>85.475000</td>\n      <td>832.000000</td>\n      <td>306.730364</td>\n      <td>84.120000</td>\n      <td>849.50</td>\n    </tr>\n    <tr>\n      <th>14</th>\n      <td>NOKIA</td>\n      <td>215.482432</td>\n      <td>110.000000</td>\n      <td>512.500000</td>\n      <td>224.103784</td>\n      <td>81.900000</td>\n      <td>536.33</td>\n    </tr>\n    <tr>\n      <th>15</th>\n      <td>NOTHING</td>\n      <td>441.058824</td>\n      <td>324.000000</td>\n      <td>602.500000</td>\n      <td>478.269412</td>\n      <td>320.520000</td>\n      <td>602.26</td>\n    </tr>\n    <tr>\n      <th>16</th>\n      <td>REALME</td>\n      <td>220.425705</td>\n      <td>76.700000</td>\n      <td>416.000000</td>\n      <td>245.293077</td>\n      <td>78.210000</td>\n      <td>541.65</td>\n    </tr>\n    <tr>\n      <th>17</th>\n      <td>SAMSUNG</td>\n      <td>631.646926</td>\n      <td>119.666667</td>\n      <td>1668.383333</td>\n      <td>717.981986</td>\n      <td>130.060000</td>\n      <td>1833.10</td>\n    </tr>\n    <tr>\n      <th>18</th>\n      <td>SONY</td>\n      <td>782.793556</td>\n      <td>392.500000</td>\n      <td>1025.666667</td>\n      <td>927.037333</td>\n      <td>802.730000</td>\n      <td>1303.84</td>\n    </tr>\n    <tr>\n      <th>19</th>\n      <td>ULEFONE</td>\n      <td>163.296296</td>\n      <td>138.000000</td>\n      <td>192.000000</td>\n      <td>178.145000</td>\n      <td>132.080000</td>\n      <td>226.65</td>\n    </tr>\n    <tr>\n      <th>20</th>\n      <td>XIAOMI</td>\n      <td>266.962271</td>\n      <td>78.750000</td>\n      <td>1079.000000</td>\n      <td>294.397992</td>\n      <td>72.480000</td>\n      <td>1446.98</td>\n    </tr>\n    <tr>\n      <th>21</th>\n      <td>ZTE</td>\n      <td>151.217500</td>\n      <td>54.400000</td>\n      <td>399.000000</td>\n      <td>135.982833</td>\n      <td>53.060000</td>\n      <td>244.88</td>\n    </tr>\n  </tbody>\n</table>\n</div>"
     },
     "execution_count": 47,
     "metadata": {},
     "output_type": "execute_result"
    }
   ],
   "source": [
    "#aggregate the data\n",
    "df_agg = df.groupby(['brand'], as_index=False).agg({'price_digitec_CHF': ['mean', 'min', 'max'],\n",
    "                                                   'price_mediamarkt_CHF': ['mean', 'min', 'max']})\n",
    "\n",
    "df_agg"
   ],
   "metadata": {
    "collapsed": false,
    "ExecuteTime": {
     "end_time": "2023-12-09T21:43:46.068665Z",
     "start_time": "2023-12-09T21:43:45.976734100Z"
    }
   }
  },
  {
   "cell_type": "markdown",
   "source": [
    "# 2. Frage: Wie stehen die Bewertungen der einzelnen Marken zueinander, welche Marken erreichen in welchem Markt bessere Bewertungen?"
   ],
   "metadata": {
    "collapsed": false
   }
  },
  {
   "cell_type": "markdown",
   "source": [
    "Note: need to convert/remove 0 star ratings from mediamarkt ratings"
   ],
   "metadata": {
    "collapsed": false
   }
  },
  {
   "cell_type": "code",
   "execution_count": 48,
   "outputs": [],
   "source": [
    "#convert rating to numeric\n",
    "df['rating_digitec'] = pd.to_numeric(df['rating_digitec'], errors='coerce')"
   ],
   "metadata": {
    "collapsed": false,
    "ExecuteTime": {
     "end_time": "2023-12-09T21:43:46.068665Z",
     "start_time": "2023-12-09T21:43:46.003081600Z"
    }
   }
  },
  {
   "cell_type": "code",
   "execution_count": 49,
   "outputs": [
    {
     "data": {
      "text/plain": "        brand rating_digitec           rating_mediamarkt                  \n                        mean  min  max              mean       min     max\n0       APPLE       4.652727  4.2  4.8          4.205052  0.000000  4.9043\n1        ASUS       4.288235  3.4  4.6          4.566400  4.400000  4.8269\n2   BLACKVIEW       3.991667  3.7  4.3          0.000000  0.000000  0.0000\n3         CAT       4.175000  4.1  4.3          1.625000  0.000000  4.0000\n4        DORO            NaN  NaN  NaN          0.000000  0.000000  0.0000\n5     EMPORIA            NaN  NaN  NaN          0.000000  0.000000  0.0000\n6   FAIRPHONE       4.566667  4.5  4.6          4.444444  3.333333  5.0000\n7     GIGASET       4.640000  4.1  5.0          4.536900  4.458700  4.6542\n8      GOOGLE       4.335294  4.1  4.8          3.832619  0.000000  5.0000\n9      HAMMER            NaN  NaN  NaN          0.000000  0.000000  0.0000\n10      HONOR       4.088889  3.2  5.0          3.876103  0.000000  5.0000\n11     HUAWEI       4.255882  3.0  5.0          3.470091  0.000000  5.0000\n12         LG       4.200000  4.2  4.2          3.873950  3.571400  4.1765\n13   MOTOROLA       4.111538  2.3  5.0          1.159970  0.000000  4.5000\n14      NOKIA       3.947059  1.0  5.0          1.297297  0.000000  5.0000\n15    NOTHING       4.447059  4.0  4.6          4.901962  4.666650  5.0000\n16     REALME       4.238462  3.7  5.0          0.769231  0.000000  2.5000\n17    SAMSUNG       4.277049  2.9  4.7          3.998384  0.000000  4.6854\n18       SONY       4.253333  3.4  4.6          4.571300  4.475800  4.7297\n19    ULEFONE       4.422222  4.2  4.6          0.833333  0.000000  2.5000\n20     XIAOMI       4.120979  1.0  5.0          2.296970  0.000000  5.0000\n21        ZTE       3.900000  3.9  3.9          2.258575  0.000000  4.4286",
      "text/html": "<div>\n<style scoped>\n    .dataframe tbody tr th:only-of-type {\n        vertical-align: middle;\n    }\n\n    .dataframe tbody tr th {\n        vertical-align: top;\n    }\n\n    .dataframe thead tr th {\n        text-align: left;\n    }\n</style>\n<table border=\"1\" class=\"dataframe\">\n  <thead>\n    <tr>\n      <th></th>\n      <th>brand</th>\n      <th colspan=\"3\" halign=\"left\">rating_digitec</th>\n      <th colspan=\"3\" halign=\"left\">rating_mediamarkt</th>\n    </tr>\n    <tr>\n      <th></th>\n      <th></th>\n      <th>mean</th>\n      <th>min</th>\n      <th>max</th>\n      <th>mean</th>\n      <th>min</th>\n      <th>max</th>\n    </tr>\n  </thead>\n  <tbody>\n    <tr>\n      <th>0</th>\n      <td>APPLE</td>\n      <td>4.652727</td>\n      <td>4.2</td>\n      <td>4.8</td>\n      <td>4.205052</td>\n      <td>0.000000</td>\n      <td>4.9043</td>\n    </tr>\n    <tr>\n      <th>1</th>\n      <td>ASUS</td>\n      <td>4.288235</td>\n      <td>3.4</td>\n      <td>4.6</td>\n      <td>4.566400</td>\n      <td>4.400000</td>\n      <td>4.8269</td>\n    </tr>\n    <tr>\n      <th>2</th>\n      <td>BLACKVIEW</td>\n      <td>3.991667</td>\n      <td>3.7</td>\n      <td>4.3</td>\n      <td>0.000000</td>\n      <td>0.000000</td>\n      <td>0.0000</td>\n    </tr>\n    <tr>\n      <th>3</th>\n      <td>CAT</td>\n      <td>4.175000</td>\n      <td>4.1</td>\n      <td>4.3</td>\n      <td>1.625000</td>\n      <td>0.000000</td>\n      <td>4.0000</td>\n    </tr>\n    <tr>\n      <th>4</th>\n      <td>DORO</td>\n      <td>NaN</td>\n      <td>NaN</td>\n      <td>NaN</td>\n      <td>0.000000</td>\n      <td>0.000000</td>\n      <td>0.0000</td>\n    </tr>\n    <tr>\n      <th>5</th>\n      <td>EMPORIA</td>\n      <td>NaN</td>\n      <td>NaN</td>\n      <td>NaN</td>\n      <td>0.000000</td>\n      <td>0.000000</td>\n      <td>0.0000</td>\n    </tr>\n    <tr>\n      <th>6</th>\n      <td>FAIRPHONE</td>\n      <td>4.566667</td>\n      <td>4.5</td>\n      <td>4.6</td>\n      <td>4.444444</td>\n      <td>3.333333</td>\n      <td>5.0000</td>\n    </tr>\n    <tr>\n      <th>7</th>\n      <td>GIGASET</td>\n      <td>4.640000</td>\n      <td>4.1</td>\n      <td>5.0</td>\n      <td>4.536900</td>\n      <td>4.458700</td>\n      <td>4.6542</td>\n    </tr>\n    <tr>\n      <th>8</th>\n      <td>GOOGLE</td>\n      <td>4.335294</td>\n      <td>4.1</td>\n      <td>4.8</td>\n      <td>3.832619</td>\n      <td>0.000000</td>\n      <td>5.0000</td>\n    </tr>\n    <tr>\n      <th>9</th>\n      <td>HAMMER</td>\n      <td>NaN</td>\n      <td>NaN</td>\n      <td>NaN</td>\n      <td>0.000000</td>\n      <td>0.000000</td>\n      <td>0.0000</td>\n    </tr>\n    <tr>\n      <th>10</th>\n      <td>HONOR</td>\n      <td>4.088889</td>\n      <td>3.2</td>\n      <td>5.0</td>\n      <td>3.876103</td>\n      <td>0.000000</td>\n      <td>5.0000</td>\n    </tr>\n    <tr>\n      <th>11</th>\n      <td>HUAWEI</td>\n      <td>4.255882</td>\n      <td>3.0</td>\n      <td>5.0</td>\n      <td>3.470091</td>\n      <td>0.000000</td>\n      <td>5.0000</td>\n    </tr>\n    <tr>\n      <th>12</th>\n      <td>LG</td>\n      <td>4.200000</td>\n      <td>4.2</td>\n      <td>4.2</td>\n      <td>3.873950</td>\n      <td>3.571400</td>\n      <td>4.1765</td>\n    </tr>\n    <tr>\n      <th>13</th>\n      <td>MOTOROLA</td>\n      <td>4.111538</td>\n      <td>2.3</td>\n      <td>5.0</td>\n      <td>1.159970</td>\n      <td>0.000000</td>\n      <td>4.5000</td>\n    </tr>\n    <tr>\n      <th>14</th>\n      <td>NOKIA</td>\n      <td>3.947059</td>\n      <td>1.0</td>\n      <td>5.0</td>\n      <td>1.297297</td>\n      <td>0.000000</td>\n      <td>5.0000</td>\n    </tr>\n    <tr>\n      <th>15</th>\n      <td>NOTHING</td>\n      <td>4.447059</td>\n      <td>4.0</td>\n      <td>4.6</td>\n      <td>4.901962</td>\n      <td>4.666650</td>\n      <td>5.0000</td>\n    </tr>\n    <tr>\n      <th>16</th>\n      <td>REALME</td>\n      <td>4.238462</td>\n      <td>3.7</td>\n      <td>5.0</td>\n      <td>0.769231</td>\n      <td>0.000000</td>\n      <td>2.5000</td>\n    </tr>\n    <tr>\n      <th>17</th>\n      <td>SAMSUNG</td>\n      <td>4.277049</td>\n      <td>2.9</td>\n      <td>4.7</td>\n      <td>3.998384</td>\n      <td>0.000000</td>\n      <td>4.6854</td>\n    </tr>\n    <tr>\n      <th>18</th>\n      <td>SONY</td>\n      <td>4.253333</td>\n      <td>3.4</td>\n      <td>4.6</td>\n      <td>4.571300</td>\n      <td>4.475800</td>\n      <td>4.7297</td>\n    </tr>\n    <tr>\n      <th>19</th>\n      <td>ULEFONE</td>\n      <td>4.422222</td>\n      <td>4.2</td>\n      <td>4.6</td>\n      <td>0.833333</td>\n      <td>0.000000</td>\n      <td>2.5000</td>\n    </tr>\n    <tr>\n      <th>20</th>\n      <td>XIAOMI</td>\n      <td>4.120979</td>\n      <td>1.0</td>\n      <td>5.0</td>\n      <td>2.296970</td>\n      <td>0.000000</td>\n      <td>5.0000</td>\n    </tr>\n    <tr>\n      <th>21</th>\n      <td>ZTE</td>\n      <td>3.900000</td>\n      <td>3.9</td>\n      <td>3.9</td>\n      <td>2.258575</td>\n      <td>0.000000</td>\n      <td>4.4286</td>\n    </tr>\n  </tbody>\n</table>\n</div>"
     },
     "execution_count": 49,
     "metadata": {},
     "output_type": "execute_result"
    }
   ],
   "source": [
    "df.groupby(['brand'], as_index=False).agg({'rating_digitec': ['mean', 'min', 'max'],\n",
    "                                           'rating_mediamarkt': ['mean', 'min', 'max']})"
   ],
   "metadata": {
    "collapsed": false,
    "ExecuteTime": {
     "end_time": "2023-12-09T21:43:46.068665Z",
     "start_time": "2023-12-09T21:43:46.013814900Z"
    }
   }
  },
  {
   "cell_type": "markdown",
   "source": [
    "# 3. Frage: Wie entwickeln sich die Preise während und nach Black Friday?"
   ],
   "metadata": {
    "collapsed": false
   }
  },
  {
   "cell_type": "code",
   "execution_count": 67,
   "outputs": [
    {
     "data": {
      "text/plain": "   scrapeday      brand  price_digitec_CHF\n0         af      APPLE         432.000000\n1         af       ASUS         627.153333\n2         af  BLACKVIEW         199.000000\n3         af        CAT         224.000000\n4         af       DORO         318.000000\n..       ...        ...                ...\n57        cm    SAMSUNG         119.666667\n58        cm       SONY         663.500000\n59        cm    ULEFONE         147.000000\n60        cm     XIAOMI          78.750000\n61        cm        ZTE          54.400000\n\n[62 rows x 3 columns]",
      "text/html": "<div>\n<style scoped>\n    .dataframe tbody tr th:only-of-type {\n        vertical-align: middle;\n    }\n\n    .dataframe tbody tr th {\n        vertical-align: top;\n    }\n\n    .dataframe thead th {\n        text-align: right;\n    }\n</style>\n<table border=\"1\" class=\"dataframe\">\n  <thead>\n    <tr style=\"text-align: right;\">\n      <th></th>\n      <th>scrapeday</th>\n      <th>brand</th>\n      <th>price_digitec_CHF</th>\n    </tr>\n  </thead>\n  <tbody>\n    <tr>\n      <th>0</th>\n      <td>af</td>\n      <td>APPLE</td>\n      <td>432.000000</td>\n    </tr>\n    <tr>\n      <th>1</th>\n      <td>af</td>\n      <td>ASUS</td>\n      <td>627.153333</td>\n    </tr>\n    <tr>\n      <th>2</th>\n      <td>af</td>\n      <td>BLACKVIEW</td>\n      <td>199.000000</td>\n    </tr>\n    <tr>\n      <th>3</th>\n      <td>af</td>\n      <td>CAT</td>\n      <td>224.000000</td>\n    </tr>\n    <tr>\n      <th>4</th>\n      <td>af</td>\n      <td>DORO</td>\n      <td>318.000000</td>\n    </tr>\n    <tr>\n      <th>...</th>\n      <td>...</td>\n      <td>...</td>\n      <td>...</td>\n    </tr>\n    <tr>\n      <th>57</th>\n      <td>cm</td>\n      <td>SAMSUNG</td>\n      <td>119.666667</td>\n    </tr>\n    <tr>\n      <th>58</th>\n      <td>cm</td>\n      <td>SONY</td>\n      <td>663.500000</td>\n    </tr>\n    <tr>\n      <th>59</th>\n      <td>cm</td>\n      <td>ULEFONE</td>\n      <td>147.000000</td>\n    </tr>\n    <tr>\n      <th>60</th>\n      <td>cm</td>\n      <td>XIAOMI</td>\n      <td>78.750000</td>\n    </tr>\n    <tr>\n      <th>61</th>\n      <td>cm</td>\n      <td>ZTE</td>\n      <td>54.400000</td>\n    </tr>\n  </tbody>\n</table>\n<p>62 rows × 3 columns</p>\n</div>"
     },
     "execution_count": 67,
     "metadata": {},
     "output_type": "execute_result"
    }
   ],
   "source": [
    "df_scrapeday = df.groupby(['scrapeday', 'brand'], as_index=False)[\"price_digitec_CHF\"].agg('min')\n",
    "\n",
    "df_scrapeday"
   ],
   "metadata": {
    "collapsed": false,
    "ExecuteTime": {
     "end_time": "2023-12-09T21:56:37.275369800Z",
     "start_time": "2023-12-09T21:56:37.247020800Z"
    }
   }
  },
  {
   "cell_type": "code",
   "execution_count": 68,
   "outputs": [],
   "source": [
    "# Pivot the table\n",
    "pivot_df = df_scrapeday[[\"scrapeday\", \"brand\", \"price_digitec_CHF\"]].pivot(index='brand', columns='scrapeday', values='price_digitec_CHF')"
   ],
   "metadata": {
    "collapsed": false,
    "ExecuteTime": {
     "end_time": "2023-12-09T21:56:45.859852900Z",
     "start_time": "2023-12-09T21:56:45.842163300Z"
    }
   }
  },
  {
   "cell_type": "code",
   "execution_count": 69,
   "outputs": [],
   "source": [
    "# Calculate the price difference between the timepoints\n",
    "pivot_df['BF_to_CM_diff'] = pivot_df['cm'] - pivot_df['bf']\n",
    "pivot_df['CM_to_1W_diff'] = pivot_df['af'] - pivot_df['cm']"
   ],
   "metadata": {
    "collapsed": false,
    "ExecuteTime": {
     "end_time": "2023-12-09T21:57:00.941326100Z",
     "start_time": "2023-12-09T21:57:00.922713100Z"
    }
   }
  },
  {
   "cell_type": "code",
   "execution_count": 70,
   "outputs": [
    {
     "data": {
      "text/plain": "scrapeday          af          bf          cm  BF_to_CM_diff  CM_to_1W_diff\nbrand                                                                      \nAPPLE      432.000000  168.000000  428.000000     260.000000       4.000000\nASUS       627.153333  555.886667  559.553333       3.666667      67.600000\nBLACKVIEW  199.000000   80.000000   74.000000      -6.000000     125.000000\nCAT        224.000000  444.000000  222.000000    -222.000000       2.000000\nDORO       318.000000  318.000000  318.000000       0.000000       0.000000\nEMPORIA           NaN  173.000000         NaN            NaN            NaN\nFAIRPHONE  629.000000  628.666667  629.000000       0.333333       0.000000\nGIGASET    253.000000  112.000000  221.460000     109.460000      31.540000\nGOOGLE     355.666667  349.000000  353.500000       4.500000       2.166667\nHAMMER     231.900000  231.900000  231.900000       0.000000       0.000000\nHONOR      221.666667  241.000000  185.950000     -55.050000      35.716667\nHUAWEI     207.000000  219.000000  299.000000      80.000000     -92.000000\nLG         130.000000         NaN         NaN            NaN            NaN\nMOTOROLA    90.975000   85.475000   87.775000       2.300000       3.200000\nNOKIA      120.500000  123.000000  110.000000     -13.000000      10.500000\nNOTHING    348.000000  324.000000  324.000000       0.000000      24.000000\nREALME      76.700000   78.400000   84.400000       6.000000      -7.700000\nSAMSUNG    120.333333  121.666667  119.666667      -2.000000       0.666667\nSONY       392.500000  665.000000  663.500000      -1.500000    -271.000000\nULEFONE    138.000000  146.000000  147.000000       1.000000      -9.000000\nXIAOMI      80.200000   79.050000   78.750000      -0.300000       1.450000\nZTE         84.600000   60.900000   54.400000      -6.500000      30.200000",
      "text/html": "<div>\n<style scoped>\n    .dataframe tbody tr th:only-of-type {\n        vertical-align: middle;\n    }\n\n    .dataframe tbody tr th {\n        vertical-align: top;\n    }\n\n    .dataframe thead th {\n        text-align: right;\n    }\n</style>\n<table border=\"1\" class=\"dataframe\">\n  <thead>\n    <tr style=\"text-align: right;\">\n      <th>scrapeday</th>\n      <th>af</th>\n      <th>bf</th>\n      <th>cm</th>\n      <th>BF_to_CM_diff</th>\n      <th>CM_to_1W_diff</th>\n    </tr>\n    <tr>\n      <th>brand</th>\n      <th></th>\n      <th></th>\n      <th></th>\n      <th></th>\n      <th></th>\n    </tr>\n  </thead>\n  <tbody>\n    <tr>\n      <th>APPLE</th>\n      <td>432.000000</td>\n      <td>168.000000</td>\n      <td>428.000000</td>\n      <td>260.000000</td>\n      <td>4.000000</td>\n    </tr>\n    <tr>\n      <th>ASUS</th>\n      <td>627.153333</td>\n      <td>555.886667</td>\n      <td>559.553333</td>\n      <td>3.666667</td>\n      <td>67.600000</td>\n    </tr>\n    <tr>\n      <th>BLACKVIEW</th>\n      <td>199.000000</td>\n      <td>80.000000</td>\n      <td>74.000000</td>\n      <td>-6.000000</td>\n      <td>125.000000</td>\n    </tr>\n    <tr>\n      <th>CAT</th>\n      <td>224.000000</td>\n      <td>444.000000</td>\n      <td>222.000000</td>\n      <td>-222.000000</td>\n      <td>2.000000</td>\n    </tr>\n    <tr>\n      <th>DORO</th>\n      <td>318.000000</td>\n      <td>318.000000</td>\n      <td>318.000000</td>\n      <td>0.000000</td>\n      <td>0.000000</td>\n    </tr>\n    <tr>\n      <th>EMPORIA</th>\n      <td>NaN</td>\n      <td>173.000000</td>\n      <td>NaN</td>\n      <td>NaN</td>\n      <td>NaN</td>\n    </tr>\n    <tr>\n      <th>FAIRPHONE</th>\n      <td>629.000000</td>\n      <td>628.666667</td>\n      <td>629.000000</td>\n      <td>0.333333</td>\n      <td>0.000000</td>\n    </tr>\n    <tr>\n      <th>GIGASET</th>\n      <td>253.000000</td>\n      <td>112.000000</td>\n      <td>221.460000</td>\n      <td>109.460000</td>\n      <td>31.540000</td>\n    </tr>\n    <tr>\n      <th>GOOGLE</th>\n      <td>355.666667</td>\n      <td>349.000000</td>\n      <td>353.500000</td>\n      <td>4.500000</td>\n      <td>2.166667</td>\n    </tr>\n    <tr>\n      <th>HAMMER</th>\n      <td>231.900000</td>\n      <td>231.900000</td>\n      <td>231.900000</td>\n      <td>0.000000</td>\n      <td>0.000000</td>\n    </tr>\n    <tr>\n      <th>HONOR</th>\n      <td>221.666667</td>\n      <td>241.000000</td>\n      <td>185.950000</td>\n      <td>-55.050000</td>\n      <td>35.716667</td>\n    </tr>\n    <tr>\n      <th>HUAWEI</th>\n      <td>207.000000</td>\n      <td>219.000000</td>\n      <td>299.000000</td>\n      <td>80.000000</td>\n      <td>-92.000000</td>\n    </tr>\n    <tr>\n      <th>LG</th>\n      <td>130.000000</td>\n      <td>NaN</td>\n      <td>NaN</td>\n      <td>NaN</td>\n      <td>NaN</td>\n    </tr>\n    <tr>\n      <th>MOTOROLA</th>\n      <td>90.975000</td>\n      <td>85.475000</td>\n      <td>87.775000</td>\n      <td>2.300000</td>\n      <td>3.200000</td>\n    </tr>\n    <tr>\n      <th>NOKIA</th>\n      <td>120.500000</td>\n      <td>123.000000</td>\n      <td>110.000000</td>\n      <td>-13.000000</td>\n      <td>10.500000</td>\n    </tr>\n    <tr>\n      <th>NOTHING</th>\n      <td>348.000000</td>\n      <td>324.000000</td>\n      <td>324.000000</td>\n      <td>0.000000</td>\n      <td>24.000000</td>\n    </tr>\n    <tr>\n      <th>REALME</th>\n      <td>76.700000</td>\n      <td>78.400000</td>\n      <td>84.400000</td>\n      <td>6.000000</td>\n      <td>-7.700000</td>\n    </tr>\n    <tr>\n      <th>SAMSUNG</th>\n      <td>120.333333</td>\n      <td>121.666667</td>\n      <td>119.666667</td>\n      <td>-2.000000</td>\n      <td>0.666667</td>\n    </tr>\n    <tr>\n      <th>SONY</th>\n      <td>392.500000</td>\n      <td>665.000000</td>\n      <td>663.500000</td>\n      <td>-1.500000</td>\n      <td>-271.000000</td>\n    </tr>\n    <tr>\n      <th>ULEFONE</th>\n      <td>138.000000</td>\n      <td>146.000000</td>\n      <td>147.000000</td>\n      <td>1.000000</td>\n      <td>-9.000000</td>\n    </tr>\n    <tr>\n      <th>XIAOMI</th>\n      <td>80.200000</td>\n      <td>79.050000</td>\n      <td>78.750000</td>\n      <td>-0.300000</td>\n      <td>1.450000</td>\n    </tr>\n    <tr>\n      <th>ZTE</th>\n      <td>84.600000</td>\n      <td>60.900000</td>\n      <td>54.400000</td>\n      <td>-6.500000</td>\n      <td>30.200000</td>\n    </tr>\n  </tbody>\n</table>\n</div>"
     },
     "execution_count": 70,
     "metadata": {},
     "output_type": "execute_result"
    }
   ],
   "source": [
    "pivot_df"
   ],
   "metadata": {
    "collapsed": false,
    "ExecuteTime": {
     "end_time": "2023-12-09T21:57:09.388646300Z",
     "start_time": "2023-12-09T21:57:09.375047100Z"
    }
   }
  },
  {
   "cell_type": "markdown",
   "source": [
    "# 4. Frage: Wie unterscheiden sich die Lieferzeiten der beliebtesten Marken?"
   ],
   "metadata": {
    "collapsed": false
   }
  }
 ],
 "metadata": {
  "kernelspec": {
   "display_name": "Python 3",
   "language": "python",
   "name": "python3"
  },
  "language_info": {
   "codemirror_mode": {
    "name": "ipython",
    "version": 2
   },
   "file_extension": ".py",
   "mimetype": "text/x-python",
   "name": "python",
   "nbconvert_exporter": "python",
   "pygments_lexer": "ipython2",
   "version": "2.7.6"
  }
 },
 "nbformat": 4,
 "nbformat_minor": 0
}
