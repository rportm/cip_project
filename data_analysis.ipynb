{
 "cells": [
  {
   "cell_type": "code",
   "execution_count": 17,
   "metadata": {
    "collapsed": true,
    "ExecuteTime": {
     "end_time": "2023-12-09T20:32:16.883957900Z",
     "start_time": "2023-12-09T20:32:16.831849800Z"
    }
   },
   "outputs": [],
   "source": [
    "import pandas as pd"
   ]
  },
  {
   "cell_type": "code",
   "execution_count": 18,
   "outputs": [],
   "source": [
    "#load joined data\n",
    "df = pd.read_csv('data/joined_data.csv')"
   ],
   "metadata": {
    "collapsed": false,
    "ExecuteTime": {
     "end_time": "2023-12-09T20:32:16.938159800Z",
     "start_time": "2023-12-09T20:32:16.837845900Z"
    }
   }
  },
  {
   "cell_type": "code",
   "execution_count": 19,
   "outputs": [
    {
     "data": {
      "text/plain": "brand                             object\nname                              object\nphone_storage                      int64\nscrapeday                         object\nprice_digitec_CHF                float64\nrating_digitec                    object\ndelivery_time_days_digitec        object\ncleaned_phone_name                object\nmodel                             object\nstorage                            int64\nprice_mediamarkt_CHF             float64\nrating_mediamarkt                float64\ndelivery_time_days_mediamarkt    float64\ndtype: object"
     },
     "execution_count": 19,
     "metadata": {},
     "output_type": "execute_result"
    }
   ],
   "source": [
    "df.dtypes"
   ],
   "metadata": {
    "collapsed": false,
    "ExecuteTime": {
     "end_time": "2023-12-09T20:32:16.939206500Z",
     "start_time": "2023-12-09T20:32:16.851852700Z"
    }
   }
  },
  {
   "cell_type": "code",
   "execution_count": 20,
   "outputs": [
    {
     "data": {
      "text/plain": "  brand         name  phone_storage scrapeday  price_digitec_CHF  \\\n0  ASUS  ROG Phone 7            256        af              921.0   \n1  ASUS  ROG Phone 7            256        bf              909.0   \n2  ASUS  ROG Phone 7            256        cm              999.0   \n3  ASUS  ROG Phone 7            512        af             1079.0   \n4  ASUS  ROG Phone 7            512        bf              999.5   \n\n  rating_digitec delivery_time_days_digitec cleaned_phone_name        model  \\\n0            3.4                          1        ROG Phone 7  ROG Phone 7   \n1            3.4                          1        ROG Phone 7  ROG Phone 7   \n2            3.4                          1        ROG Phone 7  ROG Phone 7   \n3            4.5                          1        ROG Phone 7  ROG Phone 7   \n4            4.5                          1        ROG Phone 7  ROG Phone 7   \n\n   storage  price_mediamarkt_CHF  rating_mediamarkt  \\\n0      256              1015.500             4.5000   \n1      256              1012.655             4.5000   \n2      256              1048.460             4.5000   \n3      512              1133.650             4.8269   \n4      512              1156.910             4.8200   \n\n   delivery_time_days_mediamarkt  \n0                            1.0  \n1                            5.0  \n2                            4.0  \n3                            2.0  \n4                            4.0  ",
      "text/html": "<div>\n<style scoped>\n    .dataframe tbody tr th:only-of-type {\n        vertical-align: middle;\n    }\n\n    .dataframe tbody tr th {\n        vertical-align: top;\n    }\n\n    .dataframe thead th {\n        text-align: right;\n    }\n</style>\n<table border=\"1\" class=\"dataframe\">\n  <thead>\n    <tr style=\"text-align: right;\">\n      <th></th>\n      <th>brand</th>\n      <th>name</th>\n      <th>phone_storage</th>\n      <th>scrapeday</th>\n      <th>price_digitec_CHF</th>\n      <th>rating_digitec</th>\n      <th>delivery_time_days_digitec</th>\n      <th>cleaned_phone_name</th>\n      <th>model</th>\n      <th>storage</th>\n      <th>price_mediamarkt_CHF</th>\n      <th>rating_mediamarkt</th>\n      <th>delivery_time_days_mediamarkt</th>\n    </tr>\n  </thead>\n  <tbody>\n    <tr>\n      <th>0</th>\n      <td>ASUS</td>\n      <td>ROG Phone 7</td>\n      <td>256</td>\n      <td>af</td>\n      <td>921.0</td>\n      <td>3.4</td>\n      <td>1</td>\n      <td>ROG Phone 7</td>\n      <td>ROG Phone 7</td>\n      <td>256</td>\n      <td>1015.500</td>\n      <td>4.5000</td>\n      <td>1.0</td>\n    </tr>\n    <tr>\n      <th>1</th>\n      <td>ASUS</td>\n      <td>ROG Phone 7</td>\n      <td>256</td>\n      <td>bf</td>\n      <td>909.0</td>\n      <td>3.4</td>\n      <td>1</td>\n      <td>ROG Phone 7</td>\n      <td>ROG Phone 7</td>\n      <td>256</td>\n      <td>1012.655</td>\n      <td>4.5000</td>\n      <td>5.0</td>\n    </tr>\n    <tr>\n      <th>2</th>\n      <td>ASUS</td>\n      <td>ROG Phone 7</td>\n      <td>256</td>\n      <td>cm</td>\n      <td>999.0</td>\n      <td>3.4</td>\n      <td>1</td>\n      <td>ROG Phone 7</td>\n      <td>ROG Phone 7</td>\n      <td>256</td>\n      <td>1048.460</td>\n      <td>4.5000</td>\n      <td>4.0</td>\n    </tr>\n    <tr>\n      <th>3</th>\n      <td>ASUS</td>\n      <td>ROG Phone 7</td>\n      <td>512</td>\n      <td>af</td>\n      <td>1079.0</td>\n      <td>4.5</td>\n      <td>1</td>\n      <td>ROG Phone 7</td>\n      <td>ROG Phone 7</td>\n      <td>512</td>\n      <td>1133.650</td>\n      <td>4.8269</td>\n      <td>2.0</td>\n    </tr>\n    <tr>\n      <th>4</th>\n      <td>ASUS</td>\n      <td>ROG Phone 7</td>\n      <td>512</td>\n      <td>bf</td>\n      <td>999.5</td>\n      <td>4.5</td>\n      <td>1</td>\n      <td>ROG Phone 7</td>\n      <td>ROG Phone 7</td>\n      <td>512</td>\n      <td>1156.910</td>\n      <td>4.8200</td>\n      <td>4.0</td>\n    </tr>\n  </tbody>\n</table>\n</div>"
     },
     "execution_count": 20,
     "metadata": {},
     "output_type": "execute_result"
    }
   ],
   "source": [
    "df.head()"
   ],
   "metadata": {
    "collapsed": false,
    "ExecuteTime": {
     "end_time": "2023-12-09T20:32:16.939206500Z",
     "start_time": "2023-12-09T20:32:16.861977200Z"
    }
   }
  },
  {
   "cell_type": "markdown",
   "source": [
    "# 1. Frage: Wie stehen die Preise der einzelnen Marken zueinander, bei welchen Marken gibt es die grössten und kleinsten Preisunterschiede?"
   ],
   "metadata": {
    "collapsed": false
   }
  },
  {
   "cell_type": "code",
   "execution_count": 22,
   "outputs": [
    {
     "data": {
      "text/plain": "        brand price_digitec_CHF                          price_mediamarkt_CHF  \\\n                           mean         min          max                 mean   \n0       APPLE        852.019476  168.000000  1539.862500           908.013465   \n1        ASUS        868.887843  555.886667  1349.000000          1142.497647   \n2   BLACKVIEW        283.066667   74.000000   470.000000           320.578556   \n3         CAT        328.500000  222.000000   444.000000           349.875000   \n4        DORO        318.000000  318.000000   318.000000           285.270000   \n5     EMPORIA        173.000000  173.000000   173.000000           191.120000   \n6   FAIRPHONE        628.888889  628.666667   629.000000           669.850000   \n7     GIGASET        221.852000  112.000000   261.400000           225.448000   \n8      GOOGLE        619.281275  349.000000  1076.193333           668.972343   \n9      HAMMER        231.900000  231.900000   231.900000           195.226667   \n10      HONOR        407.521944  185.950000   898.500000           440.255556   \n11     HUAWEI        687.022304  207.000000  2197.000000           702.678676   \n12         LG        130.000000  130.000000   130.000000           303.690000   \n13   MOTOROLA        284.281631   85.475000   832.000000           306.730364   \n14      NOKIA        215.482432  110.000000   512.500000           224.103784   \n15    NOTHING        441.058824  324.000000   602.500000           478.269412   \n16     REALME        220.425705   76.700000   416.000000           245.293077   \n17    SAMSUNG        631.646926  119.666667  1668.383333           717.981986   \n18       SONY        782.793556  392.500000  1025.666667           927.037333   \n19    ULEFONE        163.296296  138.000000   192.000000           178.145000   \n20     XIAOMI        266.962271   78.750000  1079.000000           294.397992   \n21        ZTE        151.217500   54.400000   399.000000           135.982833   \n\n                         \n           min      max  \n0   464.238333  1583.57  \n1   564.390000  1453.37  \n2   161.010000   477.73  \n3   217.370000   506.65  \n4   278.920000   288.62  \n5   191.120000   191.12  \n6   660.900000   674.74  \n7   216.520000   231.66  \n8   132.320000  1118.78  \n9   186.900000   211.65  \n10  229.230000   945.98  \n11  193.060000  2006.86  \n12  303.690000   303.69  \n13   84.120000   849.50  \n14   81.900000   536.33  \n15  320.520000   602.26  \n16   78.210000   541.65  \n17  130.060000  1833.10  \n18  802.730000  1303.84  \n19  132.080000   226.65  \n20   72.480000  1446.98  \n21   53.060000   244.88  ",
      "text/html": "<div>\n<style scoped>\n    .dataframe tbody tr th:only-of-type {\n        vertical-align: middle;\n    }\n\n    .dataframe tbody tr th {\n        vertical-align: top;\n    }\n\n    .dataframe thead tr th {\n        text-align: left;\n    }\n</style>\n<table border=\"1\" class=\"dataframe\">\n  <thead>\n    <tr>\n      <th></th>\n      <th>brand</th>\n      <th colspan=\"3\" halign=\"left\">price_digitec_CHF</th>\n      <th colspan=\"3\" halign=\"left\">price_mediamarkt_CHF</th>\n    </tr>\n    <tr>\n      <th></th>\n      <th></th>\n      <th>mean</th>\n      <th>min</th>\n      <th>max</th>\n      <th>mean</th>\n      <th>min</th>\n      <th>max</th>\n    </tr>\n  </thead>\n  <tbody>\n    <tr>\n      <th>0</th>\n      <td>APPLE</td>\n      <td>852.019476</td>\n      <td>168.000000</td>\n      <td>1539.862500</td>\n      <td>908.013465</td>\n      <td>464.238333</td>\n      <td>1583.57</td>\n    </tr>\n    <tr>\n      <th>1</th>\n      <td>ASUS</td>\n      <td>868.887843</td>\n      <td>555.886667</td>\n      <td>1349.000000</td>\n      <td>1142.497647</td>\n      <td>564.390000</td>\n      <td>1453.37</td>\n    </tr>\n    <tr>\n      <th>2</th>\n      <td>BLACKVIEW</td>\n      <td>283.066667</td>\n      <td>74.000000</td>\n      <td>470.000000</td>\n      <td>320.578556</td>\n      <td>161.010000</td>\n      <td>477.73</td>\n    </tr>\n    <tr>\n      <th>3</th>\n      <td>CAT</td>\n      <td>328.500000</td>\n      <td>222.000000</td>\n      <td>444.000000</td>\n      <td>349.875000</td>\n      <td>217.370000</td>\n      <td>506.65</td>\n    </tr>\n    <tr>\n      <th>4</th>\n      <td>DORO</td>\n      <td>318.000000</td>\n      <td>318.000000</td>\n      <td>318.000000</td>\n      <td>285.270000</td>\n      <td>278.920000</td>\n      <td>288.62</td>\n    </tr>\n    <tr>\n      <th>5</th>\n      <td>EMPORIA</td>\n      <td>173.000000</td>\n      <td>173.000000</td>\n      <td>173.000000</td>\n      <td>191.120000</td>\n      <td>191.120000</td>\n      <td>191.12</td>\n    </tr>\n    <tr>\n      <th>6</th>\n      <td>FAIRPHONE</td>\n      <td>628.888889</td>\n      <td>628.666667</td>\n      <td>629.000000</td>\n      <td>669.850000</td>\n      <td>660.900000</td>\n      <td>674.74</td>\n    </tr>\n    <tr>\n      <th>7</th>\n      <td>GIGASET</td>\n      <td>221.852000</td>\n      <td>112.000000</td>\n      <td>261.400000</td>\n      <td>225.448000</td>\n      <td>216.520000</td>\n      <td>231.66</td>\n    </tr>\n    <tr>\n      <th>8</th>\n      <td>GOOGLE</td>\n      <td>619.281275</td>\n      <td>349.000000</td>\n      <td>1076.193333</td>\n      <td>668.972343</td>\n      <td>132.320000</td>\n      <td>1118.78</td>\n    </tr>\n    <tr>\n      <th>9</th>\n      <td>HAMMER</td>\n      <td>231.900000</td>\n      <td>231.900000</td>\n      <td>231.900000</td>\n      <td>195.226667</td>\n      <td>186.900000</td>\n      <td>211.65</td>\n    </tr>\n    <tr>\n      <th>10</th>\n      <td>HONOR</td>\n      <td>407.521944</td>\n      <td>185.950000</td>\n      <td>898.500000</td>\n      <td>440.255556</td>\n      <td>229.230000</td>\n      <td>945.98</td>\n    </tr>\n    <tr>\n      <th>11</th>\n      <td>HUAWEI</td>\n      <td>687.022304</td>\n      <td>207.000000</td>\n      <td>2197.000000</td>\n      <td>702.678676</td>\n      <td>193.060000</td>\n      <td>2006.86</td>\n    </tr>\n    <tr>\n      <th>12</th>\n      <td>LG</td>\n      <td>130.000000</td>\n      <td>130.000000</td>\n      <td>130.000000</td>\n      <td>303.690000</td>\n      <td>303.690000</td>\n      <td>303.69</td>\n    </tr>\n    <tr>\n      <th>13</th>\n      <td>MOTOROLA</td>\n      <td>284.281631</td>\n      <td>85.475000</td>\n      <td>832.000000</td>\n      <td>306.730364</td>\n      <td>84.120000</td>\n      <td>849.50</td>\n    </tr>\n    <tr>\n      <th>14</th>\n      <td>NOKIA</td>\n      <td>215.482432</td>\n      <td>110.000000</td>\n      <td>512.500000</td>\n      <td>224.103784</td>\n      <td>81.900000</td>\n      <td>536.33</td>\n    </tr>\n    <tr>\n      <th>15</th>\n      <td>NOTHING</td>\n      <td>441.058824</td>\n      <td>324.000000</td>\n      <td>602.500000</td>\n      <td>478.269412</td>\n      <td>320.520000</td>\n      <td>602.26</td>\n    </tr>\n    <tr>\n      <th>16</th>\n      <td>REALME</td>\n      <td>220.425705</td>\n      <td>76.700000</td>\n      <td>416.000000</td>\n      <td>245.293077</td>\n      <td>78.210000</td>\n      <td>541.65</td>\n    </tr>\n    <tr>\n      <th>17</th>\n      <td>SAMSUNG</td>\n      <td>631.646926</td>\n      <td>119.666667</td>\n      <td>1668.383333</td>\n      <td>717.981986</td>\n      <td>130.060000</td>\n      <td>1833.10</td>\n    </tr>\n    <tr>\n      <th>18</th>\n      <td>SONY</td>\n      <td>782.793556</td>\n      <td>392.500000</td>\n      <td>1025.666667</td>\n      <td>927.037333</td>\n      <td>802.730000</td>\n      <td>1303.84</td>\n    </tr>\n    <tr>\n      <th>19</th>\n      <td>ULEFONE</td>\n      <td>163.296296</td>\n      <td>138.000000</td>\n      <td>192.000000</td>\n      <td>178.145000</td>\n      <td>132.080000</td>\n      <td>226.65</td>\n    </tr>\n    <tr>\n      <th>20</th>\n      <td>XIAOMI</td>\n      <td>266.962271</td>\n      <td>78.750000</td>\n      <td>1079.000000</td>\n      <td>294.397992</td>\n      <td>72.480000</td>\n      <td>1446.98</td>\n    </tr>\n    <tr>\n      <th>21</th>\n      <td>ZTE</td>\n      <td>151.217500</td>\n      <td>54.400000</td>\n      <td>399.000000</td>\n      <td>135.982833</td>\n      <td>53.060000</td>\n      <td>244.88</td>\n    </tr>\n  </tbody>\n</table>\n</div>"
     },
     "execution_count": 22,
     "metadata": {},
     "output_type": "execute_result"
    }
   ],
   "source": [
    "#aggregate the data\n",
    "df_agg = df.groupby(['brand'], as_index=False).agg({'price_digitec_CHF': ['mean', 'min', 'max'],\n",
    "                                                   'price_mediamarkt_CHF': ['mean', 'min', 'max']})\n",
    "\n",
    "df_agg"
   ],
   "metadata": {
    "collapsed": false,
    "ExecuteTime": {
     "end_time": "2023-12-09T20:33:01.653839500Z",
     "start_time": "2023-12-09T20:33:01.619725300Z"
    }
   }
  },
  {
   "cell_type": "markdown",
   "source": [
    "# 2. Frage: Wie stehen die Bewertungen der einzelnen Marken zueinander, welche Marken erreichen in welchem Markt bessere Bewertungen?"
   ],
   "metadata": {
    "collapsed": false
   }
  }
 ],
 "metadata": {
  "kernelspec": {
   "display_name": "Python 3",
   "language": "python",
   "name": "python3"
  },
  "language_info": {
   "codemirror_mode": {
    "name": "ipython",
    "version": 2
   },
   "file_extension": ".py",
   "mimetype": "text/x-python",
   "name": "python",
   "nbconvert_exporter": "python",
   "pygments_lexer": "ipython2",
   "version": "2.7.6"
  }
 },
 "nbformat": 4,
 "nbformat_minor": 0
}
