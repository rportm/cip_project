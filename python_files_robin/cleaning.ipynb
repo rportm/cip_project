{
 "cells": [
  {
   "cell_type": "code",
   "execution_count": 1,
   "id": "initial_id",
   "metadata": {
    "collapsed": true,
    "ExecuteTime": {
     "end_time": "2023-12-16T17:58:10.748482179Z",
     "start_time": "2023-12-16T17:58:09.300699089Z"
    }
   },
   "outputs": [],
   "source": [
    "import pandas as pd\n",
    "import numpy as np\n",
    "import re\n",
    "from datetime import datetime\n",
    "#pd.set_option('display.max_rows', 100)"
   ]
  },
  {
   "cell_type": "code",
   "execution_count": 39,
   "outputs": [],
   "source": [
    "#load scraped data\n",
    "df1 = pd.read_csv('../data/scraped_phones_2023-11-24_stage1.csv', encoding='utf-16')\n",
    "df2 = pd.read_csv('../data/scraped_phones_2023-11-27_stage1.csv', encoding='utf-16')\n",
    "df3 = pd.read_csv('../data/scraped_phones_2023-12-04_stage1.csv', encoding='utf-16')"
   ],
   "metadata": {
    "collapsed": false,
    "ExecuteTime": {
     "end_time": "2023-12-16T21:06:19.584651188Z",
     "start_time": "2023-12-16T21:06:19.495460549Z"
    }
   },
   "id": "b532b222575fa115"
  },
  {
   "cell_type": "code",
   "execution_count": 40,
   "outputs": [
    {
     "data": {
      "text/plain": "        nr    brand                              name  \\\n0        1  Samsung                     Galaxy A54 5G   \n1        2  Samsung                  Galaxy S23 Ultra   \n2        3  Samsung  Galaxy A53 5G Enterprise Edition   \n3        4   Google                          Pixel 7a   \n4        5   Google                       Pixel 8 Pro   \n...    ...      ...                               ...   \n2052  2053  OnePlus                      9 Pro (12GB)   \n2053  2054     OPPO                            Reno 7   \n2054  2055    Apple                    iPhone 15 Plus   \n2055  2056    Apple                     iPhone 12 Pro   \n2056  2057    Apple                 iPhone 13 Pro Max   \n\n                                ratings  \\\n0     311 Bewertungen 4.4 von 5 Sternen   \n1     301 Bewertungen 4.6 von 5 Sternen   \n2      58 Bewertungen 4.5 von 5 Sternen   \n3     146 Bewertungen 4.2 von 5 Sternen   \n4     143 Bewertungen 4.2 von 5 Sternen   \n...                                 ...   \n2052    2 Bewertungen 5.0 von 5 Sternen   \n2053    2 Bewertungen 4.5 von 5 Sternen   \n2054   20 Bewertungen 4.5 von 5 Sternen   \n2055   44 Bewertungen 4.8 von 5 Sternen   \n2056  312 Bewertungen 4.8 von 5 Sternen   \n\n                                                  specs    price  \\\n0     256 GB, Awesome Graphite, 6.40\", Hybrid Dual S...    449.–   \n1     512 GB, Phantom Black, 6.80\", SIM + eSIM, 200 ...   1229.–   \n2     128 GB, Awesome Black, 6.50\", Dual SIM, 64 Mpx...    310.–   \n3            128 GB, Sea, 6.10\", SIM + eSIM, 64 Mpx, 5G    349.–   \n4       256 GB, Obsidian, 6.70\", SIM + eSIM, 50 Mpx, 5G   1049.–   \n...                                                 ...      ...   \n2052  256 GB, Morning Mist, 6.70\", Dual SIM, 48 Mpx, 5G   534.17   \n2053                       128 GB, Orange, Dual SIM, 4G   216.89   \n2054       512 GB, Green, 6.70\", SIM + eSIM, 48 Mpx, 5G  1388.05   \n2055        256 GB, Gold, 6.10\", SIM + eSIM, 12 Mpx, 5G  1095.95   \n2056        128 GB, Gold, 6.70\", SIM + eSIM, 12 Mpx, 5G  1359.95   \n\n                             delivery_information                  scraped_at  \n0                                morgen geliefert  2023-11-24 11:45:20.220938  \n1                                morgen geliefert  2023-11-24 11:45:21.652983  \n2                                morgen geliefert  2023-11-24 11:45:23.086290  \n3                                morgen geliefert  2023-11-24 11:45:24.533107  \n4                                morgen geliefert  2023-11-24 11:45:25.968087  \n...                                           ...                         ...  \n2052  Zwischen Do. 7.12. und Mi. 13.12. geliefert  2023-12-04 09:29:23.810675  \n2053  Zwischen Do. 7.12. und Mi. 13.12. geliefert  2023-12-04 09:29:25.301772  \n2054   Zwischen Di. 5.12. und Do. 7.12. geliefert  2023-12-04 09:29:26.784213  \n2055  Zwischen Mi. 6.12. und Di. 12.12. geliefert  2023-12-04 09:29:28.294434  \n2056  Zwischen Mi. 6.12. und Di. 12.12. geliefert  2023-12-04 09:29:29.818125  \n\n[6302 rows x 8 columns]",
      "text/html": "<div>\n<style scoped>\n    .dataframe tbody tr th:only-of-type {\n        vertical-align: middle;\n    }\n\n    .dataframe tbody tr th {\n        vertical-align: top;\n    }\n\n    .dataframe thead th {\n        text-align: right;\n    }\n</style>\n<table border=\"1\" class=\"dataframe\">\n  <thead>\n    <tr style=\"text-align: right;\">\n      <th></th>\n      <th>nr</th>\n      <th>brand</th>\n      <th>name</th>\n      <th>ratings</th>\n      <th>specs</th>\n      <th>price</th>\n      <th>delivery_information</th>\n      <th>scraped_at</th>\n    </tr>\n  </thead>\n  <tbody>\n    <tr>\n      <th>0</th>\n      <td>1</td>\n      <td>Samsung</td>\n      <td>Galaxy A54 5G</td>\n      <td>311 Bewertungen 4.4 von 5 Sternen</td>\n      <td>256 GB, Awesome Graphite, 6.40\", Hybrid Dual S...</td>\n      <td>449.–</td>\n      <td>morgen geliefert</td>\n      <td>2023-11-24 11:45:20.220938</td>\n    </tr>\n    <tr>\n      <th>1</th>\n      <td>2</td>\n      <td>Samsung</td>\n      <td>Galaxy S23 Ultra</td>\n      <td>301 Bewertungen 4.6 von 5 Sternen</td>\n      <td>512 GB, Phantom Black, 6.80\", SIM + eSIM, 200 ...</td>\n      <td>1229.–</td>\n      <td>morgen geliefert</td>\n      <td>2023-11-24 11:45:21.652983</td>\n    </tr>\n    <tr>\n      <th>2</th>\n      <td>3</td>\n      <td>Samsung</td>\n      <td>Galaxy A53 5G Enterprise Edition</td>\n      <td>58 Bewertungen 4.5 von 5 Sternen</td>\n      <td>128 GB, Awesome Black, 6.50\", Dual SIM, 64 Mpx...</td>\n      <td>310.–</td>\n      <td>morgen geliefert</td>\n      <td>2023-11-24 11:45:23.086290</td>\n    </tr>\n    <tr>\n      <th>3</th>\n      <td>4</td>\n      <td>Google</td>\n      <td>Pixel 7a</td>\n      <td>146 Bewertungen 4.2 von 5 Sternen</td>\n      <td>128 GB, Sea, 6.10\", SIM + eSIM, 64 Mpx, 5G</td>\n      <td>349.–</td>\n      <td>morgen geliefert</td>\n      <td>2023-11-24 11:45:24.533107</td>\n    </tr>\n    <tr>\n      <th>4</th>\n      <td>5</td>\n      <td>Google</td>\n      <td>Pixel 8 Pro</td>\n      <td>143 Bewertungen 4.2 von 5 Sternen</td>\n      <td>256 GB, Obsidian, 6.70\", SIM + eSIM, 50 Mpx, 5G</td>\n      <td>1049.–</td>\n      <td>morgen geliefert</td>\n      <td>2023-11-24 11:45:25.968087</td>\n    </tr>\n    <tr>\n      <th>...</th>\n      <td>...</td>\n      <td>...</td>\n      <td>...</td>\n      <td>...</td>\n      <td>...</td>\n      <td>...</td>\n      <td>...</td>\n      <td>...</td>\n    </tr>\n    <tr>\n      <th>2052</th>\n      <td>2053</td>\n      <td>OnePlus</td>\n      <td>9 Pro (12GB)</td>\n      <td>2 Bewertungen 5.0 von 5 Sternen</td>\n      <td>256 GB, Morning Mist, 6.70\", Dual SIM, 48 Mpx, 5G</td>\n      <td>534.17</td>\n      <td>Zwischen Do. 7.12. und Mi. 13.12. geliefert</td>\n      <td>2023-12-04 09:29:23.810675</td>\n    </tr>\n    <tr>\n      <th>2053</th>\n      <td>2054</td>\n      <td>OPPO</td>\n      <td>Reno 7</td>\n      <td>2 Bewertungen 4.5 von 5 Sternen</td>\n      <td>128 GB, Orange, Dual SIM, 4G</td>\n      <td>216.89</td>\n      <td>Zwischen Do. 7.12. und Mi. 13.12. geliefert</td>\n      <td>2023-12-04 09:29:25.301772</td>\n    </tr>\n    <tr>\n      <th>2054</th>\n      <td>2055</td>\n      <td>Apple</td>\n      <td>iPhone 15 Plus</td>\n      <td>20 Bewertungen 4.5 von 5 Sternen</td>\n      <td>512 GB, Green, 6.70\", SIM + eSIM, 48 Mpx, 5G</td>\n      <td>1388.05</td>\n      <td>Zwischen Di. 5.12. und Do. 7.12. geliefert</td>\n      <td>2023-12-04 09:29:26.784213</td>\n    </tr>\n    <tr>\n      <th>2055</th>\n      <td>2056</td>\n      <td>Apple</td>\n      <td>iPhone 12 Pro</td>\n      <td>44 Bewertungen 4.8 von 5 Sternen</td>\n      <td>256 GB, Gold, 6.10\", SIM + eSIM, 12 Mpx, 5G</td>\n      <td>1095.95</td>\n      <td>Zwischen Mi. 6.12. und Di. 12.12. geliefert</td>\n      <td>2023-12-04 09:29:28.294434</td>\n    </tr>\n    <tr>\n      <th>2056</th>\n      <td>2057</td>\n      <td>Apple</td>\n      <td>iPhone 13 Pro Max</td>\n      <td>312 Bewertungen 4.8 von 5 Sternen</td>\n      <td>128 GB, Gold, 6.70\", SIM + eSIM, 12 Mpx, 5G</td>\n      <td>1359.95</td>\n      <td>Zwischen Mi. 6.12. und Di. 12.12. geliefert</td>\n      <td>2023-12-04 09:29:29.818125</td>\n    </tr>\n  </tbody>\n</table>\n<p>6302 rows × 8 columns</p>\n</div>"
     },
     "execution_count": 40,
     "metadata": {},
     "output_type": "execute_result"
    }
   ],
   "source": [
    "#concat the dataframes\n",
    "df = pd.concat([df1, df2, df3])"
   ],
   "metadata": {
    "collapsed": false,
    "ExecuteTime": {
     "end_time": "2023-12-16T21:06:22.540688752Z",
     "start_time": "2023-12-16T21:06:22.449304966Z"
    }
   },
   "id": "a63f4b9aa30e0d0a"
  },
  {
   "cell_type": "markdown",
   "source": [
    "# checking the data"
   ],
   "metadata": {
    "collapsed": false
   },
   "id": "657b6c80762eeb3a"
  },
  {
   "cell_type": "markdown",
   "source": [
    "Checklist of data impurities:\n",
    "- missing data\n",
    "- wrong data types (price, delivery information etc.)\n",
    "- incorrect data (ratings showing 0, but actually not rated)\n",
    "- inconsistent data (specs/phone names not consistent)\n",
    "- duplicates\n",
    "\n"
   ],
   "metadata": {
    "collapsed": false
   },
   "id": "618fdd68164a81d3"
  },
  {
   "cell_type": "code",
   "execution_count": 41,
   "outputs": [
    {
     "data": {
      "text/plain": "   nr    brand                              name  \\\n0   1  Samsung                     Galaxy A54 5G   \n1   2  Samsung                  Galaxy S23 Ultra   \n2   3  Samsung  Galaxy A53 5G Enterprise Edition   \n3   4   Google                          Pixel 7a   \n4   5   Google                       Pixel 8 Pro   \n\n                             ratings  \\\n0  311 Bewertungen 4.4 von 5 Sternen   \n1  301 Bewertungen 4.6 von 5 Sternen   \n2   58 Bewertungen 4.5 von 5 Sternen   \n3  146 Bewertungen 4.2 von 5 Sternen   \n4  143 Bewertungen 4.2 von 5 Sternen   \n\n                                               specs   price  \\\n0  256 GB, Awesome Graphite, 6.40\", Hybrid Dual S...   449.–   \n1  512 GB, Phantom Black, 6.80\", SIM + eSIM, 200 ...  1229.–   \n2  128 GB, Awesome Black, 6.50\", Dual SIM, 64 Mpx...   310.–   \n3         128 GB, Sea, 6.10\", SIM + eSIM, 64 Mpx, 5G   349.–   \n4    256 GB, Obsidian, 6.70\", SIM + eSIM, 50 Mpx, 5G  1049.–   \n\n  delivery_information                  scraped_at  \n0     morgen geliefert  2023-11-24 11:45:20.220938  \n1     morgen geliefert  2023-11-24 11:45:21.652983  \n2     morgen geliefert  2023-11-24 11:45:23.086290  \n3     morgen geliefert  2023-11-24 11:45:24.533107  \n4     morgen geliefert  2023-11-24 11:45:25.968087  ",
      "text/html": "<div>\n<style scoped>\n    .dataframe tbody tr th:only-of-type {\n        vertical-align: middle;\n    }\n\n    .dataframe tbody tr th {\n        vertical-align: top;\n    }\n\n    .dataframe thead th {\n        text-align: right;\n    }\n</style>\n<table border=\"1\" class=\"dataframe\">\n  <thead>\n    <tr style=\"text-align: right;\">\n      <th></th>\n      <th>nr</th>\n      <th>brand</th>\n      <th>name</th>\n      <th>ratings</th>\n      <th>specs</th>\n      <th>price</th>\n      <th>delivery_information</th>\n      <th>scraped_at</th>\n    </tr>\n  </thead>\n  <tbody>\n    <tr>\n      <th>0</th>\n      <td>1</td>\n      <td>Samsung</td>\n      <td>Galaxy A54 5G</td>\n      <td>311 Bewertungen 4.4 von 5 Sternen</td>\n      <td>256 GB, Awesome Graphite, 6.40\", Hybrid Dual S...</td>\n      <td>449.–</td>\n      <td>morgen geliefert</td>\n      <td>2023-11-24 11:45:20.220938</td>\n    </tr>\n    <tr>\n      <th>1</th>\n      <td>2</td>\n      <td>Samsung</td>\n      <td>Galaxy S23 Ultra</td>\n      <td>301 Bewertungen 4.6 von 5 Sternen</td>\n      <td>512 GB, Phantom Black, 6.80\", SIM + eSIM, 200 ...</td>\n      <td>1229.–</td>\n      <td>morgen geliefert</td>\n      <td>2023-11-24 11:45:21.652983</td>\n    </tr>\n    <tr>\n      <th>2</th>\n      <td>3</td>\n      <td>Samsung</td>\n      <td>Galaxy A53 5G Enterprise Edition</td>\n      <td>58 Bewertungen 4.5 von 5 Sternen</td>\n      <td>128 GB, Awesome Black, 6.50\", Dual SIM, 64 Mpx...</td>\n      <td>310.–</td>\n      <td>morgen geliefert</td>\n      <td>2023-11-24 11:45:23.086290</td>\n    </tr>\n    <tr>\n      <th>3</th>\n      <td>4</td>\n      <td>Google</td>\n      <td>Pixel 7a</td>\n      <td>146 Bewertungen 4.2 von 5 Sternen</td>\n      <td>128 GB, Sea, 6.10\", SIM + eSIM, 64 Mpx, 5G</td>\n      <td>349.–</td>\n      <td>morgen geliefert</td>\n      <td>2023-11-24 11:45:24.533107</td>\n    </tr>\n    <tr>\n      <th>4</th>\n      <td>5</td>\n      <td>Google</td>\n      <td>Pixel 8 Pro</td>\n      <td>143 Bewertungen 4.2 von 5 Sternen</td>\n      <td>256 GB, Obsidian, 6.70\", SIM + eSIM, 50 Mpx, 5G</td>\n      <td>1049.–</td>\n      <td>morgen geliefert</td>\n      <td>2023-11-24 11:45:25.968087</td>\n    </tr>\n  </tbody>\n</table>\n</div>"
     },
     "execution_count": 41,
     "metadata": {},
     "output_type": "execute_result"
    }
   ],
   "source": [
    "#have a look at the data\n",
    "df.head()"
   ],
   "metadata": {
    "collapsed": false,
    "ExecuteTime": {
     "end_time": "2023-12-16T21:06:31.570715968Z",
     "start_time": "2023-12-16T21:06:31.479456296Z"
    }
   },
   "id": "31ebd5be487e71c3"
  },
  {
   "cell_type": "code",
   "execution_count": 42,
   "outputs": [
    {
     "data": {
      "text/plain": "nr                       int64\nbrand                   object\nname                    object\nratings                 object\nspecs                   object\nprice                   object\ndelivery_information    object\nscraped_at              object\ndtype: object"
     },
     "execution_count": 42,
     "metadata": {},
     "output_type": "execute_result"
    }
   ],
   "source": [
    "#check the data types\n",
    "df.dtypes"
   ],
   "metadata": {
    "collapsed": false,
    "ExecuteTime": {
     "end_time": "2023-12-16T21:06:39.134745271Z",
     "start_time": "2023-12-16T21:06:39.072539941Z"
    }
   },
   "id": "8ea1bbe2eb8de6dc"
  },
  {
   "cell_type": "markdown",
   "source": [
    "# fix price data type"
   ],
   "metadata": {
    "collapsed": false
   },
   "id": "acc895d8d692f9a4"
  },
  {
   "cell_type": "code",
   "execution_count": 43,
   "outputs": [
    {
     "data": {
      "text/plain": "nr                        int64\nbrand                    object\nname                     object\nratings                  object\nspecs                    object\nprice                   float64\ndelivery_information     object\nscraped_at               object\ndtype: object"
     },
     "execution_count": 43,
     "metadata": {},
     "output_type": "execute_result"
    }
   ],
   "source": [
    "#remove the currency symbol\n",
    "df['price'] = df['price'].str.replace('.–', '')\n",
    "#convert to decimal\n",
    "df['price'] = df['price'].astype(float)\n",
    "\n",
    "df.dtypes"
   ],
   "metadata": {
    "collapsed": false,
    "ExecuteTime": {
     "end_time": "2023-12-16T21:06:51.305825414Z",
     "start_time": "2023-12-16T21:06:51.269009151Z"
    }
   },
   "id": "a7bea9f94586aa7f"
  },
  {
   "cell_type": "code",
   "execution_count": 44,
   "outputs": [
    {
     "data": {
      "text/plain": "nr                               int64\nbrand                           object\nname                            object\nratings                         object\nspecs                           object\nprice                          float64\ndelivery_information            object\nscraped_at              datetime64[ns]\ndtype: object"
     },
     "execution_count": 44,
     "metadata": {},
     "output_type": "execute_result"
    }
   ],
   "source": [
    "#convert scraped_at to date\n",
    "df['scraped_at'] = pd.to_datetime(df['scraped_at'])\n",
    "df.dtypes"
   ],
   "metadata": {
    "collapsed": false,
    "ExecuteTime": {
     "end_time": "2023-12-16T21:07:15.040049678Z",
     "start_time": "2023-12-16T21:07:14.968088993Z"
    }
   },
   "id": "2bf17711787ca9dc"
  },
  {
   "cell_type": "markdown",
   "source": [
    "# fix ratings column"
   ],
   "metadata": {
    "collapsed": false
   },
   "id": "e3fbf93c375dd84a"
  },
  {
   "cell_type": "code",
   "execution_count": 46,
   "outputs": [],
   "source": [
    "#regular expression to extract the rating\n",
    "df['extracted_rating'] = df['ratings'].str.extract(r'(\\d+\\.\\d+) von 5 Sternen')"
   ],
   "metadata": {
    "collapsed": false,
    "ExecuteTime": {
     "end_time": "2023-12-16T21:08:00.861754827Z",
     "start_time": "2023-12-16T21:08:00.716554926Z"
    }
   },
   "id": "d9daab5cb3ab452"
  },
  {
   "cell_type": "code",
   "execution_count": 47,
   "outputs": [],
   "source": [
    "#convert extracted ratings to object\n",
    "df['extracted_rating'] = df['extracted_rating'].astype(object)"
   ],
   "metadata": {
    "collapsed": false,
    "ExecuteTime": {
     "end_time": "2023-12-16T21:08:05.289762363Z",
     "start_time": "2023-12-16T21:08:05.204497283Z"
    }
   },
   "id": "32abee64e54f0004"
  },
  {
   "cell_type": "code",
   "execution_count": 48,
   "outputs": [
    {
     "data": {
      "text/plain": "extracted_rating\n0.0    2124\n4.5     574\n4.7     454\n4.6     440\n4.4     424\n4.3     389\n4.8     332\n5.0     307\n4.0     251\n4.2     196\n4.1     159\n3.9      95\n3.5      67\n3.8      59\n1.0      57\n3.0      56\n3.6      50\n3.7      49\n2.0      44\n4.9      36\n3.4      29\n3.3      27\n3.1      15\n3.2      14\n2.3      14\n2.5      13\n2.7       8\n2.6       6\n1.7       3\n2.9       3\n1.3       3\n2.4       3\nName: count, dtype: int64"
     },
     "execution_count": 48,
     "metadata": {},
     "output_type": "execute_result"
    }
   ],
   "source": [
    "#drop original ratings column\n",
    "df = df.drop('ratings', axis=1)\n",
    "\n",
    "df[\"extracted_rating\"].value_counts()"
   ],
   "metadata": {
    "collapsed": false,
    "ExecuteTime": {
     "end_time": "2023-12-16T21:08:11.654767593Z",
     "start_time": "2023-12-16T21:08:11.522116996Z"
    }
   },
   "id": "92fd90803c21c0d3"
  },
  {
   "cell_type": "code",
   "execution_count": 49,
   "outputs": [
    {
     "data": {
      "text/plain": "extracted_rating\nnot rated    2124\n4.5           574\n4.7           454\n4.6           440\n4.4           424\n4.3           389\n4.8           332\n5.0           307\n4.0           251\n4.2           196\n4.1           159\n3.9            95\n3.5            67\n3.8            59\n1.0            57\n3.0            56\n3.6            50\n3.7            49\n2.0            44\n4.9            36\n3.4            29\n3.3            27\n3.1            15\n3.2            14\n2.3            14\n2.5            13\n2.7             8\n2.6             6\n1.7             3\n2.9             3\n1.3             3\n2.4             3\nName: count, dtype: int64"
     },
     "execution_count": 49,
     "metadata": {},
     "output_type": "execute_result"
    }
   ],
   "source": [
    "#replace 0.0 zero rating with not rated\n",
    "df['extracted_rating'] = df['extracted_rating'].replace('0.0', 'not rated')\n",
    "\n",
    "df[\"extracted_rating\"].value_counts()"
   ],
   "metadata": {
    "collapsed": false,
    "ExecuteTime": {
     "end_time": "2023-12-16T21:08:28.028746794Z",
     "start_time": "2023-12-16T21:08:27.972213180Z"
    }
   },
   "id": "2a5fa4f652530a9f"
  },
  {
   "cell_type": "markdown",
   "source": [
    "# missing values"
   ],
   "metadata": {
    "collapsed": false
   },
   "id": "c73d4d37b640c539"
  },
  {
   "cell_type": "code",
   "execution_count": 50,
   "outputs": [
    {
     "data": {
      "text/plain": "nr                        0\nbrand                     3\nname                      1\nspecs                   238\nprice                     1\ndelivery_information    179\nscraped_at                0\nextracted_rating          1\ndtype: int64"
     },
     "execution_count": 50,
     "metadata": {},
     "output_type": "execute_result"
    }
   ],
   "source": [
    "#check number of missing values\n",
    "df.isnull().sum()\n",
    "#there seem to be quite a few missing values, especially for specs and delivery information"
   ],
   "metadata": {
    "collapsed": false,
    "ExecuteTime": {
     "end_time": "2023-12-16T21:08:36.141903403Z",
     "start_time": "2023-12-16T21:08:36.110965453Z"
    }
   },
   "id": "8b2c1a64c9252726"
  },
  {
   "cell_type": "code",
   "execution_count": 51,
   "outputs": [
    {
     "data": {
      "text/plain": "        nr      brand                                               name  \\\n751    752   Motorola  ThinkPhone - 5G smartphone - dual-SIM - RAM 8 ...   \n953    954        NaN           52004 - Schwarz - Mobiltelefon - Schwarz   \n1106  1107    Ulefone                      NOTE 16 PRO 8+128GB BLACK OEM   \n1162  1163    Samsung  Galaxy S22 SM-S901B 15,5 cm (6.1\" ) Dual-SIM 5...   \n1186  1187        ZTE        BLADE V40 VITA 4+128GB DS 4G PINE GREEN OEM   \n...    ...        ...                                                ...   \n1967  1968        TCL                   30 5G DEAMY BLUE 128GO (sans HS)   \n1968  1969        TCL                    30 5G TECH BLACK 64GO (sans HS)   \n2019  2020  PhoneLook        Hülle Silikon schwarz Purple Pink Pineapple   \n2020  2021  PhoneLook           Hülle Silikon schwarz Skulls and flowers   \n2021  2022  PhoneLook           Hülle Silikon schwarz Skulls and flowers   \n\n     specs  price                         delivery_information  \\\n751    NaN  656.0                             morgen geliefert   \n953    NaN   23.1                             morgen geliefert   \n1106   NaN  222.0   Zwischen Fr. 1.12. und Di. 5.12. geliefert   \n1162   NaN  699.0                             morgen geliefert   \n1186   NaN  157.0  Zwischen Mi. 6.12. und Di. 12.12. geliefert   \n...    ...    ...                                          ...   \n1967   NaN  308.0   Zwischen 11.1.2024 und 20.1.2024 geliefert   \n1968   NaN  281.0   Zwischen 11.1.2024 und 20.1.2024 geliefert   \n2019   NaN   29.9   Zwischen Mi. 6.12. und Do. 7.12. geliefert   \n2020   NaN   29.9   Zwischen Mi. 6.12. und Do. 7.12. geliefert   \n2021   NaN   29.9   Zwischen Mi. 6.12. und Do. 7.12. geliefert   \n\n                     scraped_at extracted_rating  \n751  2023-11-24 12:04:11.181377        not rated  \n953  2023-11-24 12:09:33.204296        not rated  \n1106 2023-11-24 12:13:36.406830        not rated  \n1162 2023-11-24 12:15:10.492780        not rated  \n1186 2023-11-24 12:15:53.117374        not rated  \n...                         ...              ...  \n1967 2023-12-04 09:27:02.073108        not rated  \n1968 2023-12-04 09:27:05.687827        not rated  \n2019 2023-12-04 09:28:29.183486        not rated  \n2020 2023-12-04 09:28:32.786150        not rated  \n2021 2023-12-04 09:28:36.415377        not rated  \n\n[238 rows x 8 columns]",
      "text/html": "<div>\n<style scoped>\n    .dataframe tbody tr th:only-of-type {\n        vertical-align: middle;\n    }\n\n    .dataframe tbody tr th {\n        vertical-align: top;\n    }\n\n    .dataframe thead th {\n        text-align: right;\n    }\n</style>\n<table border=\"1\" class=\"dataframe\">\n  <thead>\n    <tr style=\"text-align: right;\">\n      <th></th>\n      <th>nr</th>\n      <th>brand</th>\n      <th>name</th>\n      <th>specs</th>\n      <th>price</th>\n      <th>delivery_information</th>\n      <th>scraped_at</th>\n      <th>extracted_rating</th>\n    </tr>\n  </thead>\n  <tbody>\n    <tr>\n      <th>751</th>\n      <td>752</td>\n      <td>Motorola</td>\n      <td>ThinkPhone - 5G smartphone - dual-SIM - RAM 8 ...</td>\n      <td>NaN</td>\n      <td>656.0</td>\n      <td>morgen geliefert</td>\n      <td>2023-11-24 12:04:11.181377</td>\n      <td>not rated</td>\n    </tr>\n    <tr>\n      <th>953</th>\n      <td>954</td>\n      <td>NaN</td>\n      <td>52004 - Schwarz - Mobiltelefon - Schwarz</td>\n      <td>NaN</td>\n      <td>23.1</td>\n      <td>morgen geliefert</td>\n      <td>2023-11-24 12:09:33.204296</td>\n      <td>not rated</td>\n    </tr>\n    <tr>\n      <th>1106</th>\n      <td>1107</td>\n      <td>Ulefone</td>\n      <td>NOTE 16 PRO 8+128GB BLACK OEM</td>\n      <td>NaN</td>\n      <td>222.0</td>\n      <td>Zwischen Fr. 1.12. und Di. 5.12. geliefert</td>\n      <td>2023-11-24 12:13:36.406830</td>\n      <td>not rated</td>\n    </tr>\n    <tr>\n      <th>1162</th>\n      <td>1163</td>\n      <td>Samsung</td>\n      <td>Galaxy S22 SM-S901B 15,5 cm (6.1\" ) Dual-SIM 5...</td>\n      <td>NaN</td>\n      <td>699.0</td>\n      <td>morgen geliefert</td>\n      <td>2023-11-24 12:15:10.492780</td>\n      <td>not rated</td>\n    </tr>\n    <tr>\n      <th>1186</th>\n      <td>1187</td>\n      <td>ZTE</td>\n      <td>BLADE V40 VITA 4+128GB DS 4G PINE GREEN OEM</td>\n      <td>NaN</td>\n      <td>157.0</td>\n      <td>Zwischen Mi. 6.12. und Di. 12.12. geliefert</td>\n      <td>2023-11-24 12:15:53.117374</td>\n      <td>not rated</td>\n    </tr>\n    <tr>\n      <th>...</th>\n      <td>...</td>\n      <td>...</td>\n      <td>...</td>\n      <td>...</td>\n      <td>...</td>\n      <td>...</td>\n      <td>...</td>\n      <td>...</td>\n    </tr>\n    <tr>\n      <th>1967</th>\n      <td>1968</td>\n      <td>TCL</td>\n      <td>30 5G DEAMY BLUE 128GO (sans HS)</td>\n      <td>NaN</td>\n      <td>308.0</td>\n      <td>Zwischen 11.1.2024 und 20.1.2024 geliefert</td>\n      <td>2023-12-04 09:27:02.073108</td>\n      <td>not rated</td>\n    </tr>\n    <tr>\n      <th>1968</th>\n      <td>1969</td>\n      <td>TCL</td>\n      <td>30 5G TECH BLACK 64GO (sans HS)</td>\n      <td>NaN</td>\n      <td>281.0</td>\n      <td>Zwischen 11.1.2024 und 20.1.2024 geliefert</td>\n      <td>2023-12-04 09:27:05.687827</td>\n      <td>not rated</td>\n    </tr>\n    <tr>\n      <th>2019</th>\n      <td>2020</td>\n      <td>PhoneLook</td>\n      <td>Hülle Silikon schwarz Purple Pink Pineapple</td>\n      <td>NaN</td>\n      <td>29.9</td>\n      <td>Zwischen Mi. 6.12. und Do. 7.12. geliefert</td>\n      <td>2023-12-04 09:28:29.183486</td>\n      <td>not rated</td>\n    </tr>\n    <tr>\n      <th>2020</th>\n      <td>2021</td>\n      <td>PhoneLook</td>\n      <td>Hülle Silikon schwarz Skulls and flowers</td>\n      <td>NaN</td>\n      <td>29.9</td>\n      <td>Zwischen Mi. 6.12. und Do. 7.12. geliefert</td>\n      <td>2023-12-04 09:28:32.786150</td>\n      <td>not rated</td>\n    </tr>\n    <tr>\n      <th>2021</th>\n      <td>2022</td>\n      <td>PhoneLook</td>\n      <td>Hülle Silikon schwarz Skulls and flowers</td>\n      <td>NaN</td>\n      <td>29.9</td>\n      <td>Zwischen Mi. 6.12. und Do. 7.12. geliefert</td>\n      <td>2023-12-04 09:28:36.415377</td>\n      <td>not rated</td>\n    </tr>\n  </tbody>\n</table>\n<p>238 rows × 8 columns</p>\n</div>"
     },
     "execution_count": 51,
     "metadata": {},
     "output_type": "execute_result"
    }
   ],
   "source": [
    "#check where the specs are null\n",
    "df[df['specs'].isnull()]"
   ],
   "metadata": {
    "collapsed": false,
    "ExecuteTime": {
     "end_time": "2023-12-16T21:08:56.368281090Z",
     "start_time": "2023-12-16T21:08:56.272983924Z"
    }
   },
   "id": "12b83305321c3770"
  },
  {
   "cell_type": "code",
   "execution_count": 52,
   "outputs": [
    {
     "data": {
      "text/plain": "Empty DataFrame\nColumns: [nr, brand, name, specs, price, delivery_information, scraped_at, extracted_rating]\nIndex: []",
      "text/html": "<div>\n<style scoped>\n    .dataframe tbody tr th:only-of-type {\n        vertical-align: middle;\n    }\n\n    .dataframe tbody tr th {\n        vertical-align: top;\n    }\n\n    .dataframe thead th {\n        text-align: right;\n    }\n</style>\n<table border=\"1\" class=\"dataframe\">\n  <thead>\n    <tr style=\"text-align: right;\">\n      <th></th>\n      <th>nr</th>\n      <th>brand</th>\n      <th>name</th>\n      <th>specs</th>\n      <th>price</th>\n      <th>delivery_information</th>\n      <th>scraped_at</th>\n      <th>extracted_rating</th>\n    </tr>\n  </thead>\n  <tbody>\n  </tbody>\n</table>\n</div>"
     },
     "execution_count": 52,
     "metadata": {},
     "output_type": "execute_result"
    }
   ],
   "source": [
    "#there are some phones with unknown/missing brand, we will remove this\n",
    "df = df[df['brand'].notnull()].copy()\n",
    "\n",
    "df[df['brand'].isnull()]"
   ],
   "metadata": {
    "collapsed": false,
    "ExecuteTime": {
     "end_time": "2023-12-16T21:09:27.804486424Z",
     "start_time": "2023-12-16T21:09:27.740604492Z"
    }
   },
   "id": "7496f6594e3e5448"
  },
  {
   "cell_type": "code",
   "execution_count": 53,
   "outputs": [],
   "source": [
    "#we will also remove the phones with missing specs, as we will not be able to use them\n",
    "#there is no real structre recognizable in the specs -> we would need to fix this manually for each entry\n",
    "df = df[df['specs'].notnull()].copy()"
   ],
   "metadata": {
    "collapsed": false,
    "ExecuteTime": {
     "end_time": "2023-12-16T21:09:37.092577829Z",
     "start_time": "2023-12-16T21:09:37.071836165Z"
    }
   },
   "id": "c961a2b7b7524262"
  },
  {
   "cell_type": "code",
   "execution_count": 54,
   "outputs": [
    {
     "data": {
      "text/plain": "nr                        0\nbrand                     0\nname                      0\nspecs                     0\nprice                     0\ndelivery_information    175\nscraped_at                0\nextracted_rating          0\ndtype: int64"
     },
     "execution_count": 54,
     "metadata": {},
     "output_type": "execute_result"
    }
   ],
   "source": [
    "#check missing values again\n",
    "df.isnull().sum() #only delivery information is missing now (we will deal with this later)"
   ],
   "metadata": {
    "collapsed": false,
    "ExecuteTime": {
     "end_time": "2023-12-16T21:09:40.475599041Z",
     "start_time": "2023-12-16T21:09:40.385482925Z"
    }
   },
   "id": "f8d3f39b9757dd3e"
  },
  {
   "cell_type": "markdown",
   "source": [
    "# get phone storage"
   ],
   "metadata": {
    "collapsed": false
   },
   "id": "372643f16efc0006"
  },
  {
   "cell_type": "code",
   "execution_count": 55,
   "outputs": [
    {
     "data": {
      "text/plain": "extracted_gb\n128.0     2173\n256.0     1562\n64.0       926\n32.0       523\n512.0      410\n16.0        82\n1000.0      77\n3.0         55\n4.0         20\n8.0         20\n0.0         10\n2.0          5\n13.0         4\n10.0         2\nName: count, dtype: int64"
     },
     "execution_count": 55,
     "metadata": {},
     "output_type": "execute_result"
    }
   ],
   "source": [
    "# Regular expression to extract the GB value\n",
    "df['extracted_gb'] = df['specs'].str.extract(r'(\\d+)\\s*GB')\n",
    "\n",
    "# Convert extracted GB values to numeric\n",
    "df['extracted_gb'] = pd.to_numeric(df['extracted_gb'])\n",
    "\n",
    "df[\"extracted_gb\"].value_counts()"
   ],
   "metadata": {
    "collapsed": false,
    "ExecuteTime": {
     "end_time": "2023-12-16T21:10:01.581775732Z",
     "start_time": "2023-12-16T21:10:01.438842575Z"
    }
   },
   "id": "80d901ff4ffcb50"
  },
  {
   "cell_type": "markdown",
   "source": [
    "# get phone color"
   ],
   "metadata": {
    "collapsed": false
   },
   "id": "17218bf95a28f395"
  },
  {
   "cell_type": "code",
   "execution_count": 57,
   "outputs": [
    {
     "data": {
      "text/plain": "        nr           brand                                               name  \\\n555    556          Xiaomi                                     Redmi Note 12s   \n827    828             ZTE                               BLADE L9 1+32GB BLUE   \n860    861            POCO                    M4 4+64GB DS 5G POCO YELLOW OEM   \n1111  1112            Onda                                   F22 CLS101 BLACK   \n1149  1150         Emporia                                      CO2 Messgerät   \n...    ...             ...                                                ...   \n2000  2001       PhoneLook  Hülle Gummi Gel Bumper mit extra Schutz für Ec...   \n2018  2019  Hammer Fitness        Iron 3 4G LTE + 9H Glas-Folie: Starter Pack   \n2022  2023  Hammer Fitness  Energy 2 Eco 4G LTE + 9H Glas-Folie : Starter ...   \n2023  2024  Hammer Fitness    Explorer Plus Eco 4G + Powerbank : Starter Pack   \n2035  2036          Xiaomi    Poco F5 5G 8/256GB Dual-SIM Smartphone white EU   \n\n                specs   price                          delivery_information  \\\n555              Grün  199.00                              morgen geliefert   \n827             32 GB   41.00   Zwischen Mi. 6.12. und Di. 12.12. geliefert   \n860             64 GB  119.00                              morgen geliefert   \n1111  Black, Dual SIM   27.90  Zwischen Sa. 25.11. und Do. 30.11. geliefert   \n1149          Schwarz   74.90                                           NaN   \n...               ...     ...                                           ...   \n2000      Transparent   15.90    Zwischen Mi. 6.12. und Do. 7.12. geliefert   \n2018       Orange, 4G  206.00   Zwischen Mi. 6.12. und Mo. 11.12. geliefert   \n2022      Schwarz, 4G  216.00   Zwischen Mi. 6.12. und Mo. 11.12. geliefert   \n2023       Orange, 4G  322.00   Zwischen Mi. 6.12. und Mo. 11.12. geliefert   \n2035            White  461.32   Zwischen Do. 7.12. und Mi. 13.12. geliefert   \n\n                     scraped_at extracted_rating  extracted_gb phone_color  \n555  2023-11-24 11:59:08.843548        not rated           NaN         NaN  \n827  2023-11-24 12:06:10.958520        not rated          32.0         NaN  \n860  2023-11-24 12:07:01.524810        not rated          64.0         NaN  \n1111 2023-11-24 12:13:44.321822        not rated           NaN         NaN  \n1149 2023-11-24 12:14:47.212335        not rated           NaN         NaN  \n...                         ...              ...           ...         ...  \n2000 2023-12-04 09:27:56.193411        not rated           NaN         NaN  \n2018 2023-12-04 09:28:25.564938        not rated           NaN         NaN  \n2022 2023-12-04 09:28:37.917539        not rated           NaN         NaN  \n2023 2023-12-04 09:28:39.415280        not rated           NaN         NaN  \n2035 2023-12-04 09:28:57.482711        not rated           NaN         NaN  \n\n[232 rows x 10 columns]",
      "text/html": "<div>\n<style scoped>\n    .dataframe tbody tr th:only-of-type {\n        vertical-align: middle;\n    }\n\n    .dataframe tbody tr th {\n        vertical-align: top;\n    }\n\n    .dataframe thead th {\n        text-align: right;\n    }\n</style>\n<table border=\"1\" class=\"dataframe\">\n  <thead>\n    <tr style=\"text-align: right;\">\n      <th></th>\n      <th>nr</th>\n      <th>brand</th>\n      <th>name</th>\n      <th>specs</th>\n      <th>price</th>\n      <th>delivery_information</th>\n      <th>scraped_at</th>\n      <th>extracted_rating</th>\n      <th>extracted_gb</th>\n      <th>phone_color</th>\n    </tr>\n  </thead>\n  <tbody>\n    <tr>\n      <th>555</th>\n      <td>556</td>\n      <td>Xiaomi</td>\n      <td>Redmi Note 12s</td>\n      <td>Grün</td>\n      <td>199.00</td>\n      <td>morgen geliefert</td>\n      <td>2023-11-24 11:59:08.843548</td>\n      <td>not rated</td>\n      <td>NaN</td>\n      <td>NaN</td>\n    </tr>\n    <tr>\n      <th>827</th>\n      <td>828</td>\n      <td>ZTE</td>\n      <td>BLADE L9 1+32GB BLUE</td>\n      <td>32 GB</td>\n      <td>41.00</td>\n      <td>Zwischen Mi. 6.12. und Di. 12.12. geliefert</td>\n      <td>2023-11-24 12:06:10.958520</td>\n      <td>not rated</td>\n      <td>32.0</td>\n      <td>NaN</td>\n    </tr>\n    <tr>\n      <th>860</th>\n      <td>861</td>\n      <td>POCO</td>\n      <td>M4 4+64GB DS 5G POCO YELLOW OEM</td>\n      <td>64 GB</td>\n      <td>119.00</td>\n      <td>morgen geliefert</td>\n      <td>2023-11-24 12:07:01.524810</td>\n      <td>not rated</td>\n      <td>64.0</td>\n      <td>NaN</td>\n    </tr>\n    <tr>\n      <th>1111</th>\n      <td>1112</td>\n      <td>Onda</td>\n      <td>F22 CLS101 BLACK</td>\n      <td>Black, Dual SIM</td>\n      <td>27.90</td>\n      <td>Zwischen Sa. 25.11. und Do. 30.11. geliefert</td>\n      <td>2023-11-24 12:13:44.321822</td>\n      <td>not rated</td>\n      <td>NaN</td>\n      <td>NaN</td>\n    </tr>\n    <tr>\n      <th>1149</th>\n      <td>1150</td>\n      <td>Emporia</td>\n      <td>CO2 Messgerät</td>\n      <td>Schwarz</td>\n      <td>74.90</td>\n      <td>NaN</td>\n      <td>2023-11-24 12:14:47.212335</td>\n      <td>not rated</td>\n      <td>NaN</td>\n      <td>NaN</td>\n    </tr>\n    <tr>\n      <th>...</th>\n      <td>...</td>\n      <td>...</td>\n      <td>...</td>\n      <td>...</td>\n      <td>...</td>\n      <td>...</td>\n      <td>...</td>\n      <td>...</td>\n      <td>...</td>\n      <td>...</td>\n    </tr>\n    <tr>\n      <th>2000</th>\n      <td>2001</td>\n      <td>PhoneLook</td>\n      <td>Hülle Gummi Gel Bumper mit extra Schutz für Ec...</td>\n      <td>Transparent</td>\n      <td>15.90</td>\n      <td>Zwischen Mi. 6.12. und Do. 7.12. geliefert</td>\n      <td>2023-12-04 09:27:56.193411</td>\n      <td>not rated</td>\n      <td>NaN</td>\n      <td>NaN</td>\n    </tr>\n    <tr>\n      <th>2018</th>\n      <td>2019</td>\n      <td>Hammer Fitness</td>\n      <td>Iron 3 4G LTE + 9H Glas-Folie: Starter Pack</td>\n      <td>Orange, 4G</td>\n      <td>206.00</td>\n      <td>Zwischen Mi. 6.12. und Mo. 11.12. geliefert</td>\n      <td>2023-12-04 09:28:25.564938</td>\n      <td>not rated</td>\n      <td>NaN</td>\n      <td>NaN</td>\n    </tr>\n    <tr>\n      <th>2022</th>\n      <td>2023</td>\n      <td>Hammer Fitness</td>\n      <td>Energy 2 Eco 4G LTE + 9H Glas-Folie : Starter ...</td>\n      <td>Schwarz, 4G</td>\n      <td>216.00</td>\n      <td>Zwischen Mi. 6.12. und Mo. 11.12. geliefert</td>\n      <td>2023-12-04 09:28:37.917539</td>\n      <td>not rated</td>\n      <td>NaN</td>\n      <td>NaN</td>\n    </tr>\n    <tr>\n      <th>2023</th>\n      <td>2024</td>\n      <td>Hammer Fitness</td>\n      <td>Explorer Plus Eco 4G + Powerbank : Starter Pack</td>\n      <td>Orange, 4G</td>\n      <td>322.00</td>\n      <td>Zwischen Mi. 6.12. und Mo. 11.12. geliefert</td>\n      <td>2023-12-04 09:28:39.415280</td>\n      <td>not rated</td>\n      <td>NaN</td>\n      <td>NaN</td>\n    </tr>\n    <tr>\n      <th>2035</th>\n      <td>2036</td>\n      <td>Xiaomi</td>\n      <td>Poco F5 5G 8/256GB Dual-SIM Smartphone white EU</td>\n      <td>White</td>\n      <td>461.32</td>\n      <td>Zwischen Do. 7.12. und Mi. 13.12. geliefert</td>\n      <td>2023-12-04 09:28:57.482711</td>\n      <td>not rated</td>\n      <td>NaN</td>\n      <td>NaN</td>\n    </tr>\n  </tbody>\n</table>\n<p>232 rows × 10 columns</p>\n</div>"
     },
     "execution_count": 57,
     "metadata": {},
     "output_type": "execute_result"
    }
   ],
   "source": [
    "df[\"phone_color\"] = df['specs'].str.extract(r'GB,\\s*([^,]+)')\n",
    "\n",
    "df[df[\"phone_color\"].isnull()]"
   ],
   "metadata": {
    "collapsed": false,
    "ExecuteTime": {
     "end_time": "2023-12-16T21:10:42.880674231Z",
     "start_time": "2023-12-16T21:10:42.764523041Z"
    }
   },
   "id": "f9fc642d7f9a3a4a"
  },
  {
   "cell_type": "code",
   "execution_count": 58,
   "outputs": [
    {
     "data": {
      "text/plain": "nr                        0\nbrand                     0\nname                      0\nspecs                     0\nprice                     0\ndelivery_information    175\nscraped_at                0\nextracted_rating          0\nextracted_gb            195\nphone_color             232\ndtype: int64"
     },
     "execution_count": 58,
     "metadata": {},
     "output_type": "execute_result"
    }
   ],
   "source": [
    "df.isnull().sum()\n",
    "#there are still phones missing the GB or phone color, we will remove them since we need this information to later on merge the data with the other data sources, additionally these phones are not very popular (do not have any ratings)"
   ],
   "metadata": {
    "collapsed": false,
    "ExecuteTime": {
     "end_time": "2023-12-16T21:10:54.154898894Z",
     "start_time": "2023-12-16T21:10:54.077359031Z"
    }
   },
   "id": "2f02500b98462987"
  },
  {
   "cell_type": "code",
   "execution_count": 59,
   "outputs": [],
   "source": [
    "#remove missing GB phones\n",
    "df = df[df['extracted_gb'].notnull()].copy()\n",
    "#remove missing phone color phones\n",
    "df = df[df['phone_color'].notnull()].copy()"
   ],
   "metadata": {
    "collapsed": false,
    "ExecuteTime": {
     "end_time": "2023-12-16T21:11:21.154978164Z",
     "start_time": "2023-12-16T21:11:21.119980717Z"
    }
   },
   "id": "6b8dba276f74f63a"
  },
  {
   "cell_type": "markdown",
   "source": [
    "# replace missing values in the delivery information\n",
    "impute with mode for each brand (because sometimes the hover over window did not work during scraping)"
   ],
   "metadata": {
    "collapsed": false
   },
   "id": "97e2ad5d4f5e1ff"
  },
  {
   "cell_type": "code",
   "execution_count": 62,
   "outputs": [],
   "source": [
    "#helper function to impute missing values with the mode\n",
    "def impute_with_mode(group):\n",
    "    try:\n",
    "        mode = group['delivery_information'].mode()[0]\n",
    "    except KeyError:\n",
    "        return group\n",
    "    group['delivery_information'].fillna(mode, inplace=True)\n",
    "    return group\n",
    "\n",
    "# Apply the function to each group\n",
    "df = df.groupby('brand').apply(impute_with_mode)"
   ],
   "metadata": {
    "collapsed": false,
    "ExecuteTime": {
     "end_time": "2023-12-16T21:12:07.595503060Z",
     "start_time": "2023-12-16T21:12:07.447339242Z"
    }
   },
   "id": "d43386514afde39"
  },
  {
   "cell_type": "code",
   "execution_count": 63,
   "outputs": [
    {
     "data": {
      "text/plain": "                      nr          brand            name  \\\nbrand                                                     \nCarbon Mobile 2119  2120  Carbon Mobile  Carbon 1 MK II   \n              2010  2011  Carbon Mobile  Carbon 1 MK II   \n              1740  1741  Carbon Mobile  Carbon 1 MK II   \n\n                                                                specs  price  \\\nbrand                                                                          \nCarbon Mobile 2119  256 GB, Original Carbon Fiber, 6.01\", Dual SIM...  799.0   \n              2010  256 GB, Original Carbon Fiber, 6.01\", Dual SIM...  799.0   \n              1740  256 GB, Original Carbon Fiber, 6.01\", Dual SIM...  799.0   \n\n                   delivery_information                 scraped_at  \\\nbrand                                                                \nCarbon Mobile 2119                  NaN 2023-11-24 12:45:11.481626   \n              2010                  NaN 2023-11-27 10:10:51.759464   \n              1740                  NaN 2023-12-04 09:19:58.733304   \n\n                   extracted_rating  extracted_gb            phone_color  \nbrand                                                                     \nCarbon Mobile 2119              2.4         256.0  Original Carbon Fiber  \n              2010              2.4         256.0  Original Carbon Fiber  \n              1740              2.4         256.0  Original Carbon Fiber  ",
      "text/html": "<div>\n<style scoped>\n    .dataframe tbody tr th:only-of-type {\n        vertical-align: middle;\n    }\n\n    .dataframe tbody tr th {\n        vertical-align: top;\n    }\n\n    .dataframe thead th {\n        text-align: right;\n    }\n</style>\n<table border=\"1\" class=\"dataframe\">\n  <thead>\n    <tr style=\"text-align: right;\">\n      <th></th>\n      <th></th>\n      <th>nr</th>\n      <th>brand</th>\n      <th>name</th>\n      <th>specs</th>\n      <th>price</th>\n      <th>delivery_information</th>\n      <th>scraped_at</th>\n      <th>extracted_rating</th>\n      <th>extracted_gb</th>\n      <th>phone_color</th>\n    </tr>\n    <tr>\n      <th>brand</th>\n      <th></th>\n      <th></th>\n      <th></th>\n      <th></th>\n      <th></th>\n      <th></th>\n      <th></th>\n      <th></th>\n      <th></th>\n      <th></th>\n      <th></th>\n    </tr>\n  </thead>\n  <tbody>\n    <tr>\n      <th rowspan=\"3\" valign=\"top\">Carbon Mobile</th>\n      <th>2119</th>\n      <td>2120</td>\n      <td>Carbon Mobile</td>\n      <td>Carbon 1 MK II</td>\n      <td>256 GB, Original Carbon Fiber, 6.01\", Dual SIM...</td>\n      <td>799.0</td>\n      <td>NaN</td>\n      <td>2023-11-24 12:45:11.481626</td>\n      <td>2.4</td>\n      <td>256.0</td>\n      <td>Original Carbon Fiber</td>\n    </tr>\n    <tr>\n      <th>2010</th>\n      <td>2011</td>\n      <td>Carbon Mobile</td>\n      <td>Carbon 1 MK II</td>\n      <td>256 GB, Original Carbon Fiber, 6.01\", Dual SIM...</td>\n      <td>799.0</td>\n      <td>NaN</td>\n      <td>2023-11-27 10:10:51.759464</td>\n      <td>2.4</td>\n      <td>256.0</td>\n      <td>Original Carbon Fiber</td>\n    </tr>\n    <tr>\n      <th>1740</th>\n      <td>1741</td>\n      <td>Carbon Mobile</td>\n      <td>Carbon 1 MK II</td>\n      <td>256 GB, Original Carbon Fiber, 6.01\", Dual SIM...</td>\n      <td>799.0</td>\n      <td>NaN</td>\n      <td>2023-12-04 09:19:58.733304</td>\n      <td>2.4</td>\n      <td>256.0</td>\n      <td>Original Carbon Fiber</td>\n    </tr>\n  </tbody>\n</table>\n</div>"
     },
     "execution_count": 63,
     "metadata": {},
     "output_type": "execute_result"
    }
   ],
   "source": [
    "df[df[\"delivery_information\"].isnull()]\n",
    "#there is still a phone with missing delivery information, we will remove this"
   ],
   "metadata": {
    "collapsed": false,
    "ExecuteTime": {
     "end_time": "2023-12-16T21:12:10.178666734Z",
     "start_time": "2023-12-16T21:12:10.029943232Z"
    }
   },
   "id": "ab9bf15cc7bed9a1"
  },
  {
   "cell_type": "code",
   "execution_count": 64,
   "outputs": [],
   "source": [
    "#drop the remaining null's\n",
    "df = df[df['delivery_information'].notnull()].copy()"
   ],
   "metadata": {
    "collapsed": false,
    "ExecuteTime": {
     "end_time": "2023-12-16T21:12:32.011155622Z",
     "start_time": "2023-12-16T21:12:31.972251941Z"
    }
   },
   "id": "85395dabcd8d8d97"
  },
  {
   "cell_type": "code",
   "execution_count": 65,
   "outputs": [
    {
     "data": {
      "text/plain": "Index(['nr', 'brand', 'name', 'specs', 'price', 'delivery_information',\n       'scraped_at', 'extracted_rating', 'extracted_gb', 'phone_color'],\n      dtype='object')"
     },
     "execution_count": 65,
     "metadata": {},
     "output_type": "execute_result"
    }
   ],
   "source": [
    "#reset the index\n",
    "df = df.reset_index(drop=True)\n",
    "df.columns"
   ],
   "metadata": {
    "collapsed": false,
    "ExecuteTime": {
     "end_time": "2023-12-16T21:12:39.754610501Z",
     "start_time": "2023-12-16T21:12:39.686052971Z"
    }
   },
   "id": "622fecd450f7611d"
  },
  {
   "cell_type": "code",
   "execution_count": 66,
   "outputs": [
    {
     "data": {
      "text/plain": "        nr   brand                                               name  \\\n0       38    ASUS                                        ROG Phone 6   \n1      108    ASUS                ROG Phone 6 Diablo Immortal Edition   \n2      137    ASUS                                         Zenfone 10   \n3      202    ASUS                ROG Phone 6 Diablo Immortal Edition   \n4      208    ASUS                                        ROG Phone 7   \n...    ...     ...                                                ...   \n5824  1698  realme                                                C35   \n5825  1717  realme                                                 9i   \n5826  1809  realme                      C33 4/64GB Dual SIM Night Sea   \n5827  1999  realme  Narzo 50A Prime 64GB Flash Black [16.7cm (6.6 ...   \n5828  2015  realme                                                  9   \n\n                                                  specs    price  \\\n0     512 GB, Phantom Black, 6.78\", Dual SIM, 50 Mpx...   599.00   \n1     512 GB, Diablo Immortal Edition, 6.78\", Dual S...   913.08   \n2     256 GB, Midnight Black, 5.90\", Dual SIM, 50 Mp...   649.00   \n3     512 GB, Diablo Immortal Edition, 6.78\", Dual S...   913.08   \n4      512 GB, Storm White, 6.78\", Dual SIM, 50 Mpx, 5G  1040.00   \n...                                                 ...      ...   \n5824  64 GB, Glowing green, 6.60\", Hybrid Dual SIM, ...   149.00   \n5825  64 GB, Prism Blue, 6.60\", Dual SIM + SD, 50 Mp...   114.00   \n5826          64 GB, Black, 6.50\", Dual SIM, 50 Mpx, 4G   115.00   \n5827                     4 GB, Schwarz, Hybrid Dual SIM   211.00   \n5828  128 GB, Stargaze White, 6.60\", Hybrid Dual SIM...   170.00   \n\n                              delivery_information                 scraped_at  \\\n0                                 morgen geliefert 2023-11-24 11:46:14.669771   \n1      Zwischen Mi. 29.11. und Fr. 1.12. geliefert 2023-11-24 11:47:57.025040   \n2                                 morgen geliefert 2023-11-24 11:48:38.808052   \n3      Zwischen Mi. 29.11. und Fr. 1.12. geliefert 2023-11-24 11:50:14.230374   \n4                                 morgen geliefert 2023-11-24 11:50:22.980236   \n...                                            ...                        ...   \n5824   Zwischen Sa. 9.12. und Fr. 15.12. geliefert 2023-12-04 09:18:36.329941   \n5825  Zwischen Mi. 13.12. und Fr. 15.12. geliefert 2023-12-04 09:19:11.318949   \n5826  Zwischen Fr. 15.12. und Di. 19.12. geliefert 2023-12-04 09:22:05.725023   \n5827   Zwischen Do. 7.12. und Mo. 11.12. geliefert 2023-12-04 09:27:53.159054   \n5828     Zwischen 10.1.2024 und 1.2.2024 geliefert 2023-12-04 09:28:17.549791   \n\n     extracted_rating  extracted_gb              phone_color        date  \n0                 4.4         512.0            Phantom Black  2023-11-24  \n1                 3.5         512.0  Diablo Immortal Edition  2023-11-24  \n2                 3.6         256.0           Midnight Black  2023-11-24  \n3                 3.5         512.0  Diablo Immortal Edition  2023-11-24  \n4                 4.5         512.0              Storm White  2023-11-24  \n...               ...           ...                      ...         ...  \n5824              5.0          64.0            Glowing green  2023-12-04  \n5825              5.0          64.0               Prism Blue  2023-12-04  \n5826        not rated          64.0                    Black  2023-12-04  \n5827        not rated           4.0                  Schwarz  2023-12-04  \n5828              4.0         128.0           Stargaze White  2023-12-04  \n\n[5829 rows x 11 columns]",
      "text/html": "<div>\n<style scoped>\n    .dataframe tbody tr th:only-of-type {\n        vertical-align: middle;\n    }\n\n    .dataframe tbody tr th {\n        vertical-align: top;\n    }\n\n    .dataframe thead th {\n        text-align: right;\n    }\n</style>\n<table border=\"1\" class=\"dataframe\">\n  <thead>\n    <tr style=\"text-align: right;\">\n      <th></th>\n      <th>nr</th>\n      <th>brand</th>\n      <th>name</th>\n      <th>specs</th>\n      <th>price</th>\n      <th>delivery_information</th>\n      <th>scraped_at</th>\n      <th>extracted_rating</th>\n      <th>extracted_gb</th>\n      <th>phone_color</th>\n      <th>date</th>\n    </tr>\n  </thead>\n  <tbody>\n    <tr>\n      <th>0</th>\n      <td>38</td>\n      <td>ASUS</td>\n      <td>ROG Phone 6</td>\n      <td>512 GB, Phantom Black, 6.78\", Dual SIM, 50 Mpx...</td>\n      <td>599.00</td>\n      <td>morgen geliefert</td>\n      <td>2023-11-24 11:46:14.669771</td>\n      <td>4.4</td>\n      <td>512.0</td>\n      <td>Phantom Black</td>\n      <td>2023-11-24</td>\n    </tr>\n    <tr>\n      <th>1</th>\n      <td>108</td>\n      <td>ASUS</td>\n      <td>ROG Phone 6 Diablo Immortal Edition</td>\n      <td>512 GB, Diablo Immortal Edition, 6.78\", Dual S...</td>\n      <td>913.08</td>\n      <td>Zwischen Mi. 29.11. und Fr. 1.12. geliefert</td>\n      <td>2023-11-24 11:47:57.025040</td>\n      <td>3.5</td>\n      <td>512.0</td>\n      <td>Diablo Immortal Edition</td>\n      <td>2023-11-24</td>\n    </tr>\n    <tr>\n      <th>2</th>\n      <td>137</td>\n      <td>ASUS</td>\n      <td>Zenfone 10</td>\n      <td>256 GB, Midnight Black, 5.90\", Dual SIM, 50 Mp...</td>\n      <td>649.00</td>\n      <td>morgen geliefert</td>\n      <td>2023-11-24 11:48:38.808052</td>\n      <td>3.6</td>\n      <td>256.0</td>\n      <td>Midnight Black</td>\n      <td>2023-11-24</td>\n    </tr>\n    <tr>\n      <th>3</th>\n      <td>202</td>\n      <td>ASUS</td>\n      <td>ROG Phone 6 Diablo Immortal Edition</td>\n      <td>512 GB, Diablo Immortal Edition, 6.78\", Dual S...</td>\n      <td>913.08</td>\n      <td>Zwischen Mi. 29.11. und Fr. 1.12. geliefert</td>\n      <td>2023-11-24 11:50:14.230374</td>\n      <td>3.5</td>\n      <td>512.0</td>\n      <td>Diablo Immortal Edition</td>\n      <td>2023-11-24</td>\n    </tr>\n    <tr>\n      <th>4</th>\n      <td>208</td>\n      <td>ASUS</td>\n      <td>ROG Phone 7</td>\n      <td>512 GB, Storm White, 6.78\", Dual SIM, 50 Mpx, 5G</td>\n      <td>1040.00</td>\n      <td>morgen geliefert</td>\n      <td>2023-11-24 11:50:22.980236</td>\n      <td>4.5</td>\n      <td>512.0</td>\n      <td>Storm White</td>\n      <td>2023-11-24</td>\n    </tr>\n    <tr>\n      <th>...</th>\n      <td>...</td>\n      <td>...</td>\n      <td>...</td>\n      <td>...</td>\n      <td>...</td>\n      <td>...</td>\n      <td>...</td>\n      <td>...</td>\n      <td>...</td>\n      <td>...</td>\n      <td>...</td>\n    </tr>\n    <tr>\n      <th>5824</th>\n      <td>1698</td>\n      <td>realme</td>\n      <td>C35</td>\n      <td>64 GB, Glowing green, 6.60\", Hybrid Dual SIM, ...</td>\n      <td>149.00</td>\n      <td>Zwischen Sa. 9.12. und Fr. 15.12. geliefert</td>\n      <td>2023-12-04 09:18:36.329941</td>\n      <td>5.0</td>\n      <td>64.0</td>\n      <td>Glowing green</td>\n      <td>2023-12-04</td>\n    </tr>\n    <tr>\n      <th>5825</th>\n      <td>1717</td>\n      <td>realme</td>\n      <td>9i</td>\n      <td>64 GB, Prism Blue, 6.60\", Dual SIM + SD, 50 Mp...</td>\n      <td>114.00</td>\n      <td>Zwischen Mi. 13.12. und Fr. 15.12. geliefert</td>\n      <td>2023-12-04 09:19:11.318949</td>\n      <td>5.0</td>\n      <td>64.0</td>\n      <td>Prism Blue</td>\n      <td>2023-12-04</td>\n    </tr>\n    <tr>\n      <th>5826</th>\n      <td>1809</td>\n      <td>realme</td>\n      <td>C33 4/64GB Dual SIM Night Sea</td>\n      <td>64 GB, Black, 6.50\", Dual SIM, 50 Mpx, 4G</td>\n      <td>115.00</td>\n      <td>Zwischen Fr. 15.12. und Di. 19.12. geliefert</td>\n      <td>2023-12-04 09:22:05.725023</td>\n      <td>not rated</td>\n      <td>64.0</td>\n      <td>Black</td>\n      <td>2023-12-04</td>\n    </tr>\n    <tr>\n      <th>5827</th>\n      <td>1999</td>\n      <td>realme</td>\n      <td>Narzo 50A Prime 64GB Flash Black [16.7cm (6.6 ...</td>\n      <td>4 GB, Schwarz, Hybrid Dual SIM</td>\n      <td>211.00</td>\n      <td>Zwischen Do. 7.12. und Mo. 11.12. geliefert</td>\n      <td>2023-12-04 09:27:53.159054</td>\n      <td>not rated</td>\n      <td>4.0</td>\n      <td>Schwarz</td>\n      <td>2023-12-04</td>\n    </tr>\n    <tr>\n      <th>5828</th>\n      <td>2015</td>\n      <td>realme</td>\n      <td>9</td>\n      <td>128 GB, Stargaze White, 6.60\", Hybrid Dual SIM...</td>\n      <td>170.00</td>\n      <td>Zwischen 10.1.2024 und 1.2.2024 geliefert</td>\n      <td>2023-12-04 09:28:17.549791</td>\n      <td>4.0</td>\n      <td>128.0</td>\n      <td>Stargaze White</td>\n      <td>2023-12-04</td>\n    </tr>\n  </tbody>\n</table>\n<p>5829 rows × 11 columns</p>\n</div>"
     },
     "execution_count": 66,
     "metadata": {},
     "output_type": "execute_result"
    }
   ],
   "source": [
    "#get the proper date (remove time)\n",
    "df[\"date\"] = df[\"scraped_at\"].dt.date\n",
    "df"
   ],
   "metadata": {
    "collapsed": false,
    "ExecuteTime": {
     "end_time": "2023-12-16T21:12:47.038029154Z",
     "start_time": "2023-12-16T21:12:46.943665089Z"
    }
   },
   "id": "4ec2de7010f6a570"
  },
  {
   "cell_type": "code",
   "execution_count": 67,
   "outputs": [
    {
     "data": {
      "text/plain": "       brand                                               name    price  \\\n0       ASUS                                        ROG Phone 6   599.00   \n1       ASUS                ROG Phone 6 Diablo Immortal Edition   913.08   \n2       ASUS                                         Zenfone 10   649.00   \n3       ASUS                ROG Phone 6 Diablo Immortal Edition   913.08   \n4       ASUS                                        ROG Phone 7  1040.00   \n...      ...                                                ...      ...   \n5824  realme                                                C35   149.00   \n5825  realme                                                 9i   114.00   \n5826  realme                      C33 4/64GB Dual SIM Night Sea   115.00   \n5827  realme  Narzo 50A Prime 64GB Flash Black [16.7cm (6.6 ...   211.00   \n5828  realme                                                  9   170.00   \n\n                              delivery_information extracted_rating  \\\n0                                 morgen geliefert              4.4   \n1      Zwischen Mi. 29.11. und Fr. 1.12. geliefert              3.5   \n2                                 morgen geliefert              3.6   \n3      Zwischen Mi. 29.11. und Fr. 1.12. geliefert              3.5   \n4                                 morgen geliefert              4.5   \n...                                            ...              ...   \n5824   Zwischen Sa. 9.12. und Fr. 15.12. geliefert              5.0   \n5825  Zwischen Mi. 13.12. und Fr. 15.12. geliefert              5.0   \n5826  Zwischen Fr. 15.12. und Di. 19.12. geliefert        not rated   \n5827   Zwischen Do. 7.12. und Mo. 11.12. geliefert        not rated   \n5828     Zwischen 10.1.2024 und 1.2.2024 geliefert              4.0   \n\n      extracted_gb              phone_color        date  \n0            512.0            Phantom Black  2023-11-24  \n1            512.0  Diablo Immortal Edition  2023-11-24  \n2            256.0           Midnight Black  2023-11-24  \n3            512.0  Diablo Immortal Edition  2023-11-24  \n4            512.0              Storm White  2023-11-24  \n...            ...                      ...         ...  \n5824          64.0            Glowing green  2023-12-04  \n5825          64.0               Prism Blue  2023-12-04  \n5826          64.0                    Black  2023-12-04  \n5827           4.0                  Schwarz  2023-12-04  \n5828         128.0           Stargaze White  2023-12-04  \n\n[5829 rows x 8 columns]",
      "text/html": "<div>\n<style scoped>\n    .dataframe tbody tr th:only-of-type {\n        vertical-align: middle;\n    }\n\n    .dataframe tbody tr th {\n        vertical-align: top;\n    }\n\n    .dataframe thead th {\n        text-align: right;\n    }\n</style>\n<table border=\"1\" class=\"dataframe\">\n  <thead>\n    <tr style=\"text-align: right;\">\n      <th></th>\n      <th>brand</th>\n      <th>name</th>\n      <th>price</th>\n      <th>delivery_information</th>\n      <th>extracted_rating</th>\n      <th>extracted_gb</th>\n      <th>phone_color</th>\n      <th>date</th>\n    </tr>\n  </thead>\n  <tbody>\n    <tr>\n      <th>0</th>\n      <td>ASUS</td>\n      <td>ROG Phone 6</td>\n      <td>599.00</td>\n      <td>morgen geliefert</td>\n      <td>4.4</td>\n      <td>512.0</td>\n      <td>Phantom Black</td>\n      <td>2023-11-24</td>\n    </tr>\n    <tr>\n      <th>1</th>\n      <td>ASUS</td>\n      <td>ROG Phone 6 Diablo Immortal Edition</td>\n      <td>913.08</td>\n      <td>Zwischen Mi. 29.11. und Fr. 1.12. geliefert</td>\n      <td>3.5</td>\n      <td>512.0</td>\n      <td>Diablo Immortal Edition</td>\n      <td>2023-11-24</td>\n    </tr>\n    <tr>\n      <th>2</th>\n      <td>ASUS</td>\n      <td>Zenfone 10</td>\n      <td>649.00</td>\n      <td>morgen geliefert</td>\n      <td>3.6</td>\n      <td>256.0</td>\n      <td>Midnight Black</td>\n      <td>2023-11-24</td>\n    </tr>\n    <tr>\n      <th>3</th>\n      <td>ASUS</td>\n      <td>ROG Phone 6 Diablo Immortal Edition</td>\n      <td>913.08</td>\n      <td>Zwischen Mi. 29.11. und Fr. 1.12. geliefert</td>\n      <td>3.5</td>\n      <td>512.0</td>\n      <td>Diablo Immortal Edition</td>\n      <td>2023-11-24</td>\n    </tr>\n    <tr>\n      <th>4</th>\n      <td>ASUS</td>\n      <td>ROG Phone 7</td>\n      <td>1040.00</td>\n      <td>morgen geliefert</td>\n      <td>4.5</td>\n      <td>512.0</td>\n      <td>Storm White</td>\n      <td>2023-11-24</td>\n    </tr>\n    <tr>\n      <th>...</th>\n      <td>...</td>\n      <td>...</td>\n      <td>...</td>\n      <td>...</td>\n      <td>...</td>\n      <td>...</td>\n      <td>...</td>\n      <td>...</td>\n    </tr>\n    <tr>\n      <th>5824</th>\n      <td>realme</td>\n      <td>C35</td>\n      <td>149.00</td>\n      <td>Zwischen Sa. 9.12. und Fr. 15.12. geliefert</td>\n      <td>5.0</td>\n      <td>64.0</td>\n      <td>Glowing green</td>\n      <td>2023-12-04</td>\n    </tr>\n    <tr>\n      <th>5825</th>\n      <td>realme</td>\n      <td>9i</td>\n      <td>114.00</td>\n      <td>Zwischen Mi. 13.12. und Fr. 15.12. geliefert</td>\n      <td>5.0</td>\n      <td>64.0</td>\n      <td>Prism Blue</td>\n      <td>2023-12-04</td>\n    </tr>\n    <tr>\n      <th>5826</th>\n      <td>realme</td>\n      <td>C33 4/64GB Dual SIM Night Sea</td>\n      <td>115.00</td>\n      <td>Zwischen Fr. 15.12. und Di. 19.12. geliefert</td>\n      <td>not rated</td>\n      <td>64.0</td>\n      <td>Black</td>\n      <td>2023-12-04</td>\n    </tr>\n    <tr>\n      <th>5827</th>\n      <td>realme</td>\n      <td>Narzo 50A Prime 64GB Flash Black [16.7cm (6.6 ...</td>\n      <td>211.00</td>\n      <td>Zwischen Do. 7.12. und Mo. 11.12. geliefert</td>\n      <td>not rated</td>\n      <td>4.0</td>\n      <td>Schwarz</td>\n      <td>2023-12-04</td>\n    </tr>\n    <tr>\n      <th>5828</th>\n      <td>realme</td>\n      <td>9</td>\n      <td>170.00</td>\n      <td>Zwischen 10.1.2024 und 1.2.2024 geliefert</td>\n      <td>4.0</td>\n      <td>128.0</td>\n      <td>Stargaze White</td>\n      <td>2023-12-04</td>\n    </tr>\n  </tbody>\n</table>\n<p>5829 rows × 8 columns</p>\n</div>"
     },
     "execution_count": 67,
     "metadata": {},
     "output_type": "execute_result"
    }
   ],
   "source": [
    "#only select relevant cols\n",
    "cleaned_df = df[[\"brand\", \"name\", \"price\", \"delivery_information\", \"extracted_rating\", \"extracted_gb\",\n",
    "                 \"phone_color\", \"date\"]].copy()\n",
    "\n",
    "cleaned_df"
   ],
   "metadata": {
    "collapsed": false,
    "ExecuteTime": {
     "end_time": "2023-12-16T21:13:00.721445498Z",
     "start_time": "2023-12-16T21:13:00.621661535Z"
    }
   },
   "id": "79f3f8856e13df3a"
  },
  {
   "cell_type": "markdown",
   "source": [
    "## replace delivery information with days"
   ],
   "metadata": {
    "collapsed": false
   },
   "id": "9b6c875e3fb5b7d3"
  },
  {
   "cell_type": "code",
   "execution_count": 76,
   "outputs": [
    {
     "data": {
      "text/plain": "array(['morgen geliefert', 'Zwischen Mi. 29.11. und Fr. 1.12. geliefert',\n       'Zwischen Sa. 25.11. und Do. 30.11. geliefert',\n       'Zwischen Do. 30.11. und Mo. 4.12. geliefert',\n       'Zwischen Mo. 27.11. und Fr. 1.12. geliefert',\n       'Zwischen Di. 28.11. und Do. 30.11. geliefert',\n       'Zwischen Di. 28.11. und Mo. 4.12. geliefert',\n       'Zwischen Do. 7.12. und Mi. 13.12. geliefert',\n       'Zwischen Di. 5.12. und Mo. 11.12. geliefert',\n       'Zwischen Do. 7.12. und Mo. 11.12. geliefert',\n       'Zwischen 10.1.2024 und 30.1.2024 geliefert',\n       'Zwischen 11.1.2024 und 31.1.2024 geliefert',\n       'Zwischen 19.1.2024 und 7.2.2024 geliefert',\n       'Zwischen Sa. 2.12. und Mi. 6.12. geliefert',\n       'Zwischen Mi. 6.12. und Di. 12.12. geliefert',\n       'Zwischen 4.1.2024 und 13.1.2024 geliefert',\n       'Zwischen Mi. 6.12. und Sa. 9.12. geliefert',\n       'Zwischen Fr. 15.12. und Di. 19.12. geliefert',\n       'Zwischen Fr. 8.12. und Mi. 13.12. geliefert',\n       'Zwischen 11.1.2024 und 20.1.2024 geliefert',\n       'Zwischen Di. 19.12. und Do. 11.1. geliefert',\n       'Zwischen Di. 19.12. und Do. 28.12. geliefert',\n       'Zwischen Di. 5.12. und Do. 7.12. geliefert',\n       'Zwischen Sa. 9.12. und Do. 14.12. geliefert',\n       'Zwischen Mi. 6.12. und Fr. 8.12. geliefert',\n       'Zwischen Di. 12.12. und Fr. 15.12. geliefert',\n       'Zwischen Sa. 16.12. und Do. 21.12. geliefert',\n       'Zwischen Mi. 13.12. und Fr. 15.12. geliefert',\n       'Zwischen Mo. 27.11. und Mi. 29.11. geliefert',\n       'Aktuell nicht lieferbar', 'Di. 28.11. geliefert',\n       'Zwischen Fr. 1.12. und Fr. 15.12. geliefert',\n       'Zwischen Do. 30.11. und Do. 14.12. geliefert',\n       'Zwischen Sa. 25.11. und Sa. 9.12. geliefert',\n       'Zwischen Di. 28.11. und Sa. 2.12. geliefert',\n       'Zwischen Di. 28.11. und Sa. 9.12. geliefert',\n       'Liefertermin wird abgeklärt',\n       'Der Liefertermin wird aktualisiert, sobald uns Informationen des Lieferanten vorliegen. Sobald die Ware eintrifft, wird diese so schnell wie möglich an dich versendet.',\n       'Zwischen Do. 7.12. und Di. 12.12. geliefert',\n       'Zwischen Mi. 13.12. und Do. 21.12. geliefert',\n       'Zwischen Sa. 2.12. und Sa. 9.12. geliefert',\n       'Zwischen Do. 7.12. und Sa. 16.12. geliefert',\n       'Zwischen Mi. 6.12. und Mi. 20.12. geliefert',\n       'Zwischen Do. 30.11. und Di. 5.12. geliefert',\n       'Zwischen Fr. 1.12. und Mi. 6.12. geliefert',\n       'Zwischen Di. 28.11. und Mi. 29.11. geliefert',\n       'Zwischen Fr. 1.12. und Do. 7.12. geliefert',\n       'Zwischen Mi. 20.12. und Mi. 3.1. geliefert',\n       'Zwischen Sa. 9.12. und Sa. 23.12. geliefert',\n       'Zwischen 1.2.2024 und 21.2.2024 geliefert',\n       'Zwischen 14.2.2024 und 19.3.2024 geliefert',\n       'übermorgen geliefert',\n       'Zwischen Sa. 2.12. und Fr. 8.12. geliefert',\n       'Zwischen Mi. 29.11. und Mi. 13.12. geliefert',\n       'Zwischen Sa. 2.12. und Sa. 16.12. geliefert',\n       'Zwischen Mi. 6.12. und Do. 14.12. geliefert',\n       'Zwischen Fr. 1.12. und Di. 19.12. geliefert',\n       'Zwischen Fr. 1.12. und Di. 5.12. geliefert',\n       'Zwischen Di. 5.12. und Fr. 8.12. geliefert',\n       'Zwischen Do. 7.12. und Do. 14.12. geliefert',\n       'Zwischen Fr. 8.12. und Di. 19.12. geliefert',\n       'Zwischen Di. 19.12. und Sa. 30.12. geliefert',\n       'Zwischen Do. 21.12. und Do. 4.1. geliefert',\n       'Zwischen Di. 12.12. und Do. 28.12. geliefert',\n       'Zwischen 12.1.2024 und 9.2.2024 geliefert',\n       'Zwischen 10.1.2024 und 7.2.2024 geliefert',\n       'Zwischen Fr. 8.12. und Do. 14.12. geliefert',\n       'Zwischen Fr. 8.12. und Do. 28.12. geliefert',\n       'Zwischen Di. 5.12. und Fr. 15.12. geliefert',\n       'Zwischen Di. 5.12. und Do. 14.12. geliefert',\n       'Zwischen Mi. 6.12. und Sa. 23.12. geliefert',\n       'Zwischen Di. 5.12. und Di. 19.12. geliefert',\n       'Zwischen Do. 14.12. und Do. 21.12. geliefert',\n       'Zwischen Mi. 13.12. und Sa. 16.12. geliefert',\n       'Zwischen Fr. 8.12. und Di. 12.12. geliefert',\n       'Zwischen Di. 5.12. und Mi. 6.12. geliefert',\n       'Zwischen Sa. 9.12. und Fr. 15.12. geliefert',\n       'Zwischen Fr. 15.12. und Do. 28.12. geliefert',\n       'Zwischen Do. 14.12. und Mi. 20.12. geliefert',\n       'Zwischen 18.1.2024 und 15.2.2024 geliefert',\n       'Zwischen Fr. 15.12. und Do. 21.12. geliefert',\n       'Zwischen Mi. 13.12. und Do. 28.12. geliefert',\n       'Zwischen Sa. 30.12. und Do. 11.1. geliefert',\n       'Zwischen 16.1.2024 und 13.2.2024 geliefert',\n       'Zwischen Mi. 6.12. und Mi. 13.12. geliefert',\n       'Zwischen Di. 12.12. und Mi. 20.12. geliefert',\n       'Zwischen Di. 12.12. und Do. 14.12. geliefert',\n       'Zwischen Do. 14.12. und Fr. 22.12. geliefert',\n       'Zwischen Fr. 8.12. und Fr. 15.12. geliefert',\n       'Zwischen Sa. 9.12. und Sa. 16.12. geliefert',\n       'Zwischen Sa. 23.12. und Sa. 6.1. geliefert',\n       'Zwischen Di. 19.12. und Sa. 23.12. geliefert',\n       'Zwischen Sa. 9.12. und Mi. 13.12. geliefert',\n       'Zwischen Do. 21.12. und Fr. 5.1. geliefert',\n       'Zwischen Do. 7.12. und Sa. 9.12. geliefert',\n       'Zwischen Do. 28.12. und Di. 9.1. geliefert',\n       'Zwischen Di. 5.12. und Sa. 9.12. geliefert',\n       'Zwischen Di. 12.12. und Sa. 16.12. geliefert',\n       'Mi. 29.11. geliefert', 'Do. 30.11. geliefert',\n       'Do. 7.12. geliefert', 'Zwischen 9.2.2024 und 23.2.2024 geliefert',\n       'Zwischen 7.2.2024 und 21.2.2024 geliefert',\n       'Zwischen 14.2.2024 und 28.2.2024 geliefert',\n       'Zwischen 13.2.2024 und 27.2.2024 geliefert',\n       'Zwischen 16.2.2024 und 1.3.2024 geliefert',\n       'Zwischen 22.2.2024 und 21.3.2024 geliefert',\n       'Zwischen 17.2.2024 und 16.3.2024 geliefert',\n       'Zwischen 23.2.2024 und 22.3.2024 geliefert',\n       'Zwischen 3.1.2024 und 30.1.2024 geliefert',\n       'Zwischen 10.1.2024 und 6.2.2024 geliefert',\n       'Zwischen Mi. 6.12. und Mo. 11.12. geliefert',\n       'Zwischen Mo. 4.12. und Do. 7.12. geliefert',\n       'Zwischen Fr. 15.12. und Mi. 20.12. geliefert',\n       'Zwischen Mi. 13.12. und Di. 19.12. geliefert',\n       'Zwischen Mi. 13.12. und Mi. 20.12. geliefert',\n       'Zwischen Fr. 15.12. und Mi. 27.12. geliefert',\n       'Zwischen Mo. 27.11. und Di. 28.11. geliefert',\n       'Zwischen Mi. 29.11. und Do. 30.11. geliefert',\n       'Zwischen Mi. 6.12. und Do. 7.12. geliefert',\n       'Zwischen Di. 12.12. und Di. 19.12. geliefert',\n       'Zwischen 20.2.2024 und 13.3.2024 geliefert',\n       'Zwischen 17.2.2024 und 12.3.2024 geliefert',\n       'Zwischen Mi. 20.12. und Fr. 29.12. geliefert',\n       'Zwischen 22.2.2024 und 15.3.2024 geliefert',\n       'Zwischen Fr. 29.12. und Mo. 8.1. geliefert',\n       'Zwischen 28.2.2024 und 22.3.2024 geliefert',\n       'Zwischen Sa. 25.11. und Di. 28.11. geliefert',\n       'Zwischen Fr. 8.12. und Sa. 16.12. geliefert',\n       'Zwischen Do. 30.11. und Mi. 6.12. geliefert',\n       'Zwischen Sa. 2.12. und Do. 7.12. geliefert',\n       'Zwischen Sa. 30.12. und Fr. 26.1. geliefert',\n       'Zwischen Fr. 29.12. und Do. 25.1. geliefert',\n       'Zwischen Mi. 29.11. und Mo. 4.12. geliefert',\n       'Zwischen Di. 12.12. und Mo. 18.12. geliefert',\n       'Zwischen 9.1.2024 und 31.1.2024 geliefert',\n       'Zwischen Sa. 2.12. und Di. 12.12. geliefert',\n       'Zwischen Sa. 2.12. und Mi. 13.12. geliefert',\n       'Zwischen Mi. 29.11. und Di. 5.12. geliefert',\n       'Zwischen Do. 7.12. und Fr. 15.12. geliefert',\n       'Zwischen Mo. 11.12. und Mi. 13.12. geliefert',\n       'Zwischen Do. 30.11. und Sa. 2.12. geliefert',\n       'Zwischen Sa. 25.11. und Mi. 6.12. geliefert',\n       'Zwischen Di. 28.11. und Mi. 6.12. geliefert',\n       'Zwischen Sa. 25.11. und Mi. 29.11. geliefert',\n       'Zwischen Sa. 25.11. und Di. 12.12. geliefert',\n       'Verkaufsstart am Di. 19.12.',\n       'Zwischen Fr. 15.12. und Do. 4.1. geliefert',\n       'Zwischen Mi. 29.11. und Sa. 2.12. geliefert',\n       'Zwischen Di. 28.11. und Di. 12.12. geliefert',\n       'Zwischen Fr. 29.12. und Do. 11.1. geliefert',\n       'Zwischen Do. 28.12. und Mi. 24.1. geliefert',\n       'Zwischen Sa. 16.12. und Fr. 5.1. geliefert',\n       'Zwischen Sa. 16.12. und Sa. 23.12. geliefert',\n       'Zwischen Di. 5.12. und Sa. 16.12. geliefert',\n       'Zwischen 4.1.2024 und 26.1.2024 geliefert',\n       'Zwischen Di. 28.11. und Fr. 1.12. geliefert',\n       'Zwischen Mi. 6.12. und Fr. 15.12. geliefert',\n       'Zwischen Mi. 13.12. und Fr. 22.12. geliefert',\n       'Zwischen Sa. 2.12. und Di. 19.12. geliefert',\n       'Zwischen Sa. 25.11. und Fr. 1.12. geliefert',\n       'Zwischen Di. 5.12. und Mi. 13.12. geliefert',\n       'Zwischen Di. 19.12. und Do. 21.12. geliefert',\n       'Zwischen Do. 14.12. und Sa. 16.12. geliefert',\n       'Zwischen Mi. 20.12. und Fr. 22.12. geliefert',\n       'Zwischen 10.1.2024 und 1.2.2024 geliefert'], dtype=object)"
     },
     "execution_count": 76,
     "metadata": {},
     "output_type": "execute_result"
    }
   ],
   "source": [
    "cleaned_df[\"delivery_information\"].unique()"
   ],
   "metadata": {
    "collapsed": false,
    "ExecuteTime": {
     "end_time": "2023-12-16T21:28:37.082014242Z",
     "start_time": "2023-12-16T21:28:36.981307567Z"
    }
   },
   "id": "fdfcc357e3a7fb3e"
  },
  {
   "cell_type": "code",
   "execution_count": 71,
   "outputs": [
    {
     "data": {
      "text/plain": "  brand                                 name    price  \\\n0  ASUS                          ROG Phone 6   599.00   \n1  ASUS  ROG Phone 6 Diablo Immortal Edition   913.08   \n2  ASUS                           Zenfone 10   649.00   \n3  ASUS  ROG Phone 6 Diablo Immortal Edition   913.08   \n4  ASUS                          ROG Phone 7  1040.00   \n\n                          delivery_information extracted_rating  extracted_gb  \\\n0                             morgen geliefert              4.4         512.0   \n1  Zwischen Mi. 29.11. und Fr. 1.12. geliefert              3.5         512.0   \n2                             morgen geliefert              3.6         256.0   \n3  Zwischen Mi. 29.11. und Fr. 1.12. geliefert              3.5         512.0   \n4                             morgen geliefert              4.5         512.0   \n\n               phone_color        date delivery_time_days  \n0            Phantom Black  2023-11-24                  1  \n1  Diablo Immortal Edition  2023-11-24                  5  \n2           Midnight Black  2023-11-24                  1  \n3  Diablo Immortal Edition  2023-11-24                  5  \n4              Storm White  2023-11-24                  1  ",
      "text/html": "<div>\n<style scoped>\n    .dataframe tbody tr th:only-of-type {\n        vertical-align: middle;\n    }\n\n    .dataframe tbody tr th {\n        vertical-align: top;\n    }\n\n    .dataframe thead th {\n        text-align: right;\n    }\n</style>\n<table border=\"1\" class=\"dataframe\">\n  <thead>\n    <tr style=\"text-align: right;\">\n      <th></th>\n      <th>brand</th>\n      <th>name</th>\n      <th>price</th>\n      <th>delivery_information</th>\n      <th>extracted_rating</th>\n      <th>extracted_gb</th>\n      <th>phone_color</th>\n      <th>date</th>\n      <th>delivery_time_days</th>\n    </tr>\n  </thead>\n  <tbody>\n    <tr>\n      <th>0</th>\n      <td>ASUS</td>\n      <td>ROG Phone 6</td>\n      <td>599.00</td>\n      <td>morgen geliefert</td>\n      <td>4.4</td>\n      <td>512.0</td>\n      <td>Phantom Black</td>\n      <td>2023-11-24</td>\n      <td>1</td>\n    </tr>\n    <tr>\n      <th>1</th>\n      <td>ASUS</td>\n      <td>ROG Phone 6 Diablo Immortal Edition</td>\n      <td>913.08</td>\n      <td>Zwischen Mi. 29.11. und Fr. 1.12. geliefert</td>\n      <td>3.5</td>\n      <td>512.0</td>\n      <td>Diablo Immortal Edition</td>\n      <td>2023-11-24</td>\n      <td>5</td>\n    </tr>\n    <tr>\n      <th>2</th>\n      <td>ASUS</td>\n      <td>Zenfone 10</td>\n      <td>649.00</td>\n      <td>morgen geliefert</td>\n      <td>3.6</td>\n      <td>256.0</td>\n      <td>Midnight Black</td>\n      <td>2023-11-24</td>\n      <td>1</td>\n    </tr>\n    <tr>\n      <th>3</th>\n      <td>ASUS</td>\n      <td>ROG Phone 6 Diablo Immortal Edition</td>\n      <td>913.08</td>\n      <td>Zwischen Mi. 29.11. und Fr. 1.12. geliefert</td>\n      <td>3.5</td>\n      <td>512.0</td>\n      <td>Diablo Immortal Edition</td>\n      <td>2023-11-24</td>\n      <td>5</td>\n    </tr>\n    <tr>\n      <th>4</th>\n      <td>ASUS</td>\n      <td>ROG Phone 7</td>\n      <td>1040.00</td>\n      <td>morgen geliefert</td>\n      <td>4.5</td>\n      <td>512.0</td>\n      <td>Storm White</td>\n      <td>2023-11-24</td>\n      <td>1</td>\n    </tr>\n  </tbody>\n</table>\n</div>"
     },
     "execution_count": 71,
     "metadata": {},
     "output_type": "execute_result"
    }
   ],
   "source": [
    "def calculate_delivery_time(row):\n",
    "    if row['delivery_information'] == 'morgen geliefert':\n",
    "        return 1\n",
    "    elif row['delivery_information'] == 'übermorgen geliefert':\n",
    "        return 2\n",
    "    else:\n",
    "        # Extract the first date from the string\n",
    "        match = re.search(r'\\d{1,2}\\.\\d{1,2}\\.', row['delivery_information'])\n",
    "        if match:\n",
    "            start_date_str = match.group()\n",
    "            # Parse the dates\n",
    "            start_date = datetime.strptime(start_date_str + '2023', '%d.%m.%Y').date()  \n",
    "            order_date = row[\"date\"]\n",
    "            # Calculate the difference in days\n",
    "            return (start_date - order_date).days\n",
    "        else:\n",
    "            return \"Lieferung nicht möglich\"  #if the phone cant be delivered\n",
    "\n",
    "\n",
    "cleaned_df['delivery_time_days'] = cleaned_df.apply(calculate_delivery_time, axis=1)\n",
    "cleaned_df.head()"
   ],
   "metadata": {
    "collapsed": false,
    "ExecuteTime": {
     "end_time": "2023-12-16T21:14:04.453087697Z",
     "start_time": "2023-12-16T21:14:04.202682919Z"
    }
   },
   "id": "79be01129c37262"
  },
  {
   "cell_type": "markdown",
   "source": [
    "## check for duplicates"
   ],
   "metadata": {
    "collapsed": false
   },
   "id": "6be8fc277b7542a9"
  },
  {
   "cell_type": "code",
   "execution_count": 73,
   "outputs": [
    {
     "data": {
      "text/plain": "306"
     },
     "execution_count": 73,
     "metadata": {},
     "output_type": "execute_result"
    }
   ],
   "source": [
    "cleaned_df.duplicated().sum()"
   ],
   "metadata": {
    "collapsed": false,
    "ExecuteTime": {
     "end_time": "2023-12-16T21:14:18.994049385Z",
     "start_time": "2023-12-16T21:14:18.926230910Z"
    }
   },
   "id": "3a3c16c030f1172c"
  },
  {
   "cell_type": "code",
   "execution_count": 74,
   "outputs": [
    {
     "data": {
      "text/plain": "0"
     },
     "execution_count": 74,
     "metadata": {},
     "output_type": "execute_result"
    }
   ],
   "source": [
    "#remove the duplicates, since these will be irrelevant for our analysis\n",
    "cleaned_df = cleaned_df.drop_duplicates()\n",
    "\n",
    "cleaned_df.duplicated().sum()"
   ],
   "metadata": {
    "collapsed": false,
    "ExecuteTime": {
     "end_time": "2023-12-16T21:14:29.738683186Z",
     "start_time": "2023-12-16T21:14:29.655900234Z"
    }
   },
   "id": "4281762bc606192a"
  },
  {
   "cell_type": "markdown",
   "source": [
    "## save cleaned data"
   ],
   "metadata": {
    "collapsed": false
   },
   "id": "331e9177cc118134"
  },
  {
   "cell_type": "code",
   "execution_count": 130,
   "outputs": [],
   "source": [
    "cleaned_df.to_csv('data/robin_portmann_stage2.csv', index=False)"
   ],
   "metadata": {
    "collapsed": false,
    "ExecuteTime": {
     "end_time": "2023-12-08T18:38:09.231527900Z",
     "start_time": "2023-12-08T18:38:09.184649900Z"
    }
   },
   "id": "47d5f4840ad0c371"
  }
 ],
 "metadata": {
  "kernelspec": {
   "display_name": "Python 3",
   "language": "python",
   "name": "python3"
  },
  "language_info": {
   "codemirror_mode": {
    "name": "ipython",
    "version": 2
   },
   "file_extension": ".py",
   "mimetype": "text/x-python",
   "name": "python",
   "nbconvert_exporter": "python",
   "pygments_lexer": "ipython2",
   "version": "2.7.6"
  }
 },
 "nbformat": 4,
 "nbformat_minor": 5
}
