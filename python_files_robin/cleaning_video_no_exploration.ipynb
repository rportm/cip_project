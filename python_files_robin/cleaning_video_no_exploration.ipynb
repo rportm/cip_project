{
 "cells": [
  {
   "cell_type": "code",
   "execution_count": 5,
   "id": "initial_id",
   "metadata": {
    "collapsed": true,
    "ExecuteTime": {
     "end_time": "2023-12-16T21:49:31.506336710Z",
     "start_time": "2023-12-16T21:49:31.471420162Z"
    }
   },
   "outputs": [],
   "source": [
    "import pandas as pd\n",
    "import re\n",
    "from datetime import datetime"
   ]
  },
  {
   "cell_type": "markdown",
   "source": [
    "# Load and concat"
   ],
   "metadata": {
    "collapsed": false
   },
   "id": "66bd74450e7fa495"
  },
  {
   "cell_type": "code",
   "execution_count": 6,
   "outputs": [],
   "source": [
    "#load scraped data\n",
    "df1 = pd.read_csv('../data/scraped_phones_2023-11-24_stage1.csv', encoding='utf-16')\n",
    "df2 = pd.read_csv('../data/scraped_phones_2023-11-27_stage1.csv', encoding='utf-16')\n",
    "df3 = pd.read_csv('../data/scraped_phones_2023-12-04_stage1.csv', encoding='utf-16')\n",
    "\n",
    "#concat the dataframes\n",
    "df = pd.concat([df1, df2, df3]) "
   ],
   "metadata": {
    "collapsed": false,
    "ExecuteTime": {
     "end_time": "2023-12-16T21:49:32.613352538Z",
     "start_time": "2023-12-16T21:49:32.528203788Z"
    }
   },
   "id": "b532b222575fa115"
  },
  {
   "cell_type": "code",
   "execution_count": 7,
   "outputs": [
    {
     "data": {
      "text/plain": "   nr    brand                              name  \\\n0   1  Samsung                     Galaxy A54 5G   \n1   2  Samsung                  Galaxy S23 Ultra   \n2   3  Samsung  Galaxy A53 5G Enterprise Edition   \n3   4   Google                          Pixel 7a   \n4   5   Google                       Pixel 8 Pro   \n\n                             ratings  \\\n0  311 Bewertungen 4.4 von 5 Sternen   \n1  301 Bewertungen 4.6 von 5 Sternen   \n2   58 Bewertungen 4.5 von 5 Sternen   \n3  146 Bewertungen 4.2 von 5 Sternen   \n4  143 Bewertungen 4.2 von 5 Sternen   \n\n                                               specs   price  \\\n0  256 GB, Awesome Graphite, 6.40\", Hybrid Dual S...   449.–   \n1  512 GB, Phantom Black, 6.80\", SIM + eSIM, 200 ...  1229.–   \n2  128 GB, Awesome Black, 6.50\", Dual SIM, 64 Mpx...   310.–   \n3         128 GB, Sea, 6.10\", SIM + eSIM, 64 Mpx, 5G   349.–   \n4    256 GB, Obsidian, 6.70\", SIM + eSIM, 50 Mpx, 5G  1049.–   \n\n  delivery_information                  scraped_at  \n0     morgen geliefert  2023-11-24 11:45:20.220938  \n1     morgen geliefert  2023-11-24 11:45:21.652983  \n2     morgen geliefert  2023-11-24 11:45:23.086290  \n3     morgen geliefert  2023-11-24 11:45:24.533107  \n4     morgen geliefert  2023-11-24 11:45:25.968087  ",
      "text/html": "<div>\n<style scoped>\n    .dataframe tbody tr th:only-of-type {\n        vertical-align: middle;\n    }\n\n    .dataframe tbody tr th {\n        vertical-align: top;\n    }\n\n    .dataframe thead th {\n        text-align: right;\n    }\n</style>\n<table border=\"1\" class=\"dataframe\">\n  <thead>\n    <tr style=\"text-align: right;\">\n      <th></th>\n      <th>nr</th>\n      <th>brand</th>\n      <th>name</th>\n      <th>ratings</th>\n      <th>specs</th>\n      <th>price</th>\n      <th>delivery_information</th>\n      <th>scraped_at</th>\n    </tr>\n  </thead>\n  <tbody>\n    <tr>\n      <th>0</th>\n      <td>1</td>\n      <td>Samsung</td>\n      <td>Galaxy A54 5G</td>\n      <td>311 Bewertungen 4.4 von 5 Sternen</td>\n      <td>256 GB, Awesome Graphite, 6.40\", Hybrid Dual S...</td>\n      <td>449.–</td>\n      <td>morgen geliefert</td>\n      <td>2023-11-24 11:45:20.220938</td>\n    </tr>\n    <tr>\n      <th>1</th>\n      <td>2</td>\n      <td>Samsung</td>\n      <td>Galaxy S23 Ultra</td>\n      <td>301 Bewertungen 4.6 von 5 Sternen</td>\n      <td>512 GB, Phantom Black, 6.80\", SIM + eSIM, 200 ...</td>\n      <td>1229.–</td>\n      <td>morgen geliefert</td>\n      <td>2023-11-24 11:45:21.652983</td>\n    </tr>\n    <tr>\n      <th>2</th>\n      <td>3</td>\n      <td>Samsung</td>\n      <td>Galaxy A53 5G Enterprise Edition</td>\n      <td>58 Bewertungen 4.5 von 5 Sternen</td>\n      <td>128 GB, Awesome Black, 6.50\", Dual SIM, 64 Mpx...</td>\n      <td>310.–</td>\n      <td>morgen geliefert</td>\n      <td>2023-11-24 11:45:23.086290</td>\n    </tr>\n    <tr>\n      <th>3</th>\n      <td>4</td>\n      <td>Google</td>\n      <td>Pixel 7a</td>\n      <td>146 Bewertungen 4.2 von 5 Sternen</td>\n      <td>128 GB, Sea, 6.10\", SIM + eSIM, 64 Mpx, 5G</td>\n      <td>349.–</td>\n      <td>morgen geliefert</td>\n      <td>2023-11-24 11:45:24.533107</td>\n    </tr>\n    <tr>\n      <th>4</th>\n      <td>5</td>\n      <td>Google</td>\n      <td>Pixel 8 Pro</td>\n      <td>143 Bewertungen 4.2 von 5 Sternen</td>\n      <td>256 GB, Obsidian, 6.70\", SIM + eSIM, 50 Mpx, 5G</td>\n      <td>1049.–</td>\n      <td>morgen geliefert</td>\n      <td>2023-11-24 11:45:25.968087</td>\n    </tr>\n  </tbody>\n</table>\n</div>"
     },
     "execution_count": 7,
     "metadata": {},
     "output_type": "execute_result"
    }
   ],
   "source": [
    "#have a look at the data\n",
    "df.head()"
   ],
   "metadata": {
    "collapsed": false,
    "ExecuteTime": {
     "end_time": "2023-12-16T21:49:33.037609129Z",
     "start_time": "2023-12-16T21:49:33.010683031Z"
    }
   },
   "id": "2ea1a6ec08129371"
  },
  {
   "cell_type": "markdown",
   "source": [
    "# fix data types (price, scraped_at)"
   ],
   "metadata": {
    "collapsed": false
   },
   "id": "acc895d8d692f9a4"
  },
  {
   "cell_type": "code",
   "execution_count": 8,
   "outputs": [],
   "source": [
    "#remove the currency symbol\n",
    "df['price'] = df['price'].str.replace('.–', '')\n",
    "#convert to decimal\n",
    "df['price'] = df['price'].astype(float)\n",
    "\n",
    "#convert scraped_at to date\n",
    "df['scraped_at'] = pd.to_datetime(df['scraped_at'])"
   ],
   "metadata": {
    "collapsed": false,
    "ExecuteTime": {
     "end_time": "2023-12-16T21:49:33.962574535Z",
     "start_time": "2023-12-16T21:49:33.912137943Z"
    }
   },
   "id": "a7bea9f94586aa7f"
  },
  {
   "cell_type": "markdown",
   "source": [
    "# fix ratings column"
   ],
   "metadata": {
    "collapsed": false
   },
   "id": "e3fbf93c375dd84a"
  },
  {
   "cell_type": "code",
   "execution_count": 9,
   "outputs": [],
   "source": [
    "#regular expression to extract the rating\n",
    "df['extracted_rating'] = df['ratings'].str.extract(r'(\\d+\\.\\d+) von 5 Sternen')\n",
    "\n",
    "#convert extracted ratings to object\n",
    "df['extracted_rating'] = df['extracted_rating'].astype(object)\n",
    "\n",
    "#drop original ratings column\n",
    "df = df.drop('ratings', axis=1)\n",
    "\n",
    "#replace 0.0 zero rating with not rated\n",
    "df['extracted_rating'] = df['extracted_rating'].replace('0.0', 'not rated')"
   ],
   "metadata": {
    "collapsed": false,
    "ExecuteTime": {
     "end_time": "2023-12-16T21:49:34.977405385Z",
     "start_time": "2023-12-16T21:49:34.940963101Z"
    }
   },
   "id": "d9daab5cb3ab452"
  },
  {
   "cell_type": "markdown",
   "source": [
    "# missing values (brand and specs)"
   ],
   "metadata": {
    "collapsed": false
   },
   "id": "c73d4d37b640c539"
  },
  {
   "cell_type": "code",
   "execution_count": 10,
   "outputs": [],
   "source": [
    "#there are some phones with unknown/missing brand, we will remove this\n",
    "df = df[df['brand'].notnull()].copy()\n",
    "\n",
    "#we will also remove the phones with missing specs, as we will not be able to use them\n",
    "#there is no real structre recognizable in the specs -> we would need to fix this manually for each entry\n",
    "df = df[df['specs'].notnull()].copy()"
   ],
   "metadata": {
    "collapsed": false,
    "ExecuteTime": {
     "end_time": "2023-12-16T21:49:35.763265362Z",
     "start_time": "2023-12-16T21:49:35.729928690Z"
    }
   },
   "id": "7496f6594e3e5448"
  },
  {
   "cell_type": "markdown",
   "source": [
    "# extract color and storage"
   ],
   "metadata": {
    "collapsed": false
   },
   "id": "372643f16efc0006"
  },
  {
   "cell_type": "code",
   "execution_count": 11,
   "outputs": [],
   "source": [
    "# Regular expression to extract the GB value\n",
    "df['extracted_gb'] = df['specs'].str.extract(r'(\\d+)\\s*GB')\n",
    "\n",
    "# Convert extracted GB values to numeric\n",
    "df['extracted_gb'] = pd.to_numeric(df['extracted_gb'])\n",
    "\n",
    "# get phone color\n",
    "df[\"phone_color\"] = df['specs'].str.extract(r'GB,\\s*([^,]+)')"
   ],
   "metadata": {
    "collapsed": false,
    "ExecuteTime": {
     "end_time": "2023-12-16T21:49:37.031216665Z",
     "start_time": "2023-12-16T21:49:36.972035377Z"
    }
   },
   "id": "80d901ff4ffcb50"
  },
  {
   "cell_type": "markdown",
   "source": [
    "# remove phones missing color/GB"
   ],
   "metadata": {
    "collapsed": false
   },
   "id": "a205c6bb97ee1507"
  },
  {
   "cell_type": "code",
   "execution_count": 12,
   "outputs": [],
   "source": [
    "#remove missing GB phones\n",
    "df = df[df['extracted_gb'].notnull()].copy()\n",
    "#remove missing phone color phones\n",
    "df = df[df['phone_color'].notnull()].copy()"
   ],
   "metadata": {
    "collapsed": false,
    "ExecuteTime": {
     "end_time": "2023-12-16T21:49:38.139347975Z",
     "start_time": "2023-12-16T21:49:38.090918801Z"
    }
   },
   "id": "6b8dba276f74f63a"
  },
  {
   "cell_type": "markdown",
   "source": [
    "# replace missing values in the delivery information\n",
    "impute with mode for each brand (because sometimes the hover over window did not work during scraping)"
   ],
   "metadata": {
    "collapsed": false
   },
   "id": "97e2ad5d4f5e1ff"
  },
  {
   "cell_type": "code",
   "execution_count": 13,
   "outputs": [],
   "source": [
    "#helper function to impute missing values with the mode\n",
    "def impute_with_mode(group):\n",
    "    try:\n",
    "        mode = group['delivery_information'].mode()[0]\n",
    "    except KeyError:\n",
    "        return group\n",
    "    group['delivery_information'].fillna(mode, inplace=True)\n",
    "    return group\n",
    "\n",
    "# Apply the function to each group\n",
    "df = df.groupby('brand').apply(impute_with_mode)\n",
    "\n",
    "#drop the remaining null's\n",
    "df = df[df['delivery_information'].notnull()].copy()\n",
    "\n",
    "#reset the index\n",
    "df = df.reset_index(drop=True)\n",
    "\n",
    "#get the proper date (remove time)\n",
    "df[\"date\"] = df[\"scraped_at\"].dt.date\n",
    "\n",
    "#only select relevant cols\n",
    "cleaned_df = df[[\"brand\", \"name\", \"price\", \"delivery_information\", \"extracted_rating\", \"extracted_gb\",\n",
    "                 \"phone_color\", \"date\"]].copy()\n"
   ],
   "metadata": {
    "collapsed": false,
    "ExecuteTime": {
     "end_time": "2023-12-16T21:49:39.780297762Z",
     "start_time": "2023-12-16T21:49:39.669676290Z"
    }
   },
   "id": "d43386514afde39"
  },
  {
   "cell_type": "markdown",
   "source": [
    "## replace delivery information with days"
   ],
   "metadata": {
    "collapsed": false
   },
   "id": "9b6c875e3fb5b7d3"
  },
  {
   "cell_type": "code",
   "execution_count": 14,
   "outputs": [],
   "source": [
    "def calculate_delivery_time(row):\n",
    "    if row['delivery_information'] == 'morgen geliefert':\n",
    "        return 1\n",
    "    elif row['delivery_information'] == 'übermorgen geliefert':\n",
    "        return 2\n",
    "    else:\n",
    "        # Extract the first date from the string\n",
    "        match = re.search(r'\\d{1,2}\\.\\d{1,2}\\.', row['delivery_information'])\n",
    "        if match:\n",
    "            start_date_str = match.group()\n",
    "            # Parse the dates\n",
    "            start_date = datetime.strptime(start_date_str + '2023', '%d.%m.%Y').date()  \n",
    "            order_date = row[\"date\"]\n",
    "            # Calculate the difference in days\n",
    "            return (start_date - order_date).days\n",
    "        else:\n",
    "            return \"Lieferung nicht möglich\"  #if the phone cant be delivered\n",
    "\n",
    "\n",
    "cleaned_df['delivery_time_days'] = cleaned_df.apply(calculate_delivery_time, axis=1)"
   ],
   "metadata": {
    "collapsed": false,
    "ExecuteTime": {
     "end_time": "2023-12-16T21:49:41.111675823Z",
     "start_time": "2023-12-16T21:49:40.953106697Z"
    }
   },
   "id": "79be01129c37262"
  },
  {
   "cell_type": "markdown",
   "source": [
    "## check for duplicates"
   ],
   "metadata": {
    "collapsed": false
   },
   "id": "6be8fc277b7542a9"
  },
  {
   "cell_type": "code",
   "execution_count": 15,
   "outputs": [
    {
     "data": {
      "text/plain": "306"
     },
     "execution_count": 15,
     "metadata": {},
     "output_type": "execute_result"
    }
   ],
   "source": [
    "cleaned_df.duplicated().sum()"
   ],
   "metadata": {
    "collapsed": false,
    "ExecuteTime": {
     "end_time": "2023-12-16T21:49:42.545297814Z",
     "start_time": "2023-12-16T21:49:42.506805613Z"
    }
   },
   "id": "3a3c16c030f1172c"
  },
  {
   "cell_type": "code",
   "execution_count": 16,
   "outputs": [],
   "source": [
    "#remove the duplicates, since these will be irrelevant for our analysis\n",
    "cleaned_df = cleaned_df.drop_duplicates()"
   ],
   "metadata": {
    "collapsed": false,
    "ExecuteTime": {
     "end_time": "2023-12-16T21:49:43.174918747Z",
     "start_time": "2023-12-16T21:49:43.113051949Z"
    }
   },
   "id": "4281762bc606192a"
  },
  {
   "cell_type": "markdown",
   "source": [
    "## save cleaned data"
   ],
   "metadata": {
    "collapsed": false
   },
   "id": "331e9177cc118134"
  },
  {
   "cell_type": "code",
   "execution_count": 130,
   "outputs": [],
   "source": [
    "cleaned_df.to_csv('data/robin_portmann_stage2.csv', index=False)"
   ],
   "metadata": {
    "collapsed": false,
    "ExecuteTime": {
     "end_time": "2023-12-08T18:38:09.231527900Z",
     "start_time": "2023-12-08T18:38:09.184649900Z"
    }
   },
   "id": "47d5f4840ad0c371"
  }
 ],
 "metadata": {
  "kernelspec": {
   "display_name": "Python 3",
   "language": "python",
   "name": "python3"
  },
  "language_info": {
   "codemirror_mode": {
    "name": "ipython",
    "version": 2
   },
   "file_extension": ".py",
   "mimetype": "text/x-python",
   "name": "python",
   "nbconvert_exporter": "python",
   "pygments_lexer": "ipython2",
   "version": "2.7.6"
  }
 },
 "nbformat": 4,
 "nbformat_minor": 5
}
