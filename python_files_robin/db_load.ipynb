{
 "cells": [
  {
   "cell_type": "code",
   "execution_count": 31,
   "id": "initial_id",
   "metadata": {
    "collapsed": true,
    "ExecuteTime": {
     "end_time": "2023-12-15T14:29:03.803211614Z",
     "start_time": "2023-12-15T14:29:03.755922428Z"
    }
   },
   "outputs": [],
   "source": [
    "from sqlalchemy import create_engine\n",
    "import pandas as pd\n",
    "import pymysql\n",
    "import mariadb"
   ]
  },
  {
   "cell_type": "code",
   "execution_count": 25,
   "outputs": [],
   "source": [
    "username = \"cip_user\"\n",
    "password = \"cip_pw\"\n",
    "host = \"localhost\"\n",
    "port = \"3306\"\n",
    "database = \"CIP\"\n",
    "\n",
    "engine = create_engine(f\"mysql+pymysql://{username}:{password}@{host}:{port}/{database}\")\n",
    "\n",
    "df = pd.read_csv(\"../data/robin_portmann_stage2.csv\")\n",
    "\n",
    "#load into DB\n",
    "df.to_sql('digitec_stage2', con=engine, if_exists='replace', index=False)\n",
    "\n",
    "#check the table\n",
    "pd.read_sql(\"\"\"SELECT * FROM digitec_stage2\"\"\", con=engine)"
   ],
   "metadata": {
    "collapsed": false,
    "ExecuteTime": {
     "end_time": "2023-12-15T14:20:42.136781745Z",
     "start_time": "2023-12-15T14:20:42.083390168Z"
    }
   },
   "id": "e1c912eee361815"
  }
 ],
 "metadata": {
  "kernelspec": {
   "display_name": "Python 3",
   "language": "python",
   "name": "python3"
  },
  "language_info": {
   "codemirror_mode": {
    "name": "ipython",
    "version": 2
   },
   "file_extension": ".py",
   "mimetype": "text/x-python",
   "name": "python",
   "nbconvert_exporter": "python",
   "pygments_lexer": "ipython2",
   "version": "2.7.6"
  }
 },
 "nbformat": 4,
 "nbformat_minor": 5
}
