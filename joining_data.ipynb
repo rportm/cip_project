{
 "cells": [
  {
   "cell_type": "code",
   "execution_count": 1,
   "id": "initial_id",
   "metadata": {
    "collapsed": true,
    "ExecuteTime": {
     "end_time": "2023-12-09T09:45:55.289666300Z",
     "start_time": "2023-12-09T09:45:54.869255500Z"
    }
   },
   "outputs": [],
   "source": [
    "import pandas as pd"
   ]
  },
  {
   "cell_type": "code",
   "execution_count": 3,
   "outputs": [],
   "source": [
    "df_robin = pd.read_csv(\"data/robin_portmann_stage2.csv\")\n",
    "df_oli = pd.read_csv(\"data/oliver_heisel_stage2.csv\")"
   ],
   "metadata": {
    "collapsed": false,
    "ExecuteTime": {
     "end_time": "2023-12-09T09:48:16.932960600Z",
     "start_time": "2023-12-09T09:48:16.901707600Z"
    }
   },
   "id": "edb5bd556cc0a69b"
  },
  {
   "cell_type": "code",
   "execution_count": 4,
   "outputs": [
    {
     "data": {
      "text/plain": "  brand                                 name    price  \\\n0  ASUS                          ROG Phone 6   599.00   \n1  ASUS  ROG Phone 6 Diablo Immortal Edition   913.08   \n2  ASUS                           Zenfone 10   649.00   \n3  ASUS                          ROG Phone 7  1040.00   \n4  ASUS                           Zenfone 10   828.00   \n\n                          delivery_information extracted_rating  extracted_gb  \\\n0                             morgen geliefert              4.4         512.0   \n1  Zwischen Mi. 29.11. und Fr. 1.12. geliefert              3.5         512.0   \n2                             morgen geliefert              3.6         256.0   \n3                             morgen geliefert              4.5         512.0   \n4                             morgen geliefert              3.9         512.0   \n\n               phone_color        date delivery_time_days  \n0            Phantom Black  2023-11-24                  1  \n1  Diablo Immortal Edition  2023-11-24                  5  \n2           Midnight Black  2023-11-24                  1  \n3              Storm White  2023-11-24                  1  \n4           Midnight Black  2023-11-24                  1  ",
      "text/html": "<div>\n<style scoped>\n    .dataframe tbody tr th:only-of-type {\n        vertical-align: middle;\n    }\n\n    .dataframe tbody tr th {\n        vertical-align: top;\n    }\n\n    .dataframe thead th {\n        text-align: right;\n    }\n</style>\n<table border=\"1\" class=\"dataframe\">\n  <thead>\n    <tr style=\"text-align: right;\">\n      <th></th>\n      <th>brand</th>\n      <th>name</th>\n      <th>price</th>\n      <th>delivery_information</th>\n      <th>extracted_rating</th>\n      <th>extracted_gb</th>\n      <th>phone_color</th>\n      <th>date</th>\n      <th>delivery_time_days</th>\n    </tr>\n  </thead>\n  <tbody>\n    <tr>\n      <th>0</th>\n      <td>ASUS</td>\n      <td>ROG Phone 6</td>\n      <td>599.00</td>\n      <td>morgen geliefert</td>\n      <td>4.4</td>\n      <td>512.0</td>\n      <td>Phantom Black</td>\n      <td>2023-11-24</td>\n      <td>1</td>\n    </tr>\n    <tr>\n      <th>1</th>\n      <td>ASUS</td>\n      <td>ROG Phone 6 Diablo Immortal Edition</td>\n      <td>913.08</td>\n      <td>Zwischen Mi. 29.11. und Fr. 1.12. geliefert</td>\n      <td>3.5</td>\n      <td>512.0</td>\n      <td>Diablo Immortal Edition</td>\n      <td>2023-11-24</td>\n      <td>5</td>\n    </tr>\n    <tr>\n      <th>2</th>\n      <td>ASUS</td>\n      <td>Zenfone 10</td>\n      <td>649.00</td>\n      <td>morgen geliefert</td>\n      <td>3.6</td>\n      <td>256.0</td>\n      <td>Midnight Black</td>\n      <td>2023-11-24</td>\n      <td>1</td>\n    </tr>\n    <tr>\n      <th>3</th>\n      <td>ASUS</td>\n      <td>ROG Phone 7</td>\n      <td>1040.00</td>\n      <td>morgen geliefert</td>\n      <td>4.5</td>\n      <td>512.0</td>\n      <td>Storm White</td>\n      <td>2023-11-24</td>\n      <td>1</td>\n    </tr>\n    <tr>\n      <th>4</th>\n      <td>ASUS</td>\n      <td>Zenfone 10</td>\n      <td>828.00</td>\n      <td>morgen geliefert</td>\n      <td>3.9</td>\n      <td>512.0</td>\n      <td>Midnight Black</td>\n      <td>2023-11-24</td>\n      <td>1</td>\n    </tr>\n  </tbody>\n</table>\n</div>"
     },
     "execution_count": 4,
     "metadata": {},
     "output_type": "execute_result"
    }
   ],
   "source": [
    "df_robin.head()"
   ],
   "metadata": {
    "collapsed": false,
    "ExecuteTime": {
     "end_time": "2023-12-09T09:48:21.725306200Z",
     "start_time": "2023-12-09T09:48:21.705305900Z"
    }
   },
   "id": "52de8cce596aae76"
  },
  {
   "cell_type": "code",
   "execution_count": 5,
   "outputs": [
    {
     "data": {
      "text/plain": "  scrapeday   brand          model  storage           color  refurbished  \\\n0        bf  XIAOMI  Redmi Note 12    128.0       Onyx Gray        False   \n1        bf  XIAOMI        12 T 5G    256.0           Black        False   \n2        bf  XIAOMI       Redmi 12    128.0  Midnight Black        False   \n3        bf  XIAOMI       Redmi A2     32.0           Black        False   \n4        bf  XIAOMI       Redmi A2     32.0     Light Green        False   \n\n   rating  deliverydays  price_CHF  \n0  4.1250             0     192.09  \n1  4.5263             1     346.54  \n2  4.4872             1     153.48  \n3  4.0000             1      75.28  \n4  4.0000             1      75.28  ",
      "text/html": "<div>\n<style scoped>\n    .dataframe tbody tr th:only-of-type {\n        vertical-align: middle;\n    }\n\n    .dataframe tbody tr th {\n        vertical-align: top;\n    }\n\n    .dataframe thead th {\n        text-align: right;\n    }\n</style>\n<table border=\"1\" class=\"dataframe\">\n  <thead>\n    <tr style=\"text-align: right;\">\n      <th></th>\n      <th>scrapeday</th>\n      <th>brand</th>\n      <th>model</th>\n      <th>storage</th>\n      <th>color</th>\n      <th>refurbished</th>\n      <th>rating</th>\n      <th>deliverydays</th>\n      <th>price_CHF</th>\n    </tr>\n  </thead>\n  <tbody>\n    <tr>\n      <th>0</th>\n      <td>bf</td>\n      <td>XIAOMI</td>\n      <td>Redmi Note 12</td>\n      <td>128.0</td>\n      <td>Onyx Gray</td>\n      <td>False</td>\n      <td>4.1250</td>\n      <td>0</td>\n      <td>192.09</td>\n    </tr>\n    <tr>\n      <th>1</th>\n      <td>bf</td>\n      <td>XIAOMI</td>\n      <td>12 T 5G</td>\n      <td>256.0</td>\n      <td>Black</td>\n      <td>False</td>\n      <td>4.5263</td>\n      <td>1</td>\n      <td>346.54</td>\n    </tr>\n    <tr>\n      <th>2</th>\n      <td>bf</td>\n      <td>XIAOMI</td>\n      <td>Redmi 12</td>\n      <td>128.0</td>\n      <td>Midnight Black</td>\n      <td>False</td>\n      <td>4.4872</td>\n      <td>1</td>\n      <td>153.48</td>\n    </tr>\n    <tr>\n      <th>3</th>\n      <td>bf</td>\n      <td>XIAOMI</td>\n      <td>Redmi A2</td>\n      <td>32.0</td>\n      <td>Black</td>\n      <td>False</td>\n      <td>4.0000</td>\n      <td>1</td>\n      <td>75.28</td>\n    </tr>\n    <tr>\n      <th>4</th>\n      <td>bf</td>\n      <td>XIAOMI</td>\n      <td>Redmi A2</td>\n      <td>32.0</td>\n      <td>Light Green</td>\n      <td>False</td>\n      <td>4.0000</td>\n      <td>1</td>\n      <td>75.28</td>\n    </tr>\n  </tbody>\n</table>\n</div>"
     },
     "execution_count": 5,
     "metadata": {},
     "output_type": "execute_result"
    }
   ],
   "source": [
    "df_oli.head()"
   ],
   "metadata": {
    "collapsed": false,
    "ExecuteTime": {
     "end_time": "2023-12-09T09:48:37.718912900Z",
     "start_time": "2023-12-09T09:48:37.703913300Z"
    }
   },
   "id": "ec0e1c0476b18714"
  },
  {
   "cell_type": "markdown",
   "source": [
    "### first we need to match the date and scrapeday column"
   ],
   "metadata": {
    "collapsed": false
   },
   "id": "6ad28c3db7eaccc7"
  },
  {
   "cell_type": "code",
   "execution_count": 6,
   "outputs": [
    {
     "data": {
      "text/plain": "date\n2023-11-24    1955\n2023-11-27    1785\n2023-12-04    1783\nName: count, dtype: int64"
     },
     "execution_count": 6,
     "metadata": {},
     "output_type": "execute_result"
    }
   ],
   "source": [
    "df_robin[\"date\"].value_counts()"
   ],
   "metadata": {
    "collapsed": false,
    "ExecuteTime": {
     "end_time": "2023-12-09T09:51:49.989580200Z",
     "start_time": "2023-12-09T09:51:49.956271800Z"
    }
   },
   "id": "f864787a4929e5da"
  },
  {
   "cell_type": "code",
   "execution_count": 7,
   "outputs": [
    {
     "data": {
      "text/plain": "scrapeday\naf    2254\nbf    2031\ncm    1994\nName: count, dtype: int64"
     },
     "execution_count": 7,
     "metadata": {},
     "output_type": "execute_result"
    }
   ],
   "source": [
    "df_oli[\"scrapeday\"].value_counts()"
   ],
   "metadata": {
    "collapsed": false,
    "ExecuteTime": {
     "end_time": "2023-12-09T09:52:06.552406Z",
     "start_time": "2023-12-09T09:52:06.518990400Z"
    }
   },
   "id": "80387646d60ab35e"
  },
  {
   "cell_type": "code",
   "execution_count": 8,
   "outputs": [],
   "source": [
    "#replace the date column values\n",
    "date_replacements = {\n",
    "    '2023-11-24': 'bf',\n",
    "    '2023-11-27': 'cm',\n",
    "    '2023-12-04': 'af'\n",
    "}\n",
    "\n",
    "df_robin[\"scrapeday\"] = df_robin[\"date\"].replace(date_replacements)"
   ],
   "metadata": {
    "collapsed": false,
    "ExecuteTime": {
     "end_time": "2023-12-09T10:11:56.264402800Z",
     "start_time": "2023-12-09T10:11:56.233153500Z"
    }
   },
   "id": "75c80c657fe37eb5"
  },
  {
   "cell_type": "code",
   "execution_count": 11,
   "outputs": [
    {
     "data": {
      "text/plain": "scrapeday\nbf    1955\ncm    1785\naf    1783\nName: count, dtype: int64"
     },
     "execution_count": 11,
     "metadata": {},
     "output_type": "execute_result"
    }
   ],
   "source": [
    "df_robin[\"scrapeday\"].value_counts()"
   ],
   "metadata": {
    "collapsed": false,
    "ExecuteTime": {
     "end_time": "2023-12-09T10:12:46.855212700Z",
     "start_time": "2023-12-09T10:12:46.838484200Z"
    }
   },
   "id": "f8f7e13546299846"
  },
  {
   "cell_type": "code",
   "execution_count": 13,
   "outputs": [
    {
     "data": {
      "text/plain": "array(['ROG Phone 6', 'ROG Phone 6 Diablo Immortal Edition', 'Zenfone 10',\n       ..., '8i', '9 Pro+', 'GT Neo 3'], dtype=object)"
     },
     "execution_count": 13,
     "metadata": {},
     "output_type": "execute_result"
    }
   ],
   "source": [
    "df_robin[\"name\"].unique()"
   ],
   "metadata": {
    "collapsed": false,
    "ExecuteTime": {
     "end_time": "2023-12-09T10:13:53.308877500Z",
     "start_time": "2023-12-09T10:13:53.280252900Z"
    }
   },
   "id": "96d6984c7863da7"
  },
  {
   "cell_type": "code",
   "execution_count": 14,
   "outputs": [
    {
     "data": {
      "text/plain": "       brand                                               name    price  \\\n0       ASUS                                        ROG Phone 6   599.00   \n1       ASUS                ROG Phone 6 Diablo Immortal Edition   913.08   \n2       ASUS                                         Zenfone 10   649.00   \n3       ASUS                                        ROG Phone 7  1040.00   \n4       ASUS                                         Zenfone 10   828.00   \n...      ...                                                ...      ...   \n5518  realme                                                C35   149.00   \n5519  realme                                                 9i   114.00   \n5520  realme                      C33 4/64GB Dual SIM Night Sea   115.00   \n5521  realme  Narzo 50A Prime 64GB Flash Black [16.7cm (6.6 ...   211.00   \n5522  realme                                                  9   170.00   \n\n                              delivery_information extracted_rating  \\\n0                                 morgen geliefert              4.4   \n1      Zwischen Mi. 29.11. und Fr. 1.12. geliefert              3.5   \n2                                 morgen geliefert              3.6   \n3                                 morgen geliefert              4.5   \n4                                 morgen geliefert              3.9   \n...                                            ...              ...   \n5518   Zwischen Sa. 9.12. und Fr. 15.12. geliefert              5.0   \n5519  Zwischen Mi. 13.12. und Fr. 15.12. geliefert              5.0   \n5520  Zwischen Fr. 15.12. und Di. 19.12. geliefert        not rated   \n5521   Zwischen Do. 7.12. und Mo. 11.12. geliefert        not rated   \n5522     Zwischen 10.1.2024 und 1.2.2024 geliefert              4.0   \n\n      extracted_gb              phone_color        date delivery_time_days  \\\n0            512.0            Phantom Black  2023-11-24                  1   \n1            512.0  Diablo Immortal Edition  2023-11-24                  5   \n2            256.0           Midnight Black  2023-11-24                  1   \n3            512.0              Storm White  2023-11-24                  1   \n4            512.0           Midnight Black  2023-11-24                  1   \n...            ...                      ...         ...                ...   \n5518          64.0            Glowing green  2023-12-04                  5   \n5519          64.0               Prism Blue  2023-12-04                  9   \n5520          64.0                    Black  2023-12-04                 11   \n5521           4.0                  Schwarz  2023-12-04                  3   \n5522         128.0           Stargaze White  2023-12-04                 37   \n\n     scrapeday  \n0           bf  \n1           bf  \n2           bf  \n3           bf  \n4           bf  \n...        ...  \n5518        af  \n5519        af  \n5520        af  \n5521        af  \n5522        af  \n\n[5523 rows x 10 columns]",
      "text/html": "<div>\n<style scoped>\n    .dataframe tbody tr th:only-of-type {\n        vertical-align: middle;\n    }\n\n    .dataframe tbody tr th {\n        vertical-align: top;\n    }\n\n    .dataframe thead th {\n        text-align: right;\n    }\n</style>\n<table border=\"1\" class=\"dataframe\">\n  <thead>\n    <tr style=\"text-align: right;\">\n      <th></th>\n      <th>brand</th>\n      <th>name</th>\n      <th>price</th>\n      <th>delivery_information</th>\n      <th>extracted_rating</th>\n      <th>extracted_gb</th>\n      <th>phone_color</th>\n      <th>date</th>\n      <th>delivery_time_days</th>\n      <th>scrapeday</th>\n    </tr>\n  </thead>\n  <tbody>\n    <tr>\n      <th>0</th>\n      <td>ASUS</td>\n      <td>ROG Phone 6</td>\n      <td>599.00</td>\n      <td>morgen geliefert</td>\n      <td>4.4</td>\n      <td>512.0</td>\n      <td>Phantom Black</td>\n      <td>2023-11-24</td>\n      <td>1</td>\n      <td>bf</td>\n    </tr>\n    <tr>\n      <th>1</th>\n      <td>ASUS</td>\n      <td>ROG Phone 6 Diablo Immortal Edition</td>\n      <td>913.08</td>\n      <td>Zwischen Mi. 29.11. und Fr. 1.12. geliefert</td>\n      <td>3.5</td>\n      <td>512.0</td>\n      <td>Diablo Immortal Edition</td>\n      <td>2023-11-24</td>\n      <td>5</td>\n      <td>bf</td>\n    </tr>\n    <tr>\n      <th>2</th>\n      <td>ASUS</td>\n      <td>Zenfone 10</td>\n      <td>649.00</td>\n      <td>morgen geliefert</td>\n      <td>3.6</td>\n      <td>256.0</td>\n      <td>Midnight Black</td>\n      <td>2023-11-24</td>\n      <td>1</td>\n      <td>bf</td>\n    </tr>\n    <tr>\n      <th>3</th>\n      <td>ASUS</td>\n      <td>ROG Phone 7</td>\n      <td>1040.00</td>\n      <td>morgen geliefert</td>\n      <td>4.5</td>\n      <td>512.0</td>\n      <td>Storm White</td>\n      <td>2023-11-24</td>\n      <td>1</td>\n      <td>bf</td>\n    </tr>\n    <tr>\n      <th>4</th>\n      <td>ASUS</td>\n      <td>Zenfone 10</td>\n      <td>828.00</td>\n      <td>morgen geliefert</td>\n      <td>3.9</td>\n      <td>512.0</td>\n      <td>Midnight Black</td>\n      <td>2023-11-24</td>\n      <td>1</td>\n      <td>bf</td>\n    </tr>\n    <tr>\n      <th>...</th>\n      <td>...</td>\n      <td>...</td>\n      <td>...</td>\n      <td>...</td>\n      <td>...</td>\n      <td>...</td>\n      <td>...</td>\n      <td>...</td>\n      <td>...</td>\n      <td>...</td>\n    </tr>\n    <tr>\n      <th>5518</th>\n      <td>realme</td>\n      <td>C35</td>\n      <td>149.00</td>\n      <td>Zwischen Sa. 9.12. und Fr. 15.12. geliefert</td>\n      <td>5.0</td>\n      <td>64.0</td>\n      <td>Glowing green</td>\n      <td>2023-12-04</td>\n      <td>5</td>\n      <td>af</td>\n    </tr>\n    <tr>\n      <th>5519</th>\n      <td>realme</td>\n      <td>9i</td>\n      <td>114.00</td>\n      <td>Zwischen Mi. 13.12. und Fr. 15.12. geliefert</td>\n      <td>5.0</td>\n      <td>64.0</td>\n      <td>Prism Blue</td>\n      <td>2023-12-04</td>\n      <td>9</td>\n      <td>af</td>\n    </tr>\n    <tr>\n      <th>5520</th>\n      <td>realme</td>\n      <td>C33 4/64GB Dual SIM Night Sea</td>\n      <td>115.00</td>\n      <td>Zwischen Fr. 15.12. und Di. 19.12. geliefert</td>\n      <td>not rated</td>\n      <td>64.0</td>\n      <td>Black</td>\n      <td>2023-12-04</td>\n      <td>11</td>\n      <td>af</td>\n    </tr>\n    <tr>\n      <th>5521</th>\n      <td>realme</td>\n      <td>Narzo 50A Prime 64GB Flash Black [16.7cm (6.6 ...</td>\n      <td>211.00</td>\n      <td>Zwischen Do. 7.12. und Mo. 11.12. geliefert</td>\n      <td>not rated</td>\n      <td>4.0</td>\n      <td>Schwarz</td>\n      <td>2023-12-04</td>\n      <td>3</td>\n      <td>af</td>\n    </tr>\n    <tr>\n      <th>5522</th>\n      <td>realme</td>\n      <td>9</td>\n      <td>170.00</td>\n      <td>Zwischen 10.1.2024 und 1.2.2024 geliefert</td>\n      <td>4.0</td>\n      <td>128.0</td>\n      <td>Stargaze White</td>\n      <td>2023-12-04</td>\n      <td>37</td>\n      <td>af</td>\n    </tr>\n  </tbody>\n</table>\n<p>5523 rows × 10 columns</p>\n</div>"
     },
     "execution_count": 14,
     "metadata": {},
     "output_type": "execute_result"
    }
   ],
   "source": [
    "df_robin"
   ],
   "metadata": {
    "collapsed": false,
    "ExecuteTime": {
     "end_time": "2023-12-09T10:15:54.310660Z",
     "start_time": "2023-12-09T10:15:54.285938500Z"
    }
   },
   "id": "4b619ab3edf703a7"
  },
  {
   "cell_type": "code",
   "execution_count": 15,
   "outputs": [
    {
     "data": {
      "text/plain": "     scrapeday    brand          model  storage            color  refurbished  \\\n0           bf   XIAOMI  Redmi Note 12    128.0        Onyx Gray        False   \n1           bf   XIAOMI        12 T 5G    256.0            Black        False   \n2           bf   XIAOMI       Redmi 12    128.0   Midnight Black        False   \n3           bf   XIAOMI       Redmi A2     32.0            Black        False   \n4           bf   XIAOMI       Redmi A2     32.0      Light Green        False   \n...        ...      ...            ...      ...              ...          ...   \n6274        af  VIVANCO          36300      0.0             Weiß        False   \n6275        af  VIVANCO          37973      1.0          Schwarz        False   \n6276        af     WIKO            Y82     32.0        Dark Blue        False   \n6277        af     WIKO            Y52     16.0        Deep Blue        False   \n6278        af     WIKO  Y52 16GB GREY     16.0  GREY 16 GB Grey        False   \n\n      rating  deliverydays  price_CHF  \n0     4.1250             0     192.09  \n1     4.5263             1     346.54  \n2     4.4872             1     153.48  \n3     4.0000             1      75.28  \n4     4.0000             1      75.28  \n...      ...           ...        ...  \n6274     NaN             1      11.95  \n6275     NaN             4      33.28  \n6276  5.0000             0      94.54  \n6277  2.0000             0      66.18  \n6278  1.5000             0      66.18  \n\n[6279 rows x 9 columns]",
      "text/html": "<div>\n<style scoped>\n    .dataframe tbody tr th:only-of-type {\n        vertical-align: middle;\n    }\n\n    .dataframe tbody tr th {\n        vertical-align: top;\n    }\n\n    .dataframe thead th {\n        text-align: right;\n    }\n</style>\n<table border=\"1\" class=\"dataframe\">\n  <thead>\n    <tr style=\"text-align: right;\">\n      <th></th>\n      <th>scrapeday</th>\n      <th>brand</th>\n      <th>model</th>\n      <th>storage</th>\n      <th>color</th>\n      <th>refurbished</th>\n      <th>rating</th>\n      <th>deliverydays</th>\n      <th>price_CHF</th>\n    </tr>\n  </thead>\n  <tbody>\n    <tr>\n      <th>0</th>\n      <td>bf</td>\n      <td>XIAOMI</td>\n      <td>Redmi Note 12</td>\n      <td>128.0</td>\n      <td>Onyx Gray</td>\n      <td>False</td>\n      <td>4.1250</td>\n      <td>0</td>\n      <td>192.09</td>\n    </tr>\n    <tr>\n      <th>1</th>\n      <td>bf</td>\n      <td>XIAOMI</td>\n      <td>12 T 5G</td>\n      <td>256.0</td>\n      <td>Black</td>\n      <td>False</td>\n      <td>4.5263</td>\n      <td>1</td>\n      <td>346.54</td>\n    </tr>\n    <tr>\n      <th>2</th>\n      <td>bf</td>\n      <td>XIAOMI</td>\n      <td>Redmi 12</td>\n      <td>128.0</td>\n      <td>Midnight Black</td>\n      <td>False</td>\n      <td>4.4872</td>\n      <td>1</td>\n      <td>153.48</td>\n    </tr>\n    <tr>\n      <th>3</th>\n      <td>bf</td>\n      <td>XIAOMI</td>\n      <td>Redmi A2</td>\n      <td>32.0</td>\n      <td>Black</td>\n      <td>False</td>\n      <td>4.0000</td>\n      <td>1</td>\n      <td>75.28</td>\n    </tr>\n    <tr>\n      <th>4</th>\n      <td>bf</td>\n      <td>XIAOMI</td>\n      <td>Redmi A2</td>\n      <td>32.0</td>\n      <td>Light Green</td>\n      <td>False</td>\n      <td>4.0000</td>\n      <td>1</td>\n      <td>75.28</td>\n    </tr>\n    <tr>\n      <th>...</th>\n      <td>...</td>\n      <td>...</td>\n      <td>...</td>\n      <td>...</td>\n      <td>...</td>\n      <td>...</td>\n      <td>...</td>\n      <td>...</td>\n      <td>...</td>\n    </tr>\n    <tr>\n      <th>6274</th>\n      <td>af</td>\n      <td>VIVANCO</td>\n      <td>36300</td>\n      <td>0.0</td>\n      <td>Weiß</td>\n      <td>False</td>\n      <td>NaN</td>\n      <td>1</td>\n      <td>11.95</td>\n    </tr>\n    <tr>\n      <th>6275</th>\n      <td>af</td>\n      <td>VIVANCO</td>\n      <td>37973</td>\n      <td>1.0</td>\n      <td>Schwarz</td>\n      <td>False</td>\n      <td>NaN</td>\n      <td>4</td>\n      <td>33.28</td>\n    </tr>\n    <tr>\n      <th>6276</th>\n      <td>af</td>\n      <td>WIKO</td>\n      <td>Y82</td>\n      <td>32.0</td>\n      <td>Dark Blue</td>\n      <td>False</td>\n      <td>5.0000</td>\n      <td>0</td>\n      <td>94.54</td>\n    </tr>\n    <tr>\n      <th>6277</th>\n      <td>af</td>\n      <td>WIKO</td>\n      <td>Y52</td>\n      <td>16.0</td>\n      <td>Deep Blue</td>\n      <td>False</td>\n      <td>2.0000</td>\n      <td>0</td>\n      <td>66.18</td>\n    </tr>\n    <tr>\n      <th>6278</th>\n      <td>af</td>\n      <td>WIKO</td>\n      <td>Y52 16GB GREY</td>\n      <td>16.0</td>\n      <td>GREY 16 GB Grey</td>\n      <td>False</td>\n      <td>1.5000</td>\n      <td>0</td>\n      <td>66.18</td>\n    </tr>\n  </tbody>\n</table>\n<p>6279 rows × 9 columns</p>\n</div>"
     },
     "execution_count": 15,
     "metadata": {},
     "output_type": "execute_result"
    }
   ],
   "source": [
    "df_oli"
   ],
   "metadata": {
    "collapsed": false,
    "ExecuteTime": {
     "end_time": "2023-12-09T10:19:02.318294800Z",
     "start_time": "2023-12-09T10:19:02.281485600Z"
    }
   },
   "id": "1de4ca2f41d8accc"
  },
  {
   "cell_type": "markdown",
   "source": [
    "# merging the data"
   ],
   "metadata": {
    "collapsed": false
   },
   "id": "e8fb9f0a3985904c"
  },
  {
   "cell_type": "code",
   "execution_count": 16,
   "outputs": [
    {
     "data": {
      "text/plain": "   brand                  name    price  \\\n0   ASUS           ROG Phone 7  1040.00   \n1   ASUS  ROG Phone 7 Ultimate  1349.00   \n2   ASUS           ROG Phone 7   959.00   \n3   ASUS           ROG Phone 7   878.00   \n4   ASUS           ROG Phone 7   940.00   \n5   ASUS             Zenfone 9   593.00   \n6   ASUS             Zenfone 9   746.00   \n7   ASUS             Zenfone 9   537.33   \n8   ASUS  ROG Phone 7 Ultimate  1299.00   \n9   ASUS           ROG Phone 7  1041.00   \n10  ASUS           ROG Phone 7   959.00   \n11  ASUS             Zenfone 9   604.00   \n12  ASUS             Zenfone 9   739.00   \n13  ASUS           ROG Phone 7   999.00   \n14  ASUS             Zenfone 9   537.33   \n15  ASUS           ROG Phone 7  1036.00   \n16  ASUS           ROG Phone 7  1122.00   \n17  ASUS           ROG Phone 7   912.00   \n18  ASUS             Zenfone 9   651.00   \n19  ASUS           ROG Phone 7   930.00   \n20  ASUS             Zenfone 9   739.00   \n21  ASUS             Zenfone 9   633.46   \n22   ZTE             Blade A32    77.20   \n23   ZTE             Blade A52   159.00   \n24   ZTE             Blade A32    77.20   \n25   ZTE            Axon 30 5G   399.00   \n26   ZTE             Blade A32    84.60   \n27   ZTE             Blade A52   139.00   \n\n                            delivery_information extracted_rating  \\\n0                               morgen geliefert              4.5   \n1                               morgen geliefert              3.9   \n2   Zwischen Sa. 25.11. und Do. 30.11. geliefert              4.5   \n3                               morgen geliefert              3.4   \n4                               morgen geliefert              3.4   \n5                               morgen geliefert              4.6   \n6                               morgen geliefert              4.6   \n7    Zwischen Do. 30.11. und Mo. 4.12. geliefert              4.6   \n8                               morgen geliefert              3.9   \n9                               morgen geliefert              4.5   \n10  Zwischen Di. 28.11. und Do. 30.11. geliefert              4.5   \n11                              morgen geliefert              4.6   \n12                              morgen geliefert              4.6   \n13                              morgen geliefert              3.4   \n14   Zwischen Do. 30.11. und Mo. 4.12. geliefert              4.6   \n15                              morgen geliefert              4.5   \n16                              morgen geliefert              4.5   \n17                              morgen geliefert              3.4   \n18                              morgen geliefert              4.6   \n19                              morgen geliefert              3.4   \n20                              morgen geliefert              4.6   \n21   Zwischen Do. 7.12. und Mi. 13.12. geliefert              4.6   \n22   Zwischen Do. 30.11. und Di. 5.12. geliefert        not rated   \n23    Zwischen Sa. 2.12. und Mi. 6.12. geliefert        not rated   \n24    Zwischen Fr. 1.12. und Mi. 6.12. geliefert        not rated   \n25                              morgen geliefert        not rated   \n26   Zwischen Do. 7.12. und Mo. 11.12. geliefert        not rated   \n27  Zwischen Di. 12.12. und Do. 14.12. geliefert        not rated   \n\n    extracted_gb      phone_color        date delivery_time_days scrapeday  \\\n0          512.0      Storm White  2023-11-24                  1        bf   \n1          512.0      Storm White  2023-11-24                  1        bf   \n2          512.0    Phantom Black  2023-11-24                  1        bf   \n3          256.0    Phantom Black  2023-11-24                  1        bf   \n4          256.0      Storm White  2023-11-24                  1        bf   \n5          128.0   Midnight Black  2023-11-24                  1        bf   \n6          256.0   Midnight Black  2023-11-24                  1        bf   \n7          128.0  Moonlight White  2023-11-24                  6        bf   \n8          512.0      Storm White  2023-11-27                  1        cm   \n9          512.0      Storm White  2023-11-27                  1        cm   \n10         512.0    Phantom Black  2023-11-27                  1        cm   \n11         128.0   Midnight Black  2023-11-27                  1        cm   \n12         256.0   Midnight Black  2023-11-27                  1        cm   \n13         256.0      Storm White  2023-11-27                  1        cm   \n14         128.0  Moonlight White  2023-11-27                  3        cm   \n15         512.0    Phantom Black  2023-12-04                  1        af   \n16         512.0      Storm White  2023-12-04                  1        af   \n17         256.0    Phantom Black  2023-12-04                  1        af   \n18         128.0   Midnight Black  2023-12-04                  1        af   \n19         256.0      Storm White  2023-12-04                  1        af   \n20         256.0   Midnight Black  2023-12-04                  1        af   \n21         128.0  Moonlight White  2023-12-04                  3        af   \n22          32.0          Schwarz  2023-11-24                  6        bf   \n23          64.0       Space Grey  2023-11-24                  8        bf   \n24          32.0          Schwarz  2023-11-27                  4        cm   \n25         128.0          Schwarz  2023-12-04                  1        af   \n26          32.0          Schwarz  2023-12-04                  3        af   \n27          64.0       Space Grey  2023-12-04                  8        af   \n\n                   model  storage            color  refurbished  rating  \\\n0            ROG Phone 7    512.0      Storm White        False  5.0000   \n1   ROG Phone 7 Ultimate    512.0      Storm White        False  4.5238   \n2            ROG Phone 7    512.0    Phantom Black        False  4.6400   \n3            ROG Phone 7    256.0    Phantom Black        False  4.5000   \n4            ROG Phone 7    256.0      Storm White        False  4.5000   \n5              Zenfone 9    128.0   Midnight Black        False  4.7143   \n6              Zenfone 9    256.0   Midnight Black        False  4.4000   \n7              Zenfone 9    128.0  Moonlight White        False  5.0000   \n8   ROG Phone 7 Ultimate    512.0      Storm White        False  4.5238   \n9            ROG Phone 7    512.0      Storm White        False  5.0000   \n10           ROG Phone 7    512.0    Phantom Black        False  4.6400   \n11             Zenfone 9    128.0   Midnight Black        False  4.7143   \n12             Zenfone 9    256.0   Midnight Black        False  4.4000   \n13           ROG Phone 7    256.0      Storm White        False  4.5000   \n14             Zenfone 9    128.0  Moonlight White        False  5.0000   \n15           ROG Phone 7    512.0    Phantom Black        False  4.6538   \n16           ROG Phone 7    512.0      Storm White        False  5.0000   \n17           ROG Phone 7    256.0    Phantom Black        False  4.5000   \n18             Zenfone 9    128.0   Midnight Black        False  4.7143   \n19           ROG Phone 7    256.0      Storm White        False  4.5000   \n20             Zenfone 9    256.0   Midnight Black        False  4.4000   \n21             Zenfone 9    128.0  Moonlight White        False  5.0000   \n22             Blade A32     32.0          Schwarz        False  2.5714   \n23             Blade A52     64.0       Space Grey        False  4.2308   \n24             Blade A32     32.0          Schwarz        False  2.5714   \n25            Axon 30 5G    128.0          Schwarz        False  4.3750   \n26             Blade A32     32.0          Schwarz        False  2.5714   \n27             Blade A52     64.0       Space Grey        False  4.2308   \n\n    deliverydays  price_CHF  \n0              3    1157.39  \n1              3    1350.45  \n2              5    1156.43  \n3              5    1051.00  \n4              5     974.31  \n5              1     602.32  \n6              7    1453.37  \n7              1     546.48  \n8              2    1348.78  \n9              2    1155.96  \n10             4    1154.99  \n11             1     601.57  \n12             7    1386.96  \n13             4    1048.75  \n14             1     545.80  \n15             2    1133.65  \n16             2    1133.65  \n17             1    1015.50  \n18             9     609.85  \n19             1    1015.50  \n20             7    1383.61  \n21             1     640.50  \n22             1      67.56  \n23             3      96.52  \n24             2      67.48  \n25             0     244.88  \n26             1      66.18  \n27             2      94.54  ",
      "text/html": "<div>\n<style scoped>\n    .dataframe tbody tr th:only-of-type {\n        vertical-align: middle;\n    }\n\n    .dataframe tbody tr th {\n        vertical-align: top;\n    }\n\n    .dataframe thead th {\n        text-align: right;\n    }\n</style>\n<table border=\"1\" class=\"dataframe\">\n  <thead>\n    <tr style=\"text-align: right;\">\n      <th></th>\n      <th>brand</th>\n      <th>name</th>\n      <th>price</th>\n      <th>delivery_information</th>\n      <th>extracted_rating</th>\n      <th>extracted_gb</th>\n      <th>phone_color</th>\n      <th>date</th>\n      <th>delivery_time_days</th>\n      <th>scrapeday</th>\n      <th>model</th>\n      <th>storage</th>\n      <th>color</th>\n      <th>refurbished</th>\n      <th>rating</th>\n      <th>deliverydays</th>\n      <th>price_CHF</th>\n    </tr>\n  </thead>\n  <tbody>\n    <tr>\n      <th>0</th>\n      <td>ASUS</td>\n      <td>ROG Phone 7</td>\n      <td>1040.00</td>\n      <td>morgen geliefert</td>\n      <td>4.5</td>\n      <td>512.0</td>\n      <td>Storm White</td>\n      <td>2023-11-24</td>\n      <td>1</td>\n      <td>bf</td>\n      <td>ROG Phone 7</td>\n      <td>512.0</td>\n      <td>Storm White</td>\n      <td>False</td>\n      <td>5.0000</td>\n      <td>3</td>\n      <td>1157.39</td>\n    </tr>\n    <tr>\n      <th>1</th>\n      <td>ASUS</td>\n      <td>ROG Phone 7 Ultimate</td>\n      <td>1349.00</td>\n      <td>morgen geliefert</td>\n      <td>3.9</td>\n      <td>512.0</td>\n      <td>Storm White</td>\n      <td>2023-11-24</td>\n      <td>1</td>\n      <td>bf</td>\n      <td>ROG Phone 7 Ultimate</td>\n      <td>512.0</td>\n      <td>Storm White</td>\n      <td>False</td>\n      <td>4.5238</td>\n      <td>3</td>\n      <td>1350.45</td>\n    </tr>\n    <tr>\n      <th>2</th>\n      <td>ASUS</td>\n      <td>ROG Phone 7</td>\n      <td>959.00</td>\n      <td>Zwischen Sa. 25.11. und Do. 30.11. geliefert</td>\n      <td>4.5</td>\n      <td>512.0</td>\n      <td>Phantom Black</td>\n      <td>2023-11-24</td>\n      <td>1</td>\n      <td>bf</td>\n      <td>ROG Phone 7</td>\n      <td>512.0</td>\n      <td>Phantom Black</td>\n      <td>False</td>\n      <td>4.6400</td>\n      <td>5</td>\n      <td>1156.43</td>\n    </tr>\n    <tr>\n      <th>3</th>\n      <td>ASUS</td>\n      <td>ROG Phone 7</td>\n      <td>878.00</td>\n      <td>morgen geliefert</td>\n      <td>3.4</td>\n      <td>256.0</td>\n      <td>Phantom Black</td>\n      <td>2023-11-24</td>\n      <td>1</td>\n      <td>bf</td>\n      <td>ROG Phone 7</td>\n      <td>256.0</td>\n      <td>Phantom Black</td>\n      <td>False</td>\n      <td>4.5000</td>\n      <td>5</td>\n      <td>1051.00</td>\n    </tr>\n    <tr>\n      <th>4</th>\n      <td>ASUS</td>\n      <td>ROG Phone 7</td>\n      <td>940.00</td>\n      <td>morgen geliefert</td>\n      <td>3.4</td>\n      <td>256.0</td>\n      <td>Storm White</td>\n      <td>2023-11-24</td>\n      <td>1</td>\n      <td>bf</td>\n      <td>ROG Phone 7</td>\n      <td>256.0</td>\n      <td>Storm White</td>\n      <td>False</td>\n      <td>4.5000</td>\n      <td>5</td>\n      <td>974.31</td>\n    </tr>\n    <tr>\n      <th>5</th>\n      <td>ASUS</td>\n      <td>Zenfone 9</td>\n      <td>593.00</td>\n      <td>morgen geliefert</td>\n      <td>4.6</td>\n      <td>128.0</td>\n      <td>Midnight Black</td>\n      <td>2023-11-24</td>\n      <td>1</td>\n      <td>bf</td>\n      <td>Zenfone 9</td>\n      <td>128.0</td>\n      <td>Midnight Black</td>\n      <td>False</td>\n      <td>4.7143</td>\n      <td>1</td>\n      <td>602.32</td>\n    </tr>\n    <tr>\n      <th>6</th>\n      <td>ASUS</td>\n      <td>Zenfone 9</td>\n      <td>746.00</td>\n      <td>morgen geliefert</td>\n      <td>4.6</td>\n      <td>256.0</td>\n      <td>Midnight Black</td>\n      <td>2023-11-24</td>\n      <td>1</td>\n      <td>bf</td>\n      <td>Zenfone 9</td>\n      <td>256.0</td>\n      <td>Midnight Black</td>\n      <td>False</td>\n      <td>4.4000</td>\n      <td>7</td>\n      <td>1453.37</td>\n    </tr>\n    <tr>\n      <th>7</th>\n      <td>ASUS</td>\n      <td>Zenfone 9</td>\n      <td>537.33</td>\n      <td>Zwischen Do. 30.11. und Mo. 4.12. geliefert</td>\n      <td>4.6</td>\n      <td>128.0</td>\n      <td>Moonlight White</td>\n      <td>2023-11-24</td>\n      <td>6</td>\n      <td>bf</td>\n      <td>Zenfone 9</td>\n      <td>128.0</td>\n      <td>Moonlight White</td>\n      <td>False</td>\n      <td>5.0000</td>\n      <td>1</td>\n      <td>546.48</td>\n    </tr>\n    <tr>\n      <th>8</th>\n      <td>ASUS</td>\n      <td>ROG Phone 7 Ultimate</td>\n      <td>1299.00</td>\n      <td>morgen geliefert</td>\n      <td>3.9</td>\n      <td>512.0</td>\n      <td>Storm White</td>\n      <td>2023-11-27</td>\n      <td>1</td>\n      <td>cm</td>\n      <td>ROG Phone 7 Ultimate</td>\n      <td>512.0</td>\n      <td>Storm White</td>\n      <td>False</td>\n      <td>4.5238</td>\n      <td>2</td>\n      <td>1348.78</td>\n    </tr>\n    <tr>\n      <th>9</th>\n      <td>ASUS</td>\n      <td>ROG Phone 7</td>\n      <td>1041.00</td>\n      <td>morgen geliefert</td>\n      <td>4.5</td>\n      <td>512.0</td>\n      <td>Storm White</td>\n      <td>2023-11-27</td>\n      <td>1</td>\n      <td>cm</td>\n      <td>ROG Phone 7</td>\n      <td>512.0</td>\n      <td>Storm White</td>\n      <td>False</td>\n      <td>5.0000</td>\n      <td>2</td>\n      <td>1155.96</td>\n    </tr>\n    <tr>\n      <th>10</th>\n      <td>ASUS</td>\n      <td>ROG Phone 7</td>\n      <td>959.00</td>\n      <td>Zwischen Di. 28.11. und Do. 30.11. geliefert</td>\n      <td>4.5</td>\n      <td>512.0</td>\n      <td>Phantom Black</td>\n      <td>2023-11-27</td>\n      <td>1</td>\n      <td>cm</td>\n      <td>ROG Phone 7</td>\n      <td>512.0</td>\n      <td>Phantom Black</td>\n      <td>False</td>\n      <td>4.6400</td>\n      <td>4</td>\n      <td>1154.99</td>\n    </tr>\n    <tr>\n      <th>11</th>\n      <td>ASUS</td>\n      <td>Zenfone 9</td>\n      <td>604.00</td>\n      <td>morgen geliefert</td>\n      <td>4.6</td>\n      <td>128.0</td>\n      <td>Midnight Black</td>\n      <td>2023-11-27</td>\n      <td>1</td>\n      <td>cm</td>\n      <td>Zenfone 9</td>\n      <td>128.0</td>\n      <td>Midnight Black</td>\n      <td>False</td>\n      <td>4.7143</td>\n      <td>1</td>\n      <td>601.57</td>\n    </tr>\n    <tr>\n      <th>12</th>\n      <td>ASUS</td>\n      <td>Zenfone 9</td>\n      <td>739.00</td>\n      <td>morgen geliefert</td>\n      <td>4.6</td>\n      <td>256.0</td>\n      <td>Midnight Black</td>\n      <td>2023-11-27</td>\n      <td>1</td>\n      <td>cm</td>\n      <td>Zenfone 9</td>\n      <td>256.0</td>\n      <td>Midnight Black</td>\n      <td>False</td>\n      <td>4.4000</td>\n      <td>7</td>\n      <td>1386.96</td>\n    </tr>\n    <tr>\n      <th>13</th>\n      <td>ASUS</td>\n      <td>ROG Phone 7</td>\n      <td>999.00</td>\n      <td>morgen geliefert</td>\n      <td>3.4</td>\n      <td>256.0</td>\n      <td>Storm White</td>\n      <td>2023-11-27</td>\n      <td>1</td>\n      <td>cm</td>\n      <td>ROG Phone 7</td>\n      <td>256.0</td>\n      <td>Storm White</td>\n      <td>False</td>\n      <td>4.5000</td>\n      <td>4</td>\n      <td>1048.75</td>\n    </tr>\n    <tr>\n      <th>14</th>\n      <td>ASUS</td>\n      <td>Zenfone 9</td>\n      <td>537.33</td>\n      <td>Zwischen Do. 30.11. und Mo. 4.12. geliefert</td>\n      <td>4.6</td>\n      <td>128.0</td>\n      <td>Moonlight White</td>\n      <td>2023-11-27</td>\n      <td>3</td>\n      <td>cm</td>\n      <td>Zenfone 9</td>\n      <td>128.0</td>\n      <td>Moonlight White</td>\n      <td>False</td>\n      <td>5.0000</td>\n      <td>1</td>\n      <td>545.80</td>\n    </tr>\n    <tr>\n      <th>15</th>\n      <td>ASUS</td>\n      <td>ROG Phone 7</td>\n      <td>1036.00</td>\n      <td>morgen geliefert</td>\n      <td>4.5</td>\n      <td>512.0</td>\n      <td>Phantom Black</td>\n      <td>2023-12-04</td>\n      <td>1</td>\n      <td>af</td>\n      <td>ROG Phone 7</td>\n      <td>512.0</td>\n      <td>Phantom Black</td>\n      <td>False</td>\n      <td>4.6538</td>\n      <td>2</td>\n      <td>1133.65</td>\n    </tr>\n    <tr>\n      <th>16</th>\n      <td>ASUS</td>\n      <td>ROG Phone 7</td>\n      <td>1122.00</td>\n      <td>morgen geliefert</td>\n      <td>4.5</td>\n      <td>512.0</td>\n      <td>Storm White</td>\n      <td>2023-12-04</td>\n      <td>1</td>\n      <td>af</td>\n      <td>ROG Phone 7</td>\n      <td>512.0</td>\n      <td>Storm White</td>\n      <td>False</td>\n      <td>5.0000</td>\n      <td>2</td>\n      <td>1133.65</td>\n    </tr>\n    <tr>\n      <th>17</th>\n      <td>ASUS</td>\n      <td>ROG Phone 7</td>\n      <td>912.00</td>\n      <td>morgen geliefert</td>\n      <td>3.4</td>\n      <td>256.0</td>\n      <td>Phantom Black</td>\n      <td>2023-12-04</td>\n      <td>1</td>\n      <td>af</td>\n      <td>ROG Phone 7</td>\n      <td>256.0</td>\n      <td>Phantom Black</td>\n      <td>False</td>\n      <td>4.5000</td>\n      <td>1</td>\n      <td>1015.50</td>\n    </tr>\n    <tr>\n      <th>18</th>\n      <td>ASUS</td>\n      <td>Zenfone 9</td>\n      <td>651.00</td>\n      <td>morgen geliefert</td>\n      <td>4.6</td>\n      <td>128.0</td>\n      <td>Midnight Black</td>\n      <td>2023-12-04</td>\n      <td>1</td>\n      <td>af</td>\n      <td>Zenfone 9</td>\n      <td>128.0</td>\n      <td>Midnight Black</td>\n      <td>False</td>\n      <td>4.7143</td>\n      <td>9</td>\n      <td>609.85</td>\n    </tr>\n    <tr>\n      <th>19</th>\n      <td>ASUS</td>\n      <td>ROG Phone 7</td>\n      <td>930.00</td>\n      <td>morgen geliefert</td>\n      <td>3.4</td>\n      <td>256.0</td>\n      <td>Storm White</td>\n      <td>2023-12-04</td>\n      <td>1</td>\n      <td>af</td>\n      <td>ROG Phone 7</td>\n      <td>256.0</td>\n      <td>Storm White</td>\n      <td>False</td>\n      <td>4.5000</td>\n      <td>1</td>\n      <td>1015.50</td>\n    </tr>\n    <tr>\n      <th>20</th>\n      <td>ASUS</td>\n      <td>Zenfone 9</td>\n      <td>739.00</td>\n      <td>morgen geliefert</td>\n      <td>4.6</td>\n      <td>256.0</td>\n      <td>Midnight Black</td>\n      <td>2023-12-04</td>\n      <td>1</td>\n      <td>af</td>\n      <td>Zenfone 9</td>\n      <td>256.0</td>\n      <td>Midnight Black</td>\n      <td>False</td>\n      <td>4.4000</td>\n      <td>7</td>\n      <td>1383.61</td>\n    </tr>\n    <tr>\n      <th>21</th>\n      <td>ASUS</td>\n      <td>Zenfone 9</td>\n      <td>633.46</td>\n      <td>Zwischen Do. 7.12. und Mi. 13.12. geliefert</td>\n      <td>4.6</td>\n      <td>128.0</td>\n      <td>Moonlight White</td>\n      <td>2023-12-04</td>\n      <td>3</td>\n      <td>af</td>\n      <td>Zenfone 9</td>\n      <td>128.0</td>\n      <td>Moonlight White</td>\n      <td>False</td>\n      <td>5.0000</td>\n      <td>1</td>\n      <td>640.50</td>\n    </tr>\n    <tr>\n      <th>22</th>\n      <td>ZTE</td>\n      <td>Blade A32</td>\n      <td>77.20</td>\n      <td>Zwischen Do. 30.11. und Di. 5.12. geliefert</td>\n      <td>not rated</td>\n      <td>32.0</td>\n      <td>Schwarz</td>\n      <td>2023-11-24</td>\n      <td>6</td>\n      <td>bf</td>\n      <td>Blade A32</td>\n      <td>32.0</td>\n      <td>Schwarz</td>\n      <td>False</td>\n      <td>2.5714</td>\n      <td>1</td>\n      <td>67.56</td>\n    </tr>\n    <tr>\n      <th>23</th>\n      <td>ZTE</td>\n      <td>Blade A52</td>\n      <td>159.00</td>\n      <td>Zwischen Sa. 2.12. und Mi. 6.12. geliefert</td>\n      <td>not rated</td>\n      <td>64.0</td>\n      <td>Space Grey</td>\n      <td>2023-11-24</td>\n      <td>8</td>\n      <td>bf</td>\n      <td>Blade A52</td>\n      <td>64.0</td>\n      <td>Space Grey</td>\n      <td>False</td>\n      <td>4.2308</td>\n      <td>3</td>\n      <td>96.52</td>\n    </tr>\n    <tr>\n      <th>24</th>\n      <td>ZTE</td>\n      <td>Blade A32</td>\n      <td>77.20</td>\n      <td>Zwischen Fr. 1.12. und Mi. 6.12. geliefert</td>\n      <td>not rated</td>\n      <td>32.0</td>\n      <td>Schwarz</td>\n      <td>2023-11-27</td>\n      <td>4</td>\n      <td>cm</td>\n      <td>Blade A32</td>\n      <td>32.0</td>\n      <td>Schwarz</td>\n      <td>False</td>\n      <td>2.5714</td>\n      <td>2</td>\n      <td>67.48</td>\n    </tr>\n    <tr>\n      <th>25</th>\n      <td>ZTE</td>\n      <td>Axon 30 5G</td>\n      <td>399.00</td>\n      <td>morgen geliefert</td>\n      <td>not rated</td>\n      <td>128.0</td>\n      <td>Schwarz</td>\n      <td>2023-12-04</td>\n      <td>1</td>\n      <td>af</td>\n      <td>Axon 30 5G</td>\n      <td>128.0</td>\n      <td>Schwarz</td>\n      <td>False</td>\n      <td>4.3750</td>\n      <td>0</td>\n      <td>244.88</td>\n    </tr>\n    <tr>\n      <th>26</th>\n      <td>ZTE</td>\n      <td>Blade A32</td>\n      <td>84.60</td>\n      <td>Zwischen Do. 7.12. und Mo. 11.12. geliefert</td>\n      <td>not rated</td>\n      <td>32.0</td>\n      <td>Schwarz</td>\n      <td>2023-12-04</td>\n      <td>3</td>\n      <td>af</td>\n      <td>Blade A32</td>\n      <td>32.0</td>\n      <td>Schwarz</td>\n      <td>False</td>\n      <td>2.5714</td>\n      <td>1</td>\n      <td>66.18</td>\n    </tr>\n    <tr>\n      <th>27</th>\n      <td>ZTE</td>\n      <td>Blade A52</td>\n      <td>139.00</td>\n      <td>Zwischen Di. 12.12. und Do. 14.12. geliefert</td>\n      <td>not rated</td>\n      <td>64.0</td>\n      <td>Space Grey</td>\n      <td>2023-12-04</td>\n      <td>8</td>\n      <td>af</td>\n      <td>Blade A52</td>\n      <td>64.0</td>\n      <td>Space Grey</td>\n      <td>False</td>\n      <td>4.2308</td>\n      <td>2</td>\n      <td>94.54</td>\n    </tr>\n  </tbody>\n</table>\n</div>"
     },
     "execution_count": 16,
     "metadata": {},
     "output_type": "execute_result"
    }
   ],
   "source": [
    "pd.merge(df_robin, df_oli, left_on=[\"brand\", \"name\", \"phone_color\", \"extracted_gb\", \"scrapeday\"],\n",
    "         right_on=[\"brand\", \"model\", \"color\", \"storage\", \"scrapeday\"],\n",
    "         how=\"inner\", suffixes=(\"_digitec\", \"_mediamarkt\"))"
   ],
   "metadata": {
    "collapsed": false,
    "ExecuteTime": {
     "end_time": "2023-12-09T10:19:56.037007900Z",
     "start_time": "2023-12-09T10:19:55.975347600Z"
    }
   },
   "id": "56f900e7185f3364"
  }
 ],
 "metadata": {
  "kernelspec": {
   "display_name": "Python 3",
   "language": "python",
   "name": "python3"
  },
  "language_info": {
   "codemirror_mode": {
    "name": "ipython",
    "version": 2
   },
   "file_extension": ".py",
   "mimetype": "text/x-python",
   "name": "python",
   "nbconvert_exporter": "python",
   "pygments_lexer": "ipython2",
   "version": "2.7.6"
  }
 },
 "nbformat": 4,
 "nbformat_minor": 5
}
