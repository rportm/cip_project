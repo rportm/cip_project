{
 "cells": [
  {
   "cell_type": "code",
   "execution_count": 87,
   "id": "initial_id",
   "metadata": {
    "collapsed": true,
    "ExecuteTime": {
     "end_time": "2023-12-09T17:14:48.498661Z",
     "start_time": "2023-12-09T17:14:48.451786300Z"
    }
   },
   "outputs": [],
   "source": [
    "import pandas as pd\n",
    "from scipy.stats import mode\n",
    "import re"
   ]
  },
  {
   "cell_type": "code",
   "execution_count": 56,
   "outputs": [],
   "source": [
    "df_robin = pd.read_csv(\"data/robin_portmann_stage2.csv\")\n",
    "df_oli = pd.read_csv(\"data/oliver_heisel_stage2.csv\")"
   ],
   "metadata": {
    "collapsed": false,
    "ExecuteTime": {
     "end_time": "2023-12-09T15:09:31.981258300Z",
     "start_time": "2023-12-09T15:09:31.856262800Z"
    }
   },
   "id": "edb5bd556cc0a69b"
  },
  {
   "cell_type": "code",
   "execution_count": 57,
   "outputs": [
    {
     "data": {
      "text/plain": "  brand                                 name    price  \\\n0  ASUS                          ROG Phone 6   599.00   \n1  ASUS  ROG Phone 6 Diablo Immortal Edition   913.08   \n2  ASUS                           Zenfone 10   649.00   \n3  ASUS                          ROG Phone 7  1040.00   \n4  ASUS                           Zenfone 10   828.00   \n\n                          delivery_information extracted_rating  extracted_gb  \\\n0                             morgen geliefert              4.4         512.0   \n1  Zwischen Mi. 29.11. und Fr. 1.12. geliefert              3.5         512.0   \n2                             morgen geliefert              3.6         256.0   \n3                             morgen geliefert              4.5         512.0   \n4                             morgen geliefert              3.9         512.0   \n\n               phone_color        date delivery_time_days  \n0            Phantom Black  2023-11-24                  1  \n1  Diablo Immortal Edition  2023-11-24                  5  \n2           Midnight Black  2023-11-24                  1  \n3              Storm White  2023-11-24                  1  \n4           Midnight Black  2023-11-24                  1  ",
      "text/html": "<div>\n<style scoped>\n    .dataframe tbody tr th:only-of-type {\n        vertical-align: middle;\n    }\n\n    .dataframe tbody tr th {\n        vertical-align: top;\n    }\n\n    .dataframe thead th {\n        text-align: right;\n    }\n</style>\n<table border=\"1\" class=\"dataframe\">\n  <thead>\n    <tr style=\"text-align: right;\">\n      <th></th>\n      <th>brand</th>\n      <th>name</th>\n      <th>price</th>\n      <th>delivery_information</th>\n      <th>extracted_rating</th>\n      <th>extracted_gb</th>\n      <th>phone_color</th>\n      <th>date</th>\n      <th>delivery_time_days</th>\n    </tr>\n  </thead>\n  <tbody>\n    <tr>\n      <th>0</th>\n      <td>ASUS</td>\n      <td>ROG Phone 6</td>\n      <td>599.00</td>\n      <td>morgen geliefert</td>\n      <td>4.4</td>\n      <td>512.0</td>\n      <td>Phantom Black</td>\n      <td>2023-11-24</td>\n      <td>1</td>\n    </tr>\n    <tr>\n      <th>1</th>\n      <td>ASUS</td>\n      <td>ROG Phone 6 Diablo Immortal Edition</td>\n      <td>913.08</td>\n      <td>Zwischen Mi. 29.11. und Fr. 1.12. geliefert</td>\n      <td>3.5</td>\n      <td>512.0</td>\n      <td>Diablo Immortal Edition</td>\n      <td>2023-11-24</td>\n      <td>5</td>\n    </tr>\n    <tr>\n      <th>2</th>\n      <td>ASUS</td>\n      <td>Zenfone 10</td>\n      <td>649.00</td>\n      <td>morgen geliefert</td>\n      <td>3.6</td>\n      <td>256.0</td>\n      <td>Midnight Black</td>\n      <td>2023-11-24</td>\n      <td>1</td>\n    </tr>\n    <tr>\n      <th>3</th>\n      <td>ASUS</td>\n      <td>ROG Phone 7</td>\n      <td>1040.00</td>\n      <td>morgen geliefert</td>\n      <td>4.5</td>\n      <td>512.0</td>\n      <td>Storm White</td>\n      <td>2023-11-24</td>\n      <td>1</td>\n    </tr>\n    <tr>\n      <th>4</th>\n      <td>ASUS</td>\n      <td>Zenfone 10</td>\n      <td>828.00</td>\n      <td>morgen geliefert</td>\n      <td>3.9</td>\n      <td>512.0</td>\n      <td>Midnight Black</td>\n      <td>2023-11-24</td>\n      <td>1</td>\n    </tr>\n  </tbody>\n</table>\n</div>"
     },
     "execution_count": 57,
     "metadata": {},
     "output_type": "execute_result"
    }
   ],
   "source": [
    "df_robin.head()"
   ],
   "metadata": {
    "collapsed": false,
    "ExecuteTime": {
     "end_time": "2023-12-09T15:09:31.981258300Z",
     "start_time": "2023-12-09T15:09:31.903133300Z"
    }
   },
   "id": "52de8cce596aae76"
  },
  {
   "cell_type": "code",
   "execution_count": 58,
   "outputs": [
    {
     "data": {
      "text/plain": "  scrapeday   brand          model  storage           color  refurbished  \\\n0        bf  XIAOMI  Redmi Note 12      128       Onyx Gray            0   \n1        bf  XIAOMI        12 T 5G      256           Black            0   \n2        bf  XIAOMI       Redmi 12      128  Midnight Black            0   \n3        bf  XIAOMI       Redmi A2       32           Black            0   \n4        bf  XIAOMI       Redmi A2       32     Light Green            0   \n\n   rating  deliverydays  price_CHF  \n0  4.1250             0     192.09  \n1  4.5263             1     346.54  \n2  4.4872             1     153.48  \n3  4.0000             1      75.28  \n4  4.0000             1      75.28  ",
      "text/html": "<div>\n<style scoped>\n    .dataframe tbody tr th:only-of-type {\n        vertical-align: middle;\n    }\n\n    .dataframe tbody tr th {\n        vertical-align: top;\n    }\n\n    .dataframe thead th {\n        text-align: right;\n    }\n</style>\n<table border=\"1\" class=\"dataframe\">\n  <thead>\n    <tr style=\"text-align: right;\">\n      <th></th>\n      <th>scrapeday</th>\n      <th>brand</th>\n      <th>model</th>\n      <th>storage</th>\n      <th>color</th>\n      <th>refurbished</th>\n      <th>rating</th>\n      <th>deliverydays</th>\n      <th>price_CHF</th>\n    </tr>\n  </thead>\n  <tbody>\n    <tr>\n      <th>0</th>\n      <td>bf</td>\n      <td>XIAOMI</td>\n      <td>Redmi Note 12</td>\n      <td>128</td>\n      <td>Onyx Gray</td>\n      <td>0</td>\n      <td>4.1250</td>\n      <td>0</td>\n      <td>192.09</td>\n    </tr>\n    <tr>\n      <th>1</th>\n      <td>bf</td>\n      <td>XIAOMI</td>\n      <td>12 T 5G</td>\n      <td>256</td>\n      <td>Black</td>\n      <td>0</td>\n      <td>4.5263</td>\n      <td>1</td>\n      <td>346.54</td>\n    </tr>\n    <tr>\n      <th>2</th>\n      <td>bf</td>\n      <td>XIAOMI</td>\n      <td>Redmi 12</td>\n      <td>128</td>\n      <td>Midnight Black</td>\n      <td>0</td>\n      <td>4.4872</td>\n      <td>1</td>\n      <td>153.48</td>\n    </tr>\n    <tr>\n      <th>3</th>\n      <td>bf</td>\n      <td>XIAOMI</td>\n      <td>Redmi A2</td>\n      <td>32</td>\n      <td>Black</td>\n      <td>0</td>\n      <td>4.0000</td>\n      <td>1</td>\n      <td>75.28</td>\n    </tr>\n    <tr>\n      <th>4</th>\n      <td>bf</td>\n      <td>XIAOMI</td>\n      <td>Redmi A2</td>\n      <td>32</td>\n      <td>Light Green</td>\n      <td>0</td>\n      <td>4.0000</td>\n      <td>1</td>\n      <td>75.28</td>\n    </tr>\n  </tbody>\n</table>\n</div>"
     },
     "execution_count": 58,
     "metadata": {},
     "output_type": "execute_result"
    }
   ],
   "source": [
    "df_oli.head()"
   ],
   "metadata": {
    "collapsed": false,
    "ExecuteTime": {
     "end_time": "2023-12-09T15:09:31.981258300Z",
     "start_time": "2023-12-09T15:09:31.934435800Z"
    }
   },
   "id": "ec0e1c0476b18714"
  },
  {
   "cell_type": "markdown",
   "source": [
    "### first we need to match the date and scrapeday column"
   ],
   "metadata": {
    "collapsed": false
   },
   "id": "6ad28c3db7eaccc7"
  },
  {
   "cell_type": "code",
   "execution_count": 59,
   "outputs": [
    {
     "data": {
      "text/plain": "2023-11-24    1955\n2023-11-27    1785\n2023-12-04    1783\nName: date, dtype: int64"
     },
     "execution_count": 59,
     "metadata": {},
     "output_type": "execute_result"
    }
   ],
   "source": [
    "df_robin[\"date\"].value_counts()"
   ],
   "metadata": {
    "collapsed": false,
    "ExecuteTime": {
     "end_time": "2023-12-09T15:09:31.981258300Z",
     "start_time": "2023-12-09T15:09:31.950019100Z"
    }
   },
   "id": "f864787a4929e5da"
  },
  {
   "cell_type": "code",
   "execution_count": 60,
   "outputs": [
    {
     "data": {
      "text/plain": "af    2051\nbf    1850\ncm    1800\nName: scrapeday, dtype: int64"
     },
     "execution_count": 60,
     "metadata": {},
     "output_type": "execute_result"
    }
   ],
   "source": [
    "df_oli[\"scrapeday\"].value_counts()"
   ],
   "metadata": {
    "collapsed": false,
    "ExecuteTime": {
     "end_time": "2023-12-09T15:09:31.981258300Z",
     "start_time": "2023-12-09T15:09:31.965636300Z"
    }
   },
   "id": "80387646d60ab35e"
  },
  {
   "cell_type": "code",
   "execution_count": 61,
   "outputs": [],
   "source": [
    "#replace the date column values\n",
    "date_replacements = {\n",
    "    '2023-11-24': 'bf',\n",
    "    '2023-11-27': 'cm',\n",
    "    '2023-12-04': 'af'\n",
    "}\n",
    "\n",
    "df_robin[\"scrapeday\"] = df_robin[\"date\"].replace(date_replacements)"
   ],
   "metadata": {
    "collapsed": false,
    "ExecuteTime": {
     "end_time": "2023-12-09T15:09:32.012550100Z",
     "start_time": "2023-12-09T15:09:31.981258300Z"
    }
   },
   "id": "75c80c657fe37eb5"
  },
  {
   "cell_type": "code",
   "execution_count": 62,
   "outputs": [
    {
     "data": {
      "text/plain": "bf    1955\ncm    1785\naf    1783\nName: scrapeday, dtype: int64"
     },
     "execution_count": 62,
     "metadata": {},
     "output_type": "execute_result"
    }
   ],
   "source": [
    "df_robin[\"scrapeday\"].value_counts()"
   ],
   "metadata": {
    "collapsed": false,
    "ExecuteTime": {
     "end_time": "2023-12-09T15:09:32.079722900Z",
     "start_time": "2023-12-09T15:09:31.996884Z"
    }
   },
   "id": "f8f7e13546299846"
  },
  {
   "cell_type": "code",
   "execution_count": 63,
   "outputs": [
    {
     "data": {
      "text/plain": "array(['ROG Phone 6', 'ROG Phone 6 Diablo Immortal Edition', 'Zenfone 10',\n       ..., '8i', '9 Pro+', 'GT Neo 3'], dtype=object)"
     },
     "execution_count": 63,
     "metadata": {},
     "output_type": "execute_result"
    }
   ],
   "source": [
    "df_robin[\"name\"].unique()"
   ],
   "metadata": {
    "collapsed": false,
    "ExecuteTime": {
     "end_time": "2023-12-09T15:09:32.110928300Z",
     "start_time": "2023-12-09T15:09:32.012550100Z"
    }
   },
   "id": "96d6984c7863da7"
  },
  {
   "cell_type": "code",
   "execution_count": 64,
   "outputs": [
    {
     "data": {
      "text/plain": "       brand                                               name    price  \\\n0       ASUS                                        ROG Phone 6   599.00   \n1       ASUS                ROG Phone 6 Diablo Immortal Edition   913.08   \n2       ASUS                                         Zenfone 10   649.00   \n3       ASUS                                        ROG Phone 7  1040.00   \n4       ASUS                                         Zenfone 10   828.00   \n...      ...                                                ...      ...   \n5518  realme                                                C35   149.00   \n5519  realme                                                 9i   114.00   \n5520  realme                      C33 4/64GB Dual SIM Night Sea   115.00   \n5521  realme  Narzo 50A Prime 64GB Flash Black [16.7cm (6.6 ...   211.00   \n5522  realme                                                  9   170.00   \n\n                              delivery_information extracted_rating  \\\n0                                 morgen geliefert              4.4   \n1      Zwischen Mi. 29.11. und Fr. 1.12. geliefert              3.5   \n2                                 morgen geliefert              3.6   \n3                                 morgen geliefert              4.5   \n4                                 morgen geliefert              3.9   \n...                                            ...              ...   \n5518   Zwischen Sa. 9.12. und Fr. 15.12. geliefert              5.0   \n5519  Zwischen Mi. 13.12. und Fr. 15.12. geliefert              5.0   \n5520  Zwischen Fr. 15.12. und Di. 19.12. geliefert        not rated   \n5521   Zwischen Do. 7.12. und Mo. 11.12. geliefert        not rated   \n5522     Zwischen 10.1.2024 und 1.2.2024 geliefert              4.0   \n\n      extracted_gb              phone_color        date delivery_time_days  \\\n0            512.0            Phantom Black  2023-11-24                  1   \n1            512.0  Diablo Immortal Edition  2023-11-24                  5   \n2            256.0           Midnight Black  2023-11-24                  1   \n3            512.0              Storm White  2023-11-24                  1   \n4            512.0           Midnight Black  2023-11-24                  1   \n...            ...                      ...         ...                ...   \n5518          64.0            Glowing green  2023-12-04                  5   \n5519          64.0               Prism Blue  2023-12-04                  9   \n5520          64.0                    Black  2023-12-04                 11   \n5521           4.0                  Schwarz  2023-12-04                  3   \n5522         128.0           Stargaze White  2023-12-04                 37   \n\n     scrapeday  \n0           bf  \n1           bf  \n2           bf  \n3           bf  \n4           bf  \n...        ...  \n5518        af  \n5519        af  \n5520        af  \n5521        af  \n5522        af  \n\n[5523 rows x 10 columns]",
      "text/html": "<div>\n<style scoped>\n    .dataframe tbody tr th:only-of-type {\n        vertical-align: middle;\n    }\n\n    .dataframe tbody tr th {\n        vertical-align: top;\n    }\n\n    .dataframe thead th {\n        text-align: right;\n    }\n</style>\n<table border=\"1\" class=\"dataframe\">\n  <thead>\n    <tr style=\"text-align: right;\">\n      <th></th>\n      <th>brand</th>\n      <th>name</th>\n      <th>price</th>\n      <th>delivery_information</th>\n      <th>extracted_rating</th>\n      <th>extracted_gb</th>\n      <th>phone_color</th>\n      <th>date</th>\n      <th>delivery_time_days</th>\n      <th>scrapeday</th>\n    </tr>\n  </thead>\n  <tbody>\n    <tr>\n      <th>0</th>\n      <td>ASUS</td>\n      <td>ROG Phone 6</td>\n      <td>599.00</td>\n      <td>morgen geliefert</td>\n      <td>4.4</td>\n      <td>512.0</td>\n      <td>Phantom Black</td>\n      <td>2023-11-24</td>\n      <td>1</td>\n      <td>bf</td>\n    </tr>\n    <tr>\n      <th>1</th>\n      <td>ASUS</td>\n      <td>ROG Phone 6 Diablo Immortal Edition</td>\n      <td>913.08</td>\n      <td>Zwischen Mi. 29.11. und Fr. 1.12. geliefert</td>\n      <td>3.5</td>\n      <td>512.0</td>\n      <td>Diablo Immortal Edition</td>\n      <td>2023-11-24</td>\n      <td>5</td>\n      <td>bf</td>\n    </tr>\n    <tr>\n      <th>2</th>\n      <td>ASUS</td>\n      <td>Zenfone 10</td>\n      <td>649.00</td>\n      <td>morgen geliefert</td>\n      <td>3.6</td>\n      <td>256.0</td>\n      <td>Midnight Black</td>\n      <td>2023-11-24</td>\n      <td>1</td>\n      <td>bf</td>\n    </tr>\n    <tr>\n      <th>3</th>\n      <td>ASUS</td>\n      <td>ROG Phone 7</td>\n      <td>1040.00</td>\n      <td>morgen geliefert</td>\n      <td>4.5</td>\n      <td>512.0</td>\n      <td>Storm White</td>\n      <td>2023-11-24</td>\n      <td>1</td>\n      <td>bf</td>\n    </tr>\n    <tr>\n      <th>4</th>\n      <td>ASUS</td>\n      <td>Zenfone 10</td>\n      <td>828.00</td>\n      <td>morgen geliefert</td>\n      <td>3.9</td>\n      <td>512.0</td>\n      <td>Midnight Black</td>\n      <td>2023-11-24</td>\n      <td>1</td>\n      <td>bf</td>\n    </tr>\n    <tr>\n      <th>...</th>\n      <td>...</td>\n      <td>...</td>\n      <td>...</td>\n      <td>...</td>\n      <td>...</td>\n      <td>...</td>\n      <td>...</td>\n      <td>...</td>\n      <td>...</td>\n      <td>...</td>\n    </tr>\n    <tr>\n      <th>5518</th>\n      <td>realme</td>\n      <td>C35</td>\n      <td>149.00</td>\n      <td>Zwischen Sa. 9.12. und Fr. 15.12. geliefert</td>\n      <td>5.0</td>\n      <td>64.0</td>\n      <td>Glowing green</td>\n      <td>2023-12-04</td>\n      <td>5</td>\n      <td>af</td>\n    </tr>\n    <tr>\n      <th>5519</th>\n      <td>realme</td>\n      <td>9i</td>\n      <td>114.00</td>\n      <td>Zwischen Mi. 13.12. und Fr. 15.12. geliefert</td>\n      <td>5.0</td>\n      <td>64.0</td>\n      <td>Prism Blue</td>\n      <td>2023-12-04</td>\n      <td>9</td>\n      <td>af</td>\n    </tr>\n    <tr>\n      <th>5520</th>\n      <td>realme</td>\n      <td>C33 4/64GB Dual SIM Night Sea</td>\n      <td>115.00</td>\n      <td>Zwischen Fr. 15.12. und Di. 19.12. geliefert</td>\n      <td>not rated</td>\n      <td>64.0</td>\n      <td>Black</td>\n      <td>2023-12-04</td>\n      <td>11</td>\n      <td>af</td>\n    </tr>\n    <tr>\n      <th>5521</th>\n      <td>realme</td>\n      <td>Narzo 50A Prime 64GB Flash Black [16.7cm (6.6 ...</td>\n      <td>211.00</td>\n      <td>Zwischen Do. 7.12. und Mo. 11.12. geliefert</td>\n      <td>not rated</td>\n      <td>4.0</td>\n      <td>Schwarz</td>\n      <td>2023-12-04</td>\n      <td>3</td>\n      <td>af</td>\n    </tr>\n    <tr>\n      <th>5522</th>\n      <td>realme</td>\n      <td>9</td>\n      <td>170.00</td>\n      <td>Zwischen 10.1.2024 und 1.2.2024 geliefert</td>\n      <td>4.0</td>\n      <td>128.0</td>\n      <td>Stargaze White</td>\n      <td>2023-12-04</td>\n      <td>37</td>\n      <td>af</td>\n    </tr>\n  </tbody>\n</table>\n<p>5523 rows × 10 columns</p>\n</div>"
     },
     "execution_count": 64,
     "metadata": {},
     "output_type": "execute_result"
    }
   ],
   "source": [
    "df_robin"
   ],
   "metadata": {
    "collapsed": false,
    "ExecuteTime": {
     "end_time": "2023-12-09T15:09:32.204682400Z",
     "start_time": "2023-12-09T15:09:32.028133200Z"
    }
   },
   "id": "4b619ab3edf703a7"
  },
  {
   "cell_type": "code",
   "execution_count": 65,
   "outputs": [
    {
     "data": {
      "text/plain": "     scrapeday    brand          model  storage            color  refurbished  \\\n0           bf   XIAOMI  Redmi Note 12      128        Onyx Gray            0   \n1           bf   XIAOMI        12 T 5G      256            Black            0   \n2           bf   XIAOMI       Redmi 12      128   Midnight Black            0   \n3           bf   XIAOMI       Redmi A2       32            Black            0   \n4           bf   XIAOMI       Redmi A2       32      Light Green            0   \n...        ...      ...            ...      ...              ...          ...   \n5696        af  VIVANCO          36300        0             Weiß            0   \n5697        af  VIVANCO          37973        1          Schwarz            0   \n5698        af     WIKO            Y82       32        Dark Blue            0   \n5699        af     WIKO            Y52       16        Deep Blue            0   \n5700        af     WIKO  Y52 16GB GREY       16  GREY 16 GB Grey            0   \n\n      rating  deliverydays  price_CHF  \n0     4.1250             0     192.09  \n1     4.5263             1     346.54  \n2     4.4872             1     153.48  \n3     4.0000             1      75.28  \n4     4.0000             1      75.28  \n...      ...           ...        ...  \n5696  0.0000             1      11.95  \n5697  0.0000             4      33.28  \n5698  5.0000             0      94.54  \n5699  2.0000             0      66.18  \n5700  1.5000             0      66.18  \n\n[5701 rows x 9 columns]",
      "text/html": "<div>\n<style scoped>\n    .dataframe tbody tr th:only-of-type {\n        vertical-align: middle;\n    }\n\n    .dataframe tbody tr th {\n        vertical-align: top;\n    }\n\n    .dataframe thead th {\n        text-align: right;\n    }\n</style>\n<table border=\"1\" class=\"dataframe\">\n  <thead>\n    <tr style=\"text-align: right;\">\n      <th></th>\n      <th>scrapeday</th>\n      <th>brand</th>\n      <th>model</th>\n      <th>storage</th>\n      <th>color</th>\n      <th>refurbished</th>\n      <th>rating</th>\n      <th>deliverydays</th>\n      <th>price_CHF</th>\n    </tr>\n  </thead>\n  <tbody>\n    <tr>\n      <th>0</th>\n      <td>bf</td>\n      <td>XIAOMI</td>\n      <td>Redmi Note 12</td>\n      <td>128</td>\n      <td>Onyx Gray</td>\n      <td>0</td>\n      <td>4.1250</td>\n      <td>0</td>\n      <td>192.09</td>\n    </tr>\n    <tr>\n      <th>1</th>\n      <td>bf</td>\n      <td>XIAOMI</td>\n      <td>12 T 5G</td>\n      <td>256</td>\n      <td>Black</td>\n      <td>0</td>\n      <td>4.5263</td>\n      <td>1</td>\n      <td>346.54</td>\n    </tr>\n    <tr>\n      <th>2</th>\n      <td>bf</td>\n      <td>XIAOMI</td>\n      <td>Redmi 12</td>\n      <td>128</td>\n      <td>Midnight Black</td>\n      <td>0</td>\n      <td>4.4872</td>\n      <td>1</td>\n      <td>153.48</td>\n    </tr>\n    <tr>\n      <th>3</th>\n      <td>bf</td>\n      <td>XIAOMI</td>\n      <td>Redmi A2</td>\n      <td>32</td>\n      <td>Black</td>\n      <td>0</td>\n      <td>4.0000</td>\n      <td>1</td>\n      <td>75.28</td>\n    </tr>\n    <tr>\n      <th>4</th>\n      <td>bf</td>\n      <td>XIAOMI</td>\n      <td>Redmi A2</td>\n      <td>32</td>\n      <td>Light Green</td>\n      <td>0</td>\n      <td>4.0000</td>\n      <td>1</td>\n      <td>75.28</td>\n    </tr>\n    <tr>\n      <th>...</th>\n      <td>...</td>\n      <td>...</td>\n      <td>...</td>\n      <td>...</td>\n      <td>...</td>\n      <td>...</td>\n      <td>...</td>\n      <td>...</td>\n      <td>...</td>\n    </tr>\n    <tr>\n      <th>5696</th>\n      <td>af</td>\n      <td>VIVANCO</td>\n      <td>36300</td>\n      <td>0</td>\n      <td>Weiß</td>\n      <td>0</td>\n      <td>0.0000</td>\n      <td>1</td>\n      <td>11.95</td>\n    </tr>\n    <tr>\n      <th>5697</th>\n      <td>af</td>\n      <td>VIVANCO</td>\n      <td>37973</td>\n      <td>1</td>\n      <td>Schwarz</td>\n      <td>0</td>\n      <td>0.0000</td>\n      <td>4</td>\n      <td>33.28</td>\n    </tr>\n    <tr>\n      <th>5698</th>\n      <td>af</td>\n      <td>WIKO</td>\n      <td>Y82</td>\n      <td>32</td>\n      <td>Dark Blue</td>\n      <td>0</td>\n      <td>5.0000</td>\n      <td>0</td>\n      <td>94.54</td>\n    </tr>\n    <tr>\n      <th>5699</th>\n      <td>af</td>\n      <td>WIKO</td>\n      <td>Y52</td>\n      <td>16</td>\n      <td>Deep Blue</td>\n      <td>0</td>\n      <td>2.0000</td>\n      <td>0</td>\n      <td>66.18</td>\n    </tr>\n    <tr>\n      <th>5700</th>\n      <td>af</td>\n      <td>WIKO</td>\n      <td>Y52 16GB GREY</td>\n      <td>16</td>\n      <td>GREY 16 GB Grey</td>\n      <td>0</td>\n      <td>1.5000</td>\n      <td>0</td>\n      <td>66.18</td>\n    </tr>\n  </tbody>\n</table>\n<p>5701 rows × 9 columns</p>\n</div>"
     },
     "execution_count": 65,
     "metadata": {},
     "output_type": "execute_result"
    }
   ],
   "source": [
    "df_oli"
   ],
   "metadata": {
    "collapsed": false,
    "ExecuteTime": {
     "end_time": "2023-12-09T15:09:32.235992400Z",
     "start_time": "2023-12-09T15:09:32.064053900Z"
    }
   },
   "id": "1de4ca2f41d8accc"
  },
  {
   "cell_type": "code",
   "execution_count": 67,
   "outputs": [
    {
     "data": {
      "text/plain": "     scrapeday    brand          model  storage            color  refurbished  \\\n0           bf   XIAOMI  Redmi Note 12      128        Onyx Gray            0   \n1           bf   XIAOMI        12 T 5G      256            Black            0   \n2           bf   XIAOMI       Redmi 12      128   Midnight Black            0   \n3           bf   XIAOMI       Redmi A2       32            Black            0   \n4           bf   XIAOMI       Redmi A2       32      Light Green            0   \n...        ...      ...            ...      ...              ...          ...   \n5696        af  VIVANCO          36300        0             Weiß            0   \n5697        af  VIVANCO          37973        1          Schwarz            0   \n5698        af     WIKO            Y82       32        Dark Blue            0   \n5699        af     WIKO            Y52       16        Deep Blue            0   \n5700        af     WIKO  Y52 16GB GREY       16  GREY 16 GB Grey            0   \n\n      rating  deliverydays  price_CHF  \n0     4.1250             0     192.09  \n1     4.5263             1     346.54  \n2     4.4872             1     153.48  \n3     4.0000             1      75.28  \n4     4.0000             1      75.28  \n...      ...           ...        ...  \n5696  0.0000             1      11.95  \n5697  0.0000             4      33.28  \n5698  5.0000             0      94.54  \n5699  2.0000             0      66.18  \n5700  1.5000             0      66.18  \n\n[4964 rows x 9 columns]",
      "text/html": "<div>\n<style scoped>\n    .dataframe tbody tr th:only-of-type {\n        vertical-align: middle;\n    }\n\n    .dataframe tbody tr th {\n        vertical-align: top;\n    }\n\n    .dataframe thead th {\n        text-align: right;\n    }\n</style>\n<table border=\"1\" class=\"dataframe\">\n  <thead>\n    <tr style=\"text-align: right;\">\n      <th></th>\n      <th>scrapeday</th>\n      <th>brand</th>\n      <th>model</th>\n      <th>storage</th>\n      <th>color</th>\n      <th>refurbished</th>\n      <th>rating</th>\n      <th>deliverydays</th>\n      <th>price_CHF</th>\n    </tr>\n  </thead>\n  <tbody>\n    <tr>\n      <th>0</th>\n      <td>bf</td>\n      <td>XIAOMI</td>\n      <td>Redmi Note 12</td>\n      <td>128</td>\n      <td>Onyx Gray</td>\n      <td>0</td>\n      <td>4.1250</td>\n      <td>0</td>\n      <td>192.09</td>\n    </tr>\n    <tr>\n      <th>1</th>\n      <td>bf</td>\n      <td>XIAOMI</td>\n      <td>12 T 5G</td>\n      <td>256</td>\n      <td>Black</td>\n      <td>0</td>\n      <td>4.5263</td>\n      <td>1</td>\n      <td>346.54</td>\n    </tr>\n    <tr>\n      <th>2</th>\n      <td>bf</td>\n      <td>XIAOMI</td>\n      <td>Redmi 12</td>\n      <td>128</td>\n      <td>Midnight Black</td>\n      <td>0</td>\n      <td>4.4872</td>\n      <td>1</td>\n      <td>153.48</td>\n    </tr>\n    <tr>\n      <th>3</th>\n      <td>bf</td>\n      <td>XIAOMI</td>\n      <td>Redmi A2</td>\n      <td>32</td>\n      <td>Black</td>\n      <td>0</td>\n      <td>4.0000</td>\n      <td>1</td>\n      <td>75.28</td>\n    </tr>\n    <tr>\n      <th>4</th>\n      <td>bf</td>\n      <td>XIAOMI</td>\n      <td>Redmi A2</td>\n      <td>32</td>\n      <td>Light Green</td>\n      <td>0</td>\n      <td>4.0000</td>\n      <td>1</td>\n      <td>75.28</td>\n    </tr>\n    <tr>\n      <th>...</th>\n      <td>...</td>\n      <td>...</td>\n      <td>...</td>\n      <td>...</td>\n      <td>...</td>\n      <td>...</td>\n      <td>...</td>\n      <td>...</td>\n      <td>...</td>\n    </tr>\n    <tr>\n      <th>5696</th>\n      <td>af</td>\n      <td>VIVANCO</td>\n      <td>36300</td>\n      <td>0</td>\n      <td>Weiß</td>\n      <td>0</td>\n      <td>0.0000</td>\n      <td>1</td>\n      <td>11.95</td>\n    </tr>\n    <tr>\n      <th>5697</th>\n      <td>af</td>\n      <td>VIVANCO</td>\n      <td>37973</td>\n      <td>1</td>\n      <td>Schwarz</td>\n      <td>0</td>\n      <td>0.0000</td>\n      <td>4</td>\n      <td>33.28</td>\n    </tr>\n    <tr>\n      <th>5698</th>\n      <td>af</td>\n      <td>WIKO</td>\n      <td>Y82</td>\n      <td>32</td>\n      <td>Dark Blue</td>\n      <td>0</td>\n      <td>5.0000</td>\n      <td>0</td>\n      <td>94.54</td>\n    </tr>\n    <tr>\n      <th>5699</th>\n      <td>af</td>\n      <td>WIKO</td>\n      <td>Y52</td>\n      <td>16</td>\n      <td>Deep Blue</td>\n      <td>0</td>\n      <td>2.0000</td>\n      <td>0</td>\n      <td>66.18</td>\n    </tr>\n    <tr>\n      <th>5700</th>\n      <td>af</td>\n      <td>WIKO</td>\n      <td>Y52 16GB GREY</td>\n      <td>16</td>\n      <td>GREY 16 GB Grey</td>\n      <td>0</td>\n      <td>1.5000</td>\n      <td>0</td>\n      <td>66.18</td>\n    </tr>\n  </tbody>\n</table>\n<p>4964 rows × 9 columns</p>\n</div>"
     },
     "execution_count": 67,
     "metadata": {},
     "output_type": "execute_result"
    }
   ],
   "source": [
    "#remove all the refurbished phones from olis' dataset\n",
    "df_oli = df_oli[df_oli[\"refurbished\"] == 0].copy()\n",
    "\n",
    "df_oli"
   ],
   "metadata": {
    "collapsed": false,
    "ExecuteTime": {
     "end_time": "2023-12-09T15:09:47.190280400Z",
     "start_time": "2023-12-09T15:09:47.158957800Z"
    }
   }
  },
  {
   "cell_type": "markdown",
   "source": [
    "# merging the data"
   ],
   "metadata": {
    "collapsed": false
   },
   "id": "e8fb9f0a3985904c"
  },
  {
   "cell_type": "code",
   "execution_count": 17,
   "outputs": [
    {
     "data": {
      "text/plain": "   brand                  name    price  \\\n0   ASUS           ROG Phone 7  1040.00   \n1   ASUS  ROG Phone 7 Ultimate  1349.00   \n2   ASUS           ROG Phone 7   959.00   \n3   ASUS           ROG Phone 7   878.00   \n4   ASUS           ROG Phone 7   940.00   \n5   ASUS             Zenfone 9   593.00   \n6   ASUS             Zenfone 9   746.00   \n7   ASUS             Zenfone 9   537.33   \n8   ASUS  ROG Phone 7 Ultimate  1299.00   \n9   ASUS           ROG Phone 7  1041.00   \n10  ASUS           ROG Phone 7   959.00   \n11  ASUS             Zenfone 9   604.00   \n12  ASUS             Zenfone 9   739.00   \n13  ASUS           ROG Phone 7   999.00   \n14  ASUS             Zenfone 9   537.33   \n15  ASUS           ROG Phone 7  1036.00   \n16  ASUS           ROG Phone 7  1122.00   \n17  ASUS           ROG Phone 7   912.00   \n18  ASUS             Zenfone 9   651.00   \n19  ASUS           ROG Phone 7   930.00   \n20  ASUS             Zenfone 9   739.00   \n21  ASUS             Zenfone 9   633.46   \n22   ZTE             Blade A32    77.20   \n23   ZTE             Blade A52   159.00   \n24   ZTE             Blade A32    77.20   \n25   ZTE            Axon 30 5G   399.00   \n26   ZTE             Blade A32    84.60   \n27   ZTE             Blade A52   139.00   \n\n                            delivery_information extracted_rating  \\\n0                               morgen geliefert              4.5   \n1                               morgen geliefert              3.9   \n2   Zwischen Sa. 25.11. und Do. 30.11. geliefert              4.5   \n3                               morgen geliefert              3.4   \n4                               morgen geliefert              3.4   \n5                               morgen geliefert              4.6   \n6                               morgen geliefert              4.6   \n7    Zwischen Do. 30.11. und Mo. 4.12. geliefert              4.6   \n8                               morgen geliefert              3.9   \n9                               morgen geliefert              4.5   \n10  Zwischen Di. 28.11. und Do. 30.11. geliefert              4.5   \n11                              morgen geliefert              4.6   \n12                              morgen geliefert              4.6   \n13                              morgen geliefert              3.4   \n14   Zwischen Do. 30.11. und Mo. 4.12. geliefert              4.6   \n15                              morgen geliefert              4.5   \n16                              morgen geliefert              4.5   \n17                              morgen geliefert              3.4   \n18                              morgen geliefert              4.6   \n19                              morgen geliefert              3.4   \n20                              morgen geliefert              4.6   \n21   Zwischen Do. 7.12. und Mi. 13.12. geliefert              4.6   \n22   Zwischen Do. 30.11. und Di. 5.12. geliefert        not rated   \n23    Zwischen Sa. 2.12. und Mi. 6.12. geliefert        not rated   \n24    Zwischen Fr. 1.12. und Mi. 6.12. geliefert        not rated   \n25                              morgen geliefert        not rated   \n26   Zwischen Do. 7.12. und Mo. 11.12. geliefert        not rated   \n27  Zwischen Di. 12.12. und Do. 14.12. geliefert        not rated   \n\n    extracted_gb      phone_color        date delivery_time_days scrapeday  \\\n0          512.0      Storm White  2023-11-24                  1        bf   \n1          512.0      Storm White  2023-11-24                  1        bf   \n2          512.0    Phantom Black  2023-11-24                  1        bf   \n3          256.0    Phantom Black  2023-11-24                  1        bf   \n4          256.0      Storm White  2023-11-24                  1        bf   \n5          128.0   Midnight Black  2023-11-24                  1        bf   \n6          256.0   Midnight Black  2023-11-24                  1        bf   \n7          128.0  Moonlight White  2023-11-24                  6        bf   \n8          512.0      Storm White  2023-11-27                  1        cm   \n9          512.0      Storm White  2023-11-27                  1        cm   \n10         512.0    Phantom Black  2023-11-27                  1        cm   \n11         128.0   Midnight Black  2023-11-27                  1        cm   \n12         256.0   Midnight Black  2023-11-27                  1        cm   \n13         256.0      Storm White  2023-11-27                  1        cm   \n14         128.0  Moonlight White  2023-11-27                  3        cm   \n15         512.0    Phantom Black  2023-12-04                  1        af   \n16         512.0      Storm White  2023-12-04                  1        af   \n17         256.0    Phantom Black  2023-12-04                  1        af   \n18         128.0   Midnight Black  2023-12-04                  1        af   \n19         256.0      Storm White  2023-12-04                  1        af   \n20         256.0   Midnight Black  2023-12-04                  1        af   \n21         128.0  Moonlight White  2023-12-04                  3        af   \n22          32.0          Schwarz  2023-11-24                  6        bf   \n23          64.0       Space Grey  2023-11-24                  8        bf   \n24          32.0          Schwarz  2023-11-27                  4        cm   \n25         128.0          Schwarz  2023-12-04                  1        af   \n26          32.0          Schwarz  2023-12-04                  3        af   \n27          64.0       Space Grey  2023-12-04                  8        af   \n\n                   model  storage            color  refurbished  rating  \\\n0            ROG Phone 7      512      Storm White            0  5.0000   \n1   ROG Phone 7 Ultimate      512      Storm White            0  4.5238   \n2            ROG Phone 7      512    Phantom Black            0  4.6400   \n3            ROG Phone 7      256    Phantom Black            0  4.5000   \n4            ROG Phone 7      256      Storm White            0  4.5000   \n5              Zenfone 9      128   Midnight Black            0  4.7143   \n6              Zenfone 9      256   Midnight Black            0  4.4000   \n7              Zenfone 9      128  Moonlight White            0  5.0000   \n8   ROG Phone 7 Ultimate      512      Storm White            0  4.5238   \n9            ROG Phone 7      512      Storm White            0  5.0000   \n10           ROG Phone 7      512    Phantom Black            0  4.6400   \n11             Zenfone 9      128   Midnight Black            0  4.7143   \n12             Zenfone 9      256   Midnight Black            0  4.4000   \n13           ROG Phone 7      256      Storm White            0  4.5000   \n14             Zenfone 9      128  Moonlight White            0  5.0000   \n15           ROG Phone 7      512    Phantom Black            0  4.6538   \n16           ROG Phone 7      512      Storm White            0  5.0000   \n17           ROG Phone 7      256    Phantom Black            0  4.5000   \n18             Zenfone 9      128   Midnight Black            0  4.7143   \n19           ROG Phone 7      256      Storm White            0  4.5000   \n20             Zenfone 9      256   Midnight Black            0  4.4000   \n21             Zenfone 9      128  Moonlight White            0  5.0000   \n22             Blade A32       32          Schwarz            0  2.5714   \n23             Blade A52       64       Space Grey            0  4.2308   \n24             Blade A32       32          Schwarz            0  2.5714   \n25            Axon 30 5G      128          Schwarz            0  4.3750   \n26             Blade A32       32          Schwarz            0  2.5714   \n27             Blade A52       64       Space Grey            0  4.2308   \n\n    deliverydays  price_CHF  \n0              3    1157.39  \n1              3    1350.45  \n2              5    1156.43  \n3              5    1051.00  \n4              5     974.31  \n5              1     602.32  \n6              7    1453.37  \n7              1     546.48  \n8              2    1348.78  \n9              2    1155.96  \n10             4    1154.99  \n11             1     601.57  \n12             7    1386.96  \n13             4    1048.75  \n14             1     545.80  \n15             2    1133.65  \n16             2    1133.65  \n17             1    1015.50  \n18             9     609.85  \n19             1    1015.50  \n20             7    1383.61  \n21             1     640.50  \n22             1      67.56  \n23             3      96.52  \n24             2      67.48  \n25             0     244.88  \n26             1      66.18  \n27             2      94.54  ",
      "text/html": "<div>\n<style scoped>\n    .dataframe tbody tr th:only-of-type {\n        vertical-align: middle;\n    }\n\n    .dataframe tbody tr th {\n        vertical-align: top;\n    }\n\n    .dataframe thead th {\n        text-align: right;\n    }\n</style>\n<table border=\"1\" class=\"dataframe\">\n  <thead>\n    <tr style=\"text-align: right;\">\n      <th></th>\n      <th>brand</th>\n      <th>name</th>\n      <th>price</th>\n      <th>delivery_information</th>\n      <th>extracted_rating</th>\n      <th>extracted_gb</th>\n      <th>phone_color</th>\n      <th>date</th>\n      <th>delivery_time_days</th>\n      <th>scrapeday</th>\n      <th>model</th>\n      <th>storage</th>\n      <th>color</th>\n      <th>refurbished</th>\n      <th>rating</th>\n      <th>deliverydays</th>\n      <th>price_CHF</th>\n    </tr>\n  </thead>\n  <tbody>\n    <tr>\n      <th>0</th>\n      <td>ASUS</td>\n      <td>ROG Phone 7</td>\n      <td>1040.00</td>\n      <td>morgen geliefert</td>\n      <td>4.5</td>\n      <td>512.0</td>\n      <td>Storm White</td>\n      <td>2023-11-24</td>\n      <td>1</td>\n      <td>bf</td>\n      <td>ROG Phone 7</td>\n      <td>512</td>\n      <td>Storm White</td>\n      <td>0</td>\n      <td>5.0000</td>\n      <td>3</td>\n      <td>1157.39</td>\n    </tr>\n    <tr>\n      <th>1</th>\n      <td>ASUS</td>\n      <td>ROG Phone 7 Ultimate</td>\n      <td>1349.00</td>\n      <td>morgen geliefert</td>\n      <td>3.9</td>\n      <td>512.0</td>\n      <td>Storm White</td>\n      <td>2023-11-24</td>\n      <td>1</td>\n      <td>bf</td>\n      <td>ROG Phone 7 Ultimate</td>\n      <td>512</td>\n      <td>Storm White</td>\n      <td>0</td>\n      <td>4.5238</td>\n      <td>3</td>\n      <td>1350.45</td>\n    </tr>\n    <tr>\n      <th>2</th>\n      <td>ASUS</td>\n      <td>ROG Phone 7</td>\n      <td>959.00</td>\n      <td>Zwischen Sa. 25.11. und Do. 30.11. geliefert</td>\n      <td>4.5</td>\n      <td>512.0</td>\n      <td>Phantom Black</td>\n      <td>2023-11-24</td>\n      <td>1</td>\n      <td>bf</td>\n      <td>ROG Phone 7</td>\n      <td>512</td>\n      <td>Phantom Black</td>\n      <td>0</td>\n      <td>4.6400</td>\n      <td>5</td>\n      <td>1156.43</td>\n    </tr>\n    <tr>\n      <th>3</th>\n      <td>ASUS</td>\n      <td>ROG Phone 7</td>\n      <td>878.00</td>\n      <td>morgen geliefert</td>\n      <td>3.4</td>\n      <td>256.0</td>\n      <td>Phantom Black</td>\n      <td>2023-11-24</td>\n      <td>1</td>\n      <td>bf</td>\n      <td>ROG Phone 7</td>\n      <td>256</td>\n      <td>Phantom Black</td>\n      <td>0</td>\n      <td>4.5000</td>\n      <td>5</td>\n      <td>1051.00</td>\n    </tr>\n    <tr>\n      <th>4</th>\n      <td>ASUS</td>\n      <td>ROG Phone 7</td>\n      <td>940.00</td>\n      <td>morgen geliefert</td>\n      <td>3.4</td>\n      <td>256.0</td>\n      <td>Storm White</td>\n      <td>2023-11-24</td>\n      <td>1</td>\n      <td>bf</td>\n      <td>ROG Phone 7</td>\n      <td>256</td>\n      <td>Storm White</td>\n      <td>0</td>\n      <td>4.5000</td>\n      <td>5</td>\n      <td>974.31</td>\n    </tr>\n    <tr>\n      <th>5</th>\n      <td>ASUS</td>\n      <td>Zenfone 9</td>\n      <td>593.00</td>\n      <td>morgen geliefert</td>\n      <td>4.6</td>\n      <td>128.0</td>\n      <td>Midnight Black</td>\n      <td>2023-11-24</td>\n      <td>1</td>\n      <td>bf</td>\n      <td>Zenfone 9</td>\n      <td>128</td>\n      <td>Midnight Black</td>\n      <td>0</td>\n      <td>4.7143</td>\n      <td>1</td>\n      <td>602.32</td>\n    </tr>\n    <tr>\n      <th>6</th>\n      <td>ASUS</td>\n      <td>Zenfone 9</td>\n      <td>746.00</td>\n      <td>morgen geliefert</td>\n      <td>4.6</td>\n      <td>256.0</td>\n      <td>Midnight Black</td>\n      <td>2023-11-24</td>\n      <td>1</td>\n      <td>bf</td>\n      <td>Zenfone 9</td>\n      <td>256</td>\n      <td>Midnight Black</td>\n      <td>0</td>\n      <td>4.4000</td>\n      <td>7</td>\n      <td>1453.37</td>\n    </tr>\n    <tr>\n      <th>7</th>\n      <td>ASUS</td>\n      <td>Zenfone 9</td>\n      <td>537.33</td>\n      <td>Zwischen Do. 30.11. und Mo. 4.12. geliefert</td>\n      <td>4.6</td>\n      <td>128.0</td>\n      <td>Moonlight White</td>\n      <td>2023-11-24</td>\n      <td>6</td>\n      <td>bf</td>\n      <td>Zenfone 9</td>\n      <td>128</td>\n      <td>Moonlight White</td>\n      <td>0</td>\n      <td>5.0000</td>\n      <td>1</td>\n      <td>546.48</td>\n    </tr>\n    <tr>\n      <th>8</th>\n      <td>ASUS</td>\n      <td>ROG Phone 7 Ultimate</td>\n      <td>1299.00</td>\n      <td>morgen geliefert</td>\n      <td>3.9</td>\n      <td>512.0</td>\n      <td>Storm White</td>\n      <td>2023-11-27</td>\n      <td>1</td>\n      <td>cm</td>\n      <td>ROG Phone 7 Ultimate</td>\n      <td>512</td>\n      <td>Storm White</td>\n      <td>0</td>\n      <td>4.5238</td>\n      <td>2</td>\n      <td>1348.78</td>\n    </tr>\n    <tr>\n      <th>9</th>\n      <td>ASUS</td>\n      <td>ROG Phone 7</td>\n      <td>1041.00</td>\n      <td>morgen geliefert</td>\n      <td>4.5</td>\n      <td>512.0</td>\n      <td>Storm White</td>\n      <td>2023-11-27</td>\n      <td>1</td>\n      <td>cm</td>\n      <td>ROG Phone 7</td>\n      <td>512</td>\n      <td>Storm White</td>\n      <td>0</td>\n      <td>5.0000</td>\n      <td>2</td>\n      <td>1155.96</td>\n    </tr>\n    <tr>\n      <th>10</th>\n      <td>ASUS</td>\n      <td>ROG Phone 7</td>\n      <td>959.00</td>\n      <td>Zwischen Di. 28.11. und Do. 30.11. geliefert</td>\n      <td>4.5</td>\n      <td>512.0</td>\n      <td>Phantom Black</td>\n      <td>2023-11-27</td>\n      <td>1</td>\n      <td>cm</td>\n      <td>ROG Phone 7</td>\n      <td>512</td>\n      <td>Phantom Black</td>\n      <td>0</td>\n      <td>4.6400</td>\n      <td>4</td>\n      <td>1154.99</td>\n    </tr>\n    <tr>\n      <th>11</th>\n      <td>ASUS</td>\n      <td>Zenfone 9</td>\n      <td>604.00</td>\n      <td>morgen geliefert</td>\n      <td>4.6</td>\n      <td>128.0</td>\n      <td>Midnight Black</td>\n      <td>2023-11-27</td>\n      <td>1</td>\n      <td>cm</td>\n      <td>Zenfone 9</td>\n      <td>128</td>\n      <td>Midnight Black</td>\n      <td>0</td>\n      <td>4.7143</td>\n      <td>1</td>\n      <td>601.57</td>\n    </tr>\n    <tr>\n      <th>12</th>\n      <td>ASUS</td>\n      <td>Zenfone 9</td>\n      <td>739.00</td>\n      <td>morgen geliefert</td>\n      <td>4.6</td>\n      <td>256.0</td>\n      <td>Midnight Black</td>\n      <td>2023-11-27</td>\n      <td>1</td>\n      <td>cm</td>\n      <td>Zenfone 9</td>\n      <td>256</td>\n      <td>Midnight Black</td>\n      <td>0</td>\n      <td>4.4000</td>\n      <td>7</td>\n      <td>1386.96</td>\n    </tr>\n    <tr>\n      <th>13</th>\n      <td>ASUS</td>\n      <td>ROG Phone 7</td>\n      <td>999.00</td>\n      <td>morgen geliefert</td>\n      <td>3.4</td>\n      <td>256.0</td>\n      <td>Storm White</td>\n      <td>2023-11-27</td>\n      <td>1</td>\n      <td>cm</td>\n      <td>ROG Phone 7</td>\n      <td>256</td>\n      <td>Storm White</td>\n      <td>0</td>\n      <td>4.5000</td>\n      <td>4</td>\n      <td>1048.75</td>\n    </tr>\n    <tr>\n      <th>14</th>\n      <td>ASUS</td>\n      <td>Zenfone 9</td>\n      <td>537.33</td>\n      <td>Zwischen Do. 30.11. und Mo. 4.12. geliefert</td>\n      <td>4.6</td>\n      <td>128.0</td>\n      <td>Moonlight White</td>\n      <td>2023-11-27</td>\n      <td>3</td>\n      <td>cm</td>\n      <td>Zenfone 9</td>\n      <td>128</td>\n      <td>Moonlight White</td>\n      <td>0</td>\n      <td>5.0000</td>\n      <td>1</td>\n      <td>545.80</td>\n    </tr>\n    <tr>\n      <th>15</th>\n      <td>ASUS</td>\n      <td>ROG Phone 7</td>\n      <td>1036.00</td>\n      <td>morgen geliefert</td>\n      <td>4.5</td>\n      <td>512.0</td>\n      <td>Phantom Black</td>\n      <td>2023-12-04</td>\n      <td>1</td>\n      <td>af</td>\n      <td>ROG Phone 7</td>\n      <td>512</td>\n      <td>Phantom Black</td>\n      <td>0</td>\n      <td>4.6538</td>\n      <td>2</td>\n      <td>1133.65</td>\n    </tr>\n    <tr>\n      <th>16</th>\n      <td>ASUS</td>\n      <td>ROG Phone 7</td>\n      <td>1122.00</td>\n      <td>morgen geliefert</td>\n      <td>4.5</td>\n      <td>512.0</td>\n      <td>Storm White</td>\n      <td>2023-12-04</td>\n      <td>1</td>\n      <td>af</td>\n      <td>ROG Phone 7</td>\n      <td>512</td>\n      <td>Storm White</td>\n      <td>0</td>\n      <td>5.0000</td>\n      <td>2</td>\n      <td>1133.65</td>\n    </tr>\n    <tr>\n      <th>17</th>\n      <td>ASUS</td>\n      <td>ROG Phone 7</td>\n      <td>912.00</td>\n      <td>morgen geliefert</td>\n      <td>3.4</td>\n      <td>256.0</td>\n      <td>Phantom Black</td>\n      <td>2023-12-04</td>\n      <td>1</td>\n      <td>af</td>\n      <td>ROG Phone 7</td>\n      <td>256</td>\n      <td>Phantom Black</td>\n      <td>0</td>\n      <td>4.5000</td>\n      <td>1</td>\n      <td>1015.50</td>\n    </tr>\n    <tr>\n      <th>18</th>\n      <td>ASUS</td>\n      <td>Zenfone 9</td>\n      <td>651.00</td>\n      <td>morgen geliefert</td>\n      <td>4.6</td>\n      <td>128.0</td>\n      <td>Midnight Black</td>\n      <td>2023-12-04</td>\n      <td>1</td>\n      <td>af</td>\n      <td>Zenfone 9</td>\n      <td>128</td>\n      <td>Midnight Black</td>\n      <td>0</td>\n      <td>4.7143</td>\n      <td>9</td>\n      <td>609.85</td>\n    </tr>\n    <tr>\n      <th>19</th>\n      <td>ASUS</td>\n      <td>ROG Phone 7</td>\n      <td>930.00</td>\n      <td>morgen geliefert</td>\n      <td>3.4</td>\n      <td>256.0</td>\n      <td>Storm White</td>\n      <td>2023-12-04</td>\n      <td>1</td>\n      <td>af</td>\n      <td>ROG Phone 7</td>\n      <td>256</td>\n      <td>Storm White</td>\n      <td>0</td>\n      <td>4.5000</td>\n      <td>1</td>\n      <td>1015.50</td>\n    </tr>\n    <tr>\n      <th>20</th>\n      <td>ASUS</td>\n      <td>Zenfone 9</td>\n      <td>739.00</td>\n      <td>morgen geliefert</td>\n      <td>4.6</td>\n      <td>256.0</td>\n      <td>Midnight Black</td>\n      <td>2023-12-04</td>\n      <td>1</td>\n      <td>af</td>\n      <td>Zenfone 9</td>\n      <td>256</td>\n      <td>Midnight Black</td>\n      <td>0</td>\n      <td>4.4000</td>\n      <td>7</td>\n      <td>1383.61</td>\n    </tr>\n    <tr>\n      <th>21</th>\n      <td>ASUS</td>\n      <td>Zenfone 9</td>\n      <td>633.46</td>\n      <td>Zwischen Do. 7.12. und Mi. 13.12. geliefert</td>\n      <td>4.6</td>\n      <td>128.0</td>\n      <td>Moonlight White</td>\n      <td>2023-12-04</td>\n      <td>3</td>\n      <td>af</td>\n      <td>Zenfone 9</td>\n      <td>128</td>\n      <td>Moonlight White</td>\n      <td>0</td>\n      <td>5.0000</td>\n      <td>1</td>\n      <td>640.50</td>\n    </tr>\n    <tr>\n      <th>22</th>\n      <td>ZTE</td>\n      <td>Blade A32</td>\n      <td>77.20</td>\n      <td>Zwischen Do. 30.11. und Di. 5.12. geliefert</td>\n      <td>not rated</td>\n      <td>32.0</td>\n      <td>Schwarz</td>\n      <td>2023-11-24</td>\n      <td>6</td>\n      <td>bf</td>\n      <td>Blade A32</td>\n      <td>32</td>\n      <td>Schwarz</td>\n      <td>0</td>\n      <td>2.5714</td>\n      <td>1</td>\n      <td>67.56</td>\n    </tr>\n    <tr>\n      <th>23</th>\n      <td>ZTE</td>\n      <td>Blade A52</td>\n      <td>159.00</td>\n      <td>Zwischen Sa. 2.12. und Mi. 6.12. geliefert</td>\n      <td>not rated</td>\n      <td>64.0</td>\n      <td>Space Grey</td>\n      <td>2023-11-24</td>\n      <td>8</td>\n      <td>bf</td>\n      <td>Blade A52</td>\n      <td>64</td>\n      <td>Space Grey</td>\n      <td>0</td>\n      <td>4.2308</td>\n      <td>3</td>\n      <td>96.52</td>\n    </tr>\n    <tr>\n      <th>24</th>\n      <td>ZTE</td>\n      <td>Blade A32</td>\n      <td>77.20</td>\n      <td>Zwischen Fr. 1.12. und Mi. 6.12. geliefert</td>\n      <td>not rated</td>\n      <td>32.0</td>\n      <td>Schwarz</td>\n      <td>2023-11-27</td>\n      <td>4</td>\n      <td>cm</td>\n      <td>Blade A32</td>\n      <td>32</td>\n      <td>Schwarz</td>\n      <td>0</td>\n      <td>2.5714</td>\n      <td>2</td>\n      <td>67.48</td>\n    </tr>\n    <tr>\n      <th>25</th>\n      <td>ZTE</td>\n      <td>Axon 30 5G</td>\n      <td>399.00</td>\n      <td>morgen geliefert</td>\n      <td>not rated</td>\n      <td>128.0</td>\n      <td>Schwarz</td>\n      <td>2023-12-04</td>\n      <td>1</td>\n      <td>af</td>\n      <td>Axon 30 5G</td>\n      <td>128</td>\n      <td>Schwarz</td>\n      <td>0</td>\n      <td>4.3750</td>\n      <td>0</td>\n      <td>244.88</td>\n    </tr>\n    <tr>\n      <th>26</th>\n      <td>ZTE</td>\n      <td>Blade A32</td>\n      <td>84.60</td>\n      <td>Zwischen Do. 7.12. und Mo. 11.12. geliefert</td>\n      <td>not rated</td>\n      <td>32.0</td>\n      <td>Schwarz</td>\n      <td>2023-12-04</td>\n      <td>3</td>\n      <td>af</td>\n      <td>Blade A32</td>\n      <td>32</td>\n      <td>Schwarz</td>\n      <td>0</td>\n      <td>2.5714</td>\n      <td>1</td>\n      <td>66.18</td>\n    </tr>\n    <tr>\n      <th>27</th>\n      <td>ZTE</td>\n      <td>Blade A52</td>\n      <td>139.00</td>\n      <td>Zwischen Di. 12.12. und Do. 14.12. geliefert</td>\n      <td>not rated</td>\n      <td>64.0</td>\n      <td>Space Grey</td>\n      <td>2023-12-04</td>\n      <td>8</td>\n      <td>af</td>\n      <td>Blade A52</td>\n      <td>64</td>\n      <td>Space Grey</td>\n      <td>0</td>\n      <td>4.2308</td>\n      <td>2</td>\n      <td>94.54</td>\n    </tr>\n  </tbody>\n</table>\n</div>"
     },
     "execution_count": 17,
     "metadata": {},
     "output_type": "execute_result"
    }
   ],
   "source": [
    "pd.merge(df_robin, df_oli, left_on=[\"brand\", \"name\", \"phone_color\", \"extracted_gb\", \"scrapeday\"],\n",
    "         right_on=[\"brand\", \"model\", \"color\", \"storage\", \"scrapeday\"],\n",
    "         how=\"inner\", suffixes=(\"_digitec\", \"_mediamarkt\"))"
   ],
   "metadata": {
    "collapsed": false,
    "ExecuteTime": {
     "end_time": "2023-12-09T14:50:32.120607500Z",
     "start_time": "2023-12-09T14:50:31.892351800Z"
    }
   },
   "id": "56f900e7185f3364"
  },
  {
   "cell_type": "markdown",
   "source": [
    "Unfortunately, the data is not matching well, this is most likely due to different names of the coloring of the phones. We will therefore first group the data by brand, name and storage and take the average price"
   ],
   "metadata": {
    "collapsed": false
   }
  },
  {
   "cell_type": "code",
   "execution_count": 27,
   "outputs": [],
   "source": [
    "#helper function to aggregate by the mode\n",
    "def mode_agg(series):\n",
    "    return mode(series).mode[0]\n",
    "\n",
    "df_robin_grouped = df_robin.groupby([\"brand\", \"name\", \"extracted_gb\", \"scrapeday\"], as_index=False).\\\n",
    "    agg({\"price\": \"mean\", \"extracted_rating\": mode_agg, \"delivery_time_days\": mode_agg})"
   ],
   "metadata": {
    "collapsed": false,
    "ExecuteTime": {
     "end_time": "2023-12-09T15:03:11.321172400Z",
     "start_time": "2023-12-09T15:03:10.518473Z"
    }
   }
  },
  {
   "cell_type": "code",
   "execution_count": 70,
   "outputs": [
    {
     "data": {
      "text/plain": "       brand                                               name  extracted_gb  \\\n0       ASUS                                 ROG Phone 5 (12GB)         256.0   \n1       ASUS                                 ROG Phone 5 (12GB)         256.0   \n2       ASUS                                 ROG Phone 5 (12GB)         256.0   \n3       ASUS                                 ROG Phone 5 (16GB)         256.0   \n4       ASUS                                 ROG Phone 5 (16GB)         256.0   \n...      ...                                                ...           ...   \n3402  realme                                          Narzo 50A          64.0   \n3403  realme                                    Narzo 50A Prime           4.0   \n3404  realme  Narzo 50A Prime 64GB Flash Black [16.7cm (6.6 ...           4.0   \n3405  realme  Narzo 50A Prime 64GB Flash Black [16.7cm (6.6 ...           4.0   \n3406  realme  Narzo 50A Prime 64GB Flash Black [16.7cm (6.6 ...           4.0   \n\n     scrapeday    price extracted_rating delivery_time_days  \n0           af  782.005              4.6                  1  \n1           bf  782.005              4.6                  1  \n2           cm  782.005              4.6                  1  \n3           af  804.000              4.7                  1  \n4           bf  804.000              4.7                  1  \n...        ...      ...              ...                ...  \n3402        cm  179.000        not rated                 38  \n3403        bf  197.000        not rated                 34  \n3404        af  211.000        not rated                  3  \n3405        bf  196.000        not rated                  4  \n3406        cm  211.000        not rated                  2  \n\n[3407 rows x 7 columns]",
      "text/html": "<div>\n<style scoped>\n    .dataframe tbody tr th:only-of-type {\n        vertical-align: middle;\n    }\n\n    .dataframe tbody tr th {\n        vertical-align: top;\n    }\n\n    .dataframe thead th {\n        text-align: right;\n    }\n</style>\n<table border=\"1\" class=\"dataframe\">\n  <thead>\n    <tr style=\"text-align: right;\">\n      <th></th>\n      <th>brand</th>\n      <th>name</th>\n      <th>extracted_gb</th>\n      <th>scrapeday</th>\n      <th>price</th>\n      <th>extracted_rating</th>\n      <th>delivery_time_days</th>\n    </tr>\n  </thead>\n  <tbody>\n    <tr>\n      <th>0</th>\n      <td>ASUS</td>\n      <td>ROG Phone 5 (12GB)</td>\n      <td>256.0</td>\n      <td>af</td>\n      <td>782.005</td>\n      <td>4.6</td>\n      <td>1</td>\n    </tr>\n    <tr>\n      <th>1</th>\n      <td>ASUS</td>\n      <td>ROG Phone 5 (12GB)</td>\n      <td>256.0</td>\n      <td>bf</td>\n      <td>782.005</td>\n      <td>4.6</td>\n      <td>1</td>\n    </tr>\n    <tr>\n      <th>2</th>\n      <td>ASUS</td>\n      <td>ROG Phone 5 (12GB)</td>\n      <td>256.0</td>\n      <td>cm</td>\n      <td>782.005</td>\n      <td>4.6</td>\n      <td>1</td>\n    </tr>\n    <tr>\n      <th>3</th>\n      <td>ASUS</td>\n      <td>ROG Phone 5 (16GB)</td>\n      <td>256.0</td>\n      <td>af</td>\n      <td>804.000</td>\n      <td>4.7</td>\n      <td>1</td>\n    </tr>\n    <tr>\n      <th>4</th>\n      <td>ASUS</td>\n      <td>ROG Phone 5 (16GB)</td>\n      <td>256.0</td>\n      <td>bf</td>\n      <td>804.000</td>\n      <td>4.7</td>\n      <td>1</td>\n    </tr>\n    <tr>\n      <th>...</th>\n      <td>...</td>\n      <td>...</td>\n      <td>...</td>\n      <td>...</td>\n      <td>...</td>\n      <td>...</td>\n      <td>...</td>\n    </tr>\n    <tr>\n      <th>3402</th>\n      <td>realme</td>\n      <td>Narzo 50A</td>\n      <td>64.0</td>\n      <td>cm</td>\n      <td>179.000</td>\n      <td>not rated</td>\n      <td>38</td>\n    </tr>\n    <tr>\n      <th>3403</th>\n      <td>realme</td>\n      <td>Narzo 50A Prime</td>\n      <td>4.0</td>\n      <td>bf</td>\n      <td>197.000</td>\n      <td>not rated</td>\n      <td>34</td>\n    </tr>\n    <tr>\n      <th>3404</th>\n      <td>realme</td>\n      <td>Narzo 50A Prime 64GB Flash Black [16.7cm (6.6 ...</td>\n      <td>4.0</td>\n      <td>af</td>\n      <td>211.000</td>\n      <td>not rated</td>\n      <td>3</td>\n    </tr>\n    <tr>\n      <th>3405</th>\n      <td>realme</td>\n      <td>Narzo 50A Prime 64GB Flash Black [16.7cm (6.6 ...</td>\n      <td>4.0</td>\n      <td>bf</td>\n      <td>196.000</td>\n      <td>not rated</td>\n      <td>4</td>\n    </tr>\n    <tr>\n      <th>3406</th>\n      <td>realme</td>\n      <td>Narzo 50A Prime 64GB Flash Black [16.7cm (6.6 ...</td>\n      <td>4.0</td>\n      <td>cm</td>\n      <td>211.000</td>\n      <td>not rated</td>\n      <td>2</td>\n    </tr>\n  </tbody>\n</table>\n<p>3407 rows × 7 columns</p>\n</div>"
     },
     "execution_count": 70,
     "metadata": {},
     "output_type": "execute_result"
    }
   ],
   "source": [
    "df_robin_grouped"
   ],
   "metadata": {
    "collapsed": false,
    "ExecuteTime": {
     "end_time": "2023-12-09T15:11:09.227041600Z",
     "start_time": "2023-12-09T15:11:09.195768200Z"
    }
   }
  },
  {
   "cell_type": "code",
   "execution_count": 68,
   "outputs": [],
   "source": [
    "#aggregatig oli's data as well\n",
    "df_oli_grouped = df_oli.groupby([\"brand\", \"model\", \"storage\", \"scrapeday\"], as_index=False).\\\n",
    "    agg({\"price_CHF\": \"mean\", \"rating\": \"mean\", \"deliverydays\": \"median\"})"
   ],
   "metadata": {
    "collapsed": false,
    "ExecuteTime": {
     "end_time": "2023-12-09T15:10:53.545678300Z",
     "start_time": "2023-12-09T15:10:53.514298300Z"
    }
   }
  },
  {
   "cell_type": "code",
   "execution_count": 69,
   "outputs": [
    {
     "data": {
      "text/plain": "        brand          model  storage scrapeday  price_CHF   rating  \\\n0     ALCATEL  1B 2022 5031G       32        af      92.70  5.00000   \n1     ALCATEL  1B 2022 5031G       32        bf      94.64  5.00000   \n2     ALCATEL  1B 2022 5031G       32        cm      94.52  5.00000   \n3     ALCATEL         5033FR       16        af      64.57  0.00000   \n4     ALCATEL         5033FR       16        bf      72.30  0.00000   \n...       ...            ...      ...       ...        ...      ...   \n3465      ZTE        V40 Pro      128        bf     241.32  2.00000   \n3466      ZTE        V40 Pro      128        cm     241.02  2.00000   \n3467      ZTE       V40 Vita      128        af     132.36  3.91665   \n3468      ZTE       V40 Vita      128        bf     135.13  3.91665   \n3469      ZTE       V40 Vita      128        cm     134.96  3.91665   \n\n      deliverydays  \n0              1.0  \n1              1.0  \n2              1.0  \n3              3.0  \n4              5.0  \n...            ...  \n3465           1.0  \n3466           2.0  \n3467           1.0  \n3468           1.5  \n3469           1.0  \n\n[3470 rows x 7 columns]",
      "text/html": "<div>\n<style scoped>\n    .dataframe tbody tr th:only-of-type {\n        vertical-align: middle;\n    }\n\n    .dataframe tbody tr th {\n        vertical-align: top;\n    }\n\n    .dataframe thead th {\n        text-align: right;\n    }\n</style>\n<table border=\"1\" class=\"dataframe\">\n  <thead>\n    <tr style=\"text-align: right;\">\n      <th></th>\n      <th>brand</th>\n      <th>model</th>\n      <th>storage</th>\n      <th>scrapeday</th>\n      <th>price_CHF</th>\n      <th>rating</th>\n      <th>deliverydays</th>\n    </tr>\n  </thead>\n  <tbody>\n    <tr>\n      <th>0</th>\n      <td>ALCATEL</td>\n      <td>1B 2022 5031G</td>\n      <td>32</td>\n      <td>af</td>\n      <td>92.70</td>\n      <td>5.00000</td>\n      <td>1.0</td>\n    </tr>\n    <tr>\n      <th>1</th>\n      <td>ALCATEL</td>\n      <td>1B 2022 5031G</td>\n      <td>32</td>\n      <td>bf</td>\n      <td>94.64</td>\n      <td>5.00000</td>\n      <td>1.0</td>\n    </tr>\n    <tr>\n      <th>2</th>\n      <td>ALCATEL</td>\n      <td>1B 2022 5031G</td>\n      <td>32</td>\n      <td>cm</td>\n      <td>94.52</td>\n      <td>5.00000</td>\n      <td>1.0</td>\n    </tr>\n    <tr>\n      <th>3</th>\n      <td>ALCATEL</td>\n      <td>5033FR</td>\n      <td>16</td>\n      <td>af</td>\n      <td>64.57</td>\n      <td>0.00000</td>\n      <td>3.0</td>\n    </tr>\n    <tr>\n      <th>4</th>\n      <td>ALCATEL</td>\n      <td>5033FR</td>\n      <td>16</td>\n      <td>bf</td>\n      <td>72.30</td>\n      <td>0.00000</td>\n      <td>5.0</td>\n    </tr>\n    <tr>\n      <th>...</th>\n      <td>...</td>\n      <td>...</td>\n      <td>...</td>\n      <td>...</td>\n      <td>...</td>\n      <td>...</td>\n      <td>...</td>\n    </tr>\n    <tr>\n      <th>3465</th>\n      <td>ZTE</td>\n      <td>V40 Pro</td>\n      <td>128</td>\n      <td>bf</td>\n      <td>241.32</td>\n      <td>2.00000</td>\n      <td>1.0</td>\n    </tr>\n    <tr>\n      <th>3466</th>\n      <td>ZTE</td>\n      <td>V40 Pro</td>\n      <td>128</td>\n      <td>cm</td>\n      <td>241.02</td>\n      <td>2.00000</td>\n      <td>2.0</td>\n    </tr>\n    <tr>\n      <th>3467</th>\n      <td>ZTE</td>\n      <td>V40 Vita</td>\n      <td>128</td>\n      <td>af</td>\n      <td>132.36</td>\n      <td>3.91665</td>\n      <td>1.0</td>\n    </tr>\n    <tr>\n      <th>3468</th>\n      <td>ZTE</td>\n      <td>V40 Vita</td>\n      <td>128</td>\n      <td>bf</td>\n      <td>135.13</td>\n      <td>3.91665</td>\n      <td>1.5</td>\n    </tr>\n    <tr>\n      <th>3469</th>\n      <td>ZTE</td>\n      <td>V40 Vita</td>\n      <td>128</td>\n      <td>cm</td>\n      <td>134.96</td>\n      <td>3.91665</td>\n      <td>1.0</td>\n    </tr>\n  </tbody>\n</table>\n<p>3470 rows × 7 columns</p>\n</div>"
     },
     "execution_count": 69,
     "metadata": {},
     "output_type": "execute_result"
    }
   ],
   "source": [
    "df_oli_grouped"
   ],
   "metadata": {
    "collapsed": false,
    "ExecuteTime": {
     "end_time": "2023-12-09T15:10:59.154851800Z",
     "start_time": "2023-12-09T15:10:59.123196800Z"
    }
   }
  },
  {
   "cell_type": "code",
   "execution_count": 73,
   "outputs": [
    {
     "data": {
      "text/plain": "     brand            name  extracted_gb scrapeday       price  \\\n105  Apple       iPhone 11          64.0        af  443.500000   \n106  Apple       iPhone 11          64.0        bf  459.000000   \n107  Apple       iPhone 11          64.0        cm  443.500000   \n108  Apple       iPhone 11         128.0        af  455.666667   \n109  Apple       iPhone 11         128.0        bf  499.000000   \n..     ...             ...           ...       ...         ...   \n355  Apple  iPhone 14 Plus         256.0        bf  869.000000   \n356  Apple  iPhone 14 Plus         256.0        cm  869.000000   \n357  Apple  iPhone 14 Plus         512.0        af  900.000000   \n358  Apple  iPhone 14 Plus         512.0        bf  993.000000   \n359  Apple  iPhone 14 Plus         512.0        cm  993.000000   \n\n    extracted_rating delivery_time_days  \n105              4.7                  1  \n106              4.7                  1  \n107              4.7                  1  \n108              4.7                  1  \n109              4.7                  1  \n..               ...                ...  \n355              4.6                  1  \n356              4.7                  1  \n357              4.7                  5  \n358              4.6                  7  \n359              4.7                  5  \n\n[255 rows x 7 columns]",
      "text/html": "<div>\n<style scoped>\n    .dataframe tbody tr th:only-of-type {\n        vertical-align: middle;\n    }\n\n    .dataframe tbody tr th {\n        vertical-align: top;\n    }\n\n    .dataframe thead th {\n        text-align: right;\n    }\n</style>\n<table border=\"1\" class=\"dataframe\">\n  <thead>\n    <tr style=\"text-align: right;\">\n      <th></th>\n      <th>brand</th>\n      <th>name</th>\n      <th>extracted_gb</th>\n      <th>scrapeday</th>\n      <th>price</th>\n      <th>extracted_rating</th>\n      <th>delivery_time_days</th>\n    </tr>\n  </thead>\n  <tbody>\n    <tr>\n      <th>105</th>\n      <td>Apple</td>\n      <td>iPhone 11</td>\n      <td>64.0</td>\n      <td>af</td>\n      <td>443.500000</td>\n      <td>4.7</td>\n      <td>1</td>\n    </tr>\n    <tr>\n      <th>106</th>\n      <td>Apple</td>\n      <td>iPhone 11</td>\n      <td>64.0</td>\n      <td>bf</td>\n      <td>459.000000</td>\n      <td>4.7</td>\n      <td>1</td>\n    </tr>\n    <tr>\n      <th>107</th>\n      <td>Apple</td>\n      <td>iPhone 11</td>\n      <td>64.0</td>\n      <td>cm</td>\n      <td>443.500000</td>\n      <td>4.7</td>\n      <td>1</td>\n    </tr>\n    <tr>\n      <th>108</th>\n      <td>Apple</td>\n      <td>iPhone 11</td>\n      <td>128.0</td>\n      <td>af</td>\n      <td>455.666667</td>\n      <td>4.7</td>\n      <td>1</td>\n    </tr>\n    <tr>\n      <th>109</th>\n      <td>Apple</td>\n      <td>iPhone 11</td>\n      <td>128.0</td>\n      <td>bf</td>\n      <td>499.000000</td>\n      <td>4.7</td>\n      <td>1</td>\n    </tr>\n    <tr>\n      <th>...</th>\n      <td>...</td>\n      <td>...</td>\n      <td>...</td>\n      <td>...</td>\n      <td>...</td>\n      <td>...</td>\n      <td>...</td>\n    </tr>\n    <tr>\n      <th>355</th>\n      <td>Apple</td>\n      <td>iPhone 14 Plus</td>\n      <td>256.0</td>\n      <td>bf</td>\n      <td>869.000000</td>\n      <td>4.6</td>\n      <td>1</td>\n    </tr>\n    <tr>\n      <th>356</th>\n      <td>Apple</td>\n      <td>iPhone 14 Plus</td>\n      <td>256.0</td>\n      <td>cm</td>\n      <td>869.000000</td>\n      <td>4.7</td>\n      <td>1</td>\n    </tr>\n    <tr>\n      <th>357</th>\n      <td>Apple</td>\n      <td>iPhone 14 Plus</td>\n      <td>512.0</td>\n      <td>af</td>\n      <td>900.000000</td>\n      <td>4.7</td>\n      <td>5</td>\n    </tr>\n    <tr>\n      <th>358</th>\n      <td>Apple</td>\n      <td>iPhone 14 Plus</td>\n      <td>512.0</td>\n      <td>bf</td>\n      <td>993.000000</td>\n      <td>4.6</td>\n      <td>7</td>\n    </tr>\n    <tr>\n      <th>359</th>\n      <td>Apple</td>\n      <td>iPhone 14 Plus</td>\n      <td>512.0</td>\n      <td>cm</td>\n      <td>993.000000</td>\n      <td>4.7</td>\n      <td>5</td>\n    </tr>\n  </tbody>\n</table>\n<p>255 rows × 7 columns</p>\n</div>"
     },
     "execution_count": 73,
     "metadata": {},
     "output_type": "execute_result"
    }
   ],
   "source": [
    "df_robin_grouped.query(\"brand == 'Apple'\")"
   ],
   "metadata": {
    "collapsed": false,
    "ExecuteTime": {
     "end_time": "2023-12-09T15:12:42.437891100Z",
     "start_time": "2023-12-09T15:12:42.390992400Z"
    }
   }
  },
  {
   "cell_type": "code",
   "execution_count": 74,
   "outputs": [
    {
     "data": {
      "text/plain": "Empty DataFrame\nColumns: [brand, model, storage, scrapeday, price_CHF, rating, deliverydays]\nIndex: []",
      "text/html": "<div>\n<style scoped>\n    .dataframe tbody tr th:only-of-type {\n        vertical-align: middle;\n    }\n\n    .dataframe tbody tr th {\n        vertical-align: top;\n    }\n\n    .dataframe thead th {\n        text-align: right;\n    }\n</style>\n<table border=\"1\" class=\"dataframe\">\n  <thead>\n    <tr style=\"text-align: right;\">\n      <th></th>\n      <th>brand</th>\n      <th>model</th>\n      <th>storage</th>\n      <th>scrapeday</th>\n      <th>price_CHF</th>\n      <th>rating</th>\n      <th>deliverydays</th>\n    </tr>\n  </thead>\n  <tbody>\n  </tbody>\n</table>\n</div>"
     },
     "execution_count": 74,
     "metadata": {},
     "output_type": "execute_result"
    }
   ],
   "source": [
    "df_oli_grouped.query(\"brand == 'Apple'\")"
   ],
   "metadata": {
    "collapsed": false,
    "ExecuteTime": {
     "end_time": "2023-12-09T15:12:51.403637400Z",
     "start_time": "2023-12-09T15:12:51.372296900Z"
    }
   }
  },
  {
   "cell_type": "code",
   "execution_count": 77,
   "outputs": [
    {
     "data": {
      "text/plain": "array(['ALCATEL', 'ALLVIEW', 'APPLE', 'ASUS', 'BEAFON', 'BLACKBERRY',\n       'BLACKVIEW', 'CARBON', 'CAT', 'CROSSCALL', 'CUBOT', 'DOOGEE',\n       'DORO', 'EMPORIA', 'ENERGIZER', 'FAIRPHONE', 'FOSSIBOT', 'FUNKER',\n       'FYSIC', 'GIGASET', 'GOOGLE', 'HAMMER', 'HONOR', 'HUAWEI',\n       'IIIF150', 'INFINIX', 'LENOVO', 'LEXIBOOK', 'LG', 'MAXCOM',\n       'MOTOROLA', 'MP', 'MYPHONE', 'Myphone', 'NOKIA', 'NOTHING',\n       'OLYMPIA', 'OTROS', 'OUKITEL', 'PEAQ', 'POCO', 'POCOPHONE', 'QUBO',\n       'REALME', 'REPHONE', 'RUGGEAR', 'SAMSUNG', 'SONY', 'SPC',\n       'SWISSVOICE', 'TCL', 'TECNO', 'TELECOM', 'ULEFONE', 'UMIDIGI',\n       'VIVANCO', 'WIKO', 'XIAOMI', 'ZTE'], dtype=object)"
     },
     "execution_count": 77,
     "metadata": {},
     "output_type": "execute_result"
    }
   ],
   "source": [
    "df_oli_grouped[\"brand\"].unique()"
   ],
   "metadata": {
    "collapsed": false,
    "ExecuteTime": {
     "end_time": "2023-12-09T15:13:33.410574800Z",
     "start_time": "2023-12-09T15:13:33.379229300Z"
    }
   }
  },
  {
   "cell_type": "code",
   "execution_count": 80,
   "outputs": [
    {
     "data": {
      "text/plain": "array(['ASUS', 'ACER', 'ALCATEL', 'ALLVIEW', 'APPLE', 'BEA-FON',\n       'BLABLOO', 'BLACKBERRY', 'BLACKVIEW', 'BRONDI', 'CAT', 'CROSSCALL',\n       'CUBOT', 'CUSTOM', 'CYRUS', 'DENSO', 'DOOGEE', 'DORO', 'EMPORIA',\n       'ENERGIZER', 'FAIRPHONE', 'GIGASET', 'GOOGLE', 'HTC', 'HAMMER',\n       'HONOR', 'HUAWEI', 'I.SAFE MOBILE', 'IIIF150', 'INAPA', 'INFINIX',\n       'INOI', 'KAZAM', 'KRÜGER&MATZ', 'LG', 'MAXCOM', 'MICROSOFT',\n       'MOTOROLA', 'MYPHONE', 'NGM', 'NONAME', 'NOKIA', 'NOTHING',\n       'NUBIA', 'OPPO', 'OLYMPIA', 'ONEPLUS', 'ORDISSIMO', 'OUKITEL',\n       'POCO', 'REPHONE', 'RUG GEAR', 'SAMSUNG', 'SONY', 'SYCO', 'TCL',\n       'TE CONNECTIVITY', 'TIM', 'TECNO', 'TELEKOM', 'ULEFONE', 'UMI',\n       'UMIDIGI', 'VIVO', 'VODAFONE', 'VOLLA', 'XIAOMI', 'ZTE', 'IGET',\n       'REALME'], dtype=object)"
     },
     "execution_count": 80,
     "metadata": {},
     "output_type": "execute_result"
    }
   ],
   "source": [
    "df_robin_grouped[\"brand\"].unique()"
   ],
   "metadata": {
    "collapsed": false,
    "ExecuteTime": {
     "end_time": "2023-12-09T17:02:44.756942200Z",
     "start_time": "2023-12-09T17:02:44.725636300Z"
    }
   }
  },
  {
   "cell_type": "markdown",
   "source": [
    "the brand names in oli's df are all upper case whereas most of the brand names in robin's df have only the first capital letter, we will therefore make them also all uppercase"
   ],
   "metadata": {
    "collapsed": false
   }
  },
  {
   "cell_type": "code",
   "execution_count": 79,
   "outputs": [],
   "source": [
    "#convert to uppercase\n",
    "df_robin_grouped[\"brand\"] = df_robin_grouped[\"brand\"].str.upper()"
   ],
   "metadata": {
    "collapsed": false,
    "ExecuteTime": {
     "end_time": "2023-12-09T17:02:31.306420700Z",
     "start_time": "2023-12-09T17:02:31.291069Z"
    }
   }
  },
  {
   "cell_type": "code",
   "execution_count": 82,
   "outputs": [
    {
     "data": {
      "text/plain": "      brand         name  extracted_gb scrapeday   price extracted_rating  \\\n0      ASUS  ROG Phone 7         256.0        af   921.0              3.4   \n1      ASUS  ROG Phone 7         256.0        bf   909.0              3.4   \n2      ASUS  ROG Phone 7         256.0        cm   999.0              3.4   \n3      ASUS  ROG Phone 7         512.0        af  1079.0              4.5   \n4      ASUS  ROG Phone 7         512.0        bf   999.5              4.5   \n..      ...          ...           ...       ...     ...              ...   \n537  REALME          C30          32.0        cm    84.4              3.7   \n538  REALME          C31          64.0        cm   142.5              5.0   \n539  REALME          C35         128.0        af   191.0              5.0   \n540  REALME          C35         128.0        bf   191.0              5.0   \n541  REALME          C35         128.0        cm   191.0              5.0   \n\n    delivery_time_days        model  storage  price_CHF  rating  deliverydays  \n0                    1  ROG Phone 7      256   1015.500  4.5000           1.0  \n1                    1  ROG Phone 7      256   1012.655  4.5000           5.0  \n2                    1  ROG Phone 7      256   1048.460  4.5000           4.0  \n3                    1  ROG Phone 7      512   1133.650  4.8269           2.0  \n4                    1  ROG Phone 7      512   1156.910  4.8200           4.0  \n..                 ...          ...      ...        ...     ...           ...  \n537                  5          C30       32     79.190  2.5000           1.0  \n538                 11          C31       64    129.530  0.0000           1.0  \n539                  1          C35      128    222.635  2.5000           2.5  \n540                  1          C35      128    204.085  0.0000           4.5  \n541                  1          C35      128    203.335  0.0000           2.0  \n\n[542 rows x 12 columns]",
      "text/html": "<div>\n<style scoped>\n    .dataframe tbody tr th:only-of-type {\n        vertical-align: middle;\n    }\n\n    .dataframe tbody tr th {\n        vertical-align: top;\n    }\n\n    .dataframe thead th {\n        text-align: right;\n    }\n</style>\n<table border=\"1\" class=\"dataframe\">\n  <thead>\n    <tr style=\"text-align: right;\">\n      <th></th>\n      <th>brand</th>\n      <th>name</th>\n      <th>extracted_gb</th>\n      <th>scrapeday</th>\n      <th>price</th>\n      <th>extracted_rating</th>\n      <th>delivery_time_days</th>\n      <th>model</th>\n      <th>storage</th>\n      <th>price_CHF</th>\n      <th>rating</th>\n      <th>deliverydays</th>\n    </tr>\n  </thead>\n  <tbody>\n    <tr>\n      <th>0</th>\n      <td>ASUS</td>\n      <td>ROG Phone 7</td>\n      <td>256.0</td>\n      <td>af</td>\n      <td>921.0</td>\n      <td>3.4</td>\n      <td>1</td>\n      <td>ROG Phone 7</td>\n      <td>256</td>\n      <td>1015.500</td>\n      <td>4.5000</td>\n      <td>1.0</td>\n    </tr>\n    <tr>\n      <th>1</th>\n      <td>ASUS</td>\n      <td>ROG Phone 7</td>\n      <td>256.0</td>\n      <td>bf</td>\n      <td>909.0</td>\n      <td>3.4</td>\n      <td>1</td>\n      <td>ROG Phone 7</td>\n      <td>256</td>\n      <td>1012.655</td>\n      <td>4.5000</td>\n      <td>5.0</td>\n    </tr>\n    <tr>\n      <th>2</th>\n      <td>ASUS</td>\n      <td>ROG Phone 7</td>\n      <td>256.0</td>\n      <td>cm</td>\n      <td>999.0</td>\n      <td>3.4</td>\n      <td>1</td>\n      <td>ROG Phone 7</td>\n      <td>256</td>\n      <td>1048.460</td>\n      <td>4.5000</td>\n      <td>4.0</td>\n    </tr>\n    <tr>\n      <th>3</th>\n      <td>ASUS</td>\n      <td>ROG Phone 7</td>\n      <td>512.0</td>\n      <td>af</td>\n      <td>1079.0</td>\n      <td>4.5</td>\n      <td>1</td>\n      <td>ROG Phone 7</td>\n      <td>512</td>\n      <td>1133.650</td>\n      <td>4.8269</td>\n      <td>2.0</td>\n    </tr>\n    <tr>\n      <th>4</th>\n      <td>ASUS</td>\n      <td>ROG Phone 7</td>\n      <td>512.0</td>\n      <td>bf</td>\n      <td>999.5</td>\n      <td>4.5</td>\n      <td>1</td>\n      <td>ROG Phone 7</td>\n      <td>512</td>\n      <td>1156.910</td>\n      <td>4.8200</td>\n      <td>4.0</td>\n    </tr>\n    <tr>\n      <th>...</th>\n      <td>...</td>\n      <td>...</td>\n      <td>...</td>\n      <td>...</td>\n      <td>...</td>\n      <td>...</td>\n      <td>...</td>\n      <td>...</td>\n      <td>...</td>\n      <td>...</td>\n      <td>...</td>\n      <td>...</td>\n    </tr>\n    <tr>\n      <th>537</th>\n      <td>REALME</td>\n      <td>C30</td>\n      <td>32.0</td>\n      <td>cm</td>\n      <td>84.4</td>\n      <td>3.7</td>\n      <td>5</td>\n      <td>C30</td>\n      <td>32</td>\n      <td>79.190</td>\n      <td>2.5000</td>\n      <td>1.0</td>\n    </tr>\n    <tr>\n      <th>538</th>\n      <td>REALME</td>\n      <td>C31</td>\n      <td>64.0</td>\n      <td>cm</td>\n      <td>142.5</td>\n      <td>5.0</td>\n      <td>11</td>\n      <td>C31</td>\n      <td>64</td>\n      <td>129.530</td>\n      <td>0.0000</td>\n      <td>1.0</td>\n    </tr>\n    <tr>\n      <th>539</th>\n      <td>REALME</td>\n      <td>C35</td>\n      <td>128.0</td>\n      <td>af</td>\n      <td>191.0</td>\n      <td>5.0</td>\n      <td>1</td>\n      <td>C35</td>\n      <td>128</td>\n      <td>222.635</td>\n      <td>2.5000</td>\n      <td>2.5</td>\n    </tr>\n    <tr>\n      <th>540</th>\n      <td>REALME</td>\n      <td>C35</td>\n      <td>128.0</td>\n      <td>bf</td>\n      <td>191.0</td>\n      <td>5.0</td>\n      <td>1</td>\n      <td>C35</td>\n      <td>128</td>\n      <td>204.085</td>\n      <td>0.0000</td>\n      <td>4.5</td>\n    </tr>\n    <tr>\n      <th>541</th>\n      <td>REALME</td>\n      <td>C35</td>\n      <td>128.0</td>\n      <td>cm</td>\n      <td>191.0</td>\n      <td>5.0</td>\n      <td>1</td>\n      <td>C35</td>\n      <td>128</td>\n      <td>203.335</td>\n      <td>0.0000</td>\n      <td>2.0</td>\n    </tr>\n  </tbody>\n</table>\n<p>542 rows × 12 columns</p>\n</div>"
     },
     "execution_count": 82,
     "metadata": {},
     "output_type": "execute_result"
    }
   ],
   "source": [
    "#now we can merge the data\n",
    "df_merged = pd.merge(df_robin_grouped, df_oli_grouped,\n",
    "                     left_on=[\"brand\", \"name\", \"extracted_gb\",\"scrapeday\"],\n",
    "                     right_on=[\"brand\", \"model\", \"storage\", \"scrapeday\"],\n",
    "                     how=\"inner\", suffixes=(\"_digitec\", \"_mediamarkt\"))\n",
    "\n",
    "df_merged"
   ],
   "metadata": {
    "collapsed": false,
    "ExecuteTime": {
     "end_time": "2023-12-09T17:08:47.873551600Z",
     "start_time": "2023-12-09T17:08:47.823020600Z"
    }
   }
  },
  {
   "cell_type": "code",
   "execution_count": 84,
   "outputs": [
    {
     "data": {
      "text/plain": "array(['ROG Phone 7', 'ROG Phone 7 Ultimate', 'Zenfone 9', 'iPhone 11',\n       'iPhone 12', 'iPhone 12 mini', 'iPhone 13', 'iPhone 13 Pro',\n       'iPhone 13 mini', 'iPhone 14', 'iPhone 14 Plus', 'iPhone 14 Pro',\n       'iPhone 14 Pro Max', 'iPhone 15', 'iPhone 15 Pro', 'iPhone SE',\n       'BL5000', 'BL8800 Pro', 'BV4900', 'BV4900 Pro', 'BV6300 Pro',\n       'BV8800', 'S42 H+', 'S62 Pro', 'S75', '8200', 'SMART.5 mini', '5',\n       'GS4', 'GS5 LITE', 'Pixel 2', 'Pixel 6', 'Pixel 6 Pro', 'Pixel 6a',\n       'Pixel 7', 'Pixel 7 Pro', 'Pixel 7a', 'Pixel 8', 'Pixel 8 Pro',\n       'Iron 4', '50', '70', '90', '90 Lite', 'Magic 4 Lite 5G',\n       'Magic5 Pro', 'X8', 'Mate 50 Pro', 'Mate X3', 'Nova 10',\n       'Nova 10 SE', 'P30', 'P30 Pro', 'P40 Lite', 'P40 Lite 5G',\n       'P40 Pro', 'P50 Pro', 'P60 Pro', 'Y5 (2019)', 'Defy',\n       'Edge 30 Neo', 'Edge 40 Pro', 'Moto E22', 'Moto E6i', 'Moto G22',\n       'Moto G31', 'Moto G32', 'Moto G52', 'Moto G72', 'Moto G9 Play',\n       'Razr 40', 'C12', 'C22', 'C32', 'G11', 'G21', 'G22', 'G42 5G',\n       'G60', 'X10', 'XR21', 'Phone (2)', 'Galaxy A04s', 'Galaxy A13',\n       'Galaxy A23 5G', 'Galaxy A33 5G Enterprise Edition',\n       'Galaxy A34 5G', 'Galaxy A53 5G', 'Galaxy A54 5G',\n       'Galaxy S20 FE 5G', 'Galaxy S21 FE 5G', 'Galaxy S23 Ultra',\n       'Galaxy Z Flip3 5G', 'Galaxy Z Flip4', 'Galaxy Z Flip5',\n       'Galaxy Z Fold4', 'Galaxy Z Fold5', 'Xperia 1 III', 'Xperia 1 V',\n       'Xperia 5 III', 'Xperia 5 IV', 'Xperia 5 V', 'Armor 8',\n       'Armor 8 Pro', 'Armor X7 Pro', 'Armor X8', 'Armor X9 Pro',\n       '11 Lite 5G NE', '11T 5G', '11T Pro 5G', '12 5G', '12 Lite 5G',\n       '12 Pro 5G', '12X', '13', '13 Lite', '13 Pro', '13T', '13T Pro',\n       'Mi Mix 3', 'Poco F4', 'Poco F5 Pro', 'Redmi 10', 'Redmi 10 2022',\n       'Redmi 10 5G', 'Redmi 10A', 'Redmi 10C', 'Redmi 12', 'Redmi 12 5G',\n       'Redmi 12C', 'Redmi 7A', 'Redmi 9A', 'Redmi 9C', 'Redmi A1',\n       'Redmi A2', 'Redmi Note 10', 'Redmi Note 10 Pro', 'Redmi Note 10S',\n       'Redmi Note 11', 'Redmi Note 11 Pro', 'Redmi Note 11 Pro 5G',\n       'Redmi Note 11 Pro+ 5G', 'Redmi Note 11S', 'Redmi Note 11S 5G',\n       'Redmi Note 12', 'Redmi Note 12 Pro', 'Redmi Note 12S',\n       'Redmi Note 9 Pro', 'Redmi Note 9S', 'Axon 30 5G',\n       'Blade A31 Lite', 'Blade A32', 'Blade A52', 'Blade A53 Pro',\n       '11 Pro+', '9', 'C30', 'C31', 'C35'], dtype=object)"
     },
     "execution_count": 84,
     "metadata": {},
     "output_type": "execute_result"
    }
   ],
   "source": [
    "df_merged[\"name\"].unique()"
   ],
   "metadata": {
    "collapsed": false,
    "ExecuteTime": {
     "end_time": "2023-12-09T17:09:53.122491300Z",
     "start_time": "2023-12-09T17:09:53.101626500Z"
    }
   }
  },
  {
   "cell_type": "code",
   "execution_count": 85,
   "outputs": [
    {
     "data": {
      "text/plain": "array(['ROG Phone 5 (12GB)', 'ROG Phone 5 (16GB)', 'ROG Phone 5s (12GB)',\n       ..., 'Narzo 50A', 'Narzo 50A Prime',\n       'Narzo 50A Prime 64GB Flash Black [16.7cm (6.6 \") IPS LCD screen, Android 11, 50MP triple camera'],\n      dtype=object)"
     },
     "execution_count": 85,
     "metadata": {},
     "output_type": "execute_result"
    }
   ],
   "source": [
    "df_robin_grouped[\"name\"].unique()"
   ],
   "metadata": {
    "collapsed": false,
    "ExecuteTime": {
     "end_time": "2023-12-09T17:10:59.351900600Z",
     "start_time": "2023-12-09T17:10:59.332956100Z"
    }
   }
  },
  {
   "cell_type": "code",
   "execution_count": 86,
   "outputs": [
    {
     "data": {
      "text/plain": "array(['1B 2022 5031G', '5033FR', 'PIXI 4-5 (3G) 5010D BLACK', ...,\n       'P606F01-GREY', 'V40 Pro', 'V40 Vita'], dtype=object)"
     },
     "execution_count": 86,
     "metadata": {},
     "output_type": "execute_result"
    }
   ],
   "source": [
    "df_oli_grouped[\"model\"].unique()"
   ],
   "metadata": {
    "collapsed": false,
    "ExecuteTime": {
     "end_time": "2023-12-09T17:11:05.690558700Z",
     "start_time": "2023-12-09T17:11:05.672994700Z"
    }
   }
  },
  {
   "cell_type": "markdown",
   "source": [
    "Looking at the phone names, sometimes the storage and/or the color is also in there, which makes matching the phones even more difficult, we will try to remove them as good as possible by using regex"
   ],
   "metadata": {
    "collapsed": false
   }
  },
  {
   "cell_type": "code",
   "execution_count": 92,
   "outputs": [],
   "source": [
    "# Function to clean phone names\n",
    "def clean_phone_name(name):\n",
    "    # Remove storage capacity patterns like '64GB'\n",
    "    name = re.sub(r'\\d+GB', '', name)\n",
    "    # Remove common color names and other patterns\n",
    "    name = re.sub(r'\\b(schwarz|grün|black|white|blue|red|gold|silver)\\b', '', name, flags=re.IGNORECASE)\n",
    "    # Remove additional unwanted patterns (e.g., '(NEU)', '-')\n",
    "    name = re.sub(r'\\(.*?\\)|-', '', name)\n",
    "    # Remove extra spaces\n",
    "    name = re.sub(r'\\s+', ' ', name).strip()\n",
    "    return name\n",
    "\n",
    "# Apply the cleaning function\n",
    "df_robin_grouped['cleaned_phone_name'] = df_robin_grouped['name'].apply(clean_phone_name)\n",
    "df_oli_grouped['cleaned_phone_name'] = df_oli_grouped['model'].apply(clean_phone_name)"
   ],
   "metadata": {
    "collapsed": false,
    "ExecuteTime": {
     "end_time": "2023-12-09T17:16:30.139733900Z",
     "start_time": "2023-12-09T17:16:30.069626500Z"
    }
   }
  },
  {
   "cell_type": "code",
   "execution_count": 93,
   "outputs": [
    {
     "data": {
      "text/plain": "      brand         name  extracted_gb scrapeday   price extracted_rating  \\\n0      ASUS  ROG Phone 7         256.0        af   921.0              3.4   \n1      ASUS  ROG Phone 7         256.0        bf   909.0              3.4   \n2      ASUS  ROG Phone 7         256.0        cm   999.0              3.4   \n3      ASUS  ROG Phone 7         512.0        af  1079.0              4.5   \n4      ASUS  ROG Phone 7         512.0        bf   999.5              4.5   \n..      ...          ...           ...       ...     ...              ...   \n613  REALME          C30          32.0        cm    84.4              3.7   \n614  REALME          C31          64.0        cm   142.5              5.0   \n615  REALME          C35         128.0        af   191.0              5.0   \n616  REALME          C35         128.0        bf   191.0              5.0   \n617  REALME          C35         128.0        cm   191.0              5.0   \n\n    delivery_time_days cleaned_phone_name        model  storage  price_CHF  \\\n0                    1        ROG Phone 7  ROG Phone 7      256   1015.500   \n1                    1        ROG Phone 7  ROG Phone 7      256   1012.655   \n2                    1        ROG Phone 7  ROG Phone 7      256   1048.460   \n3                    1        ROG Phone 7  ROG Phone 7      512   1133.650   \n4                    1        ROG Phone 7  ROG Phone 7      512   1156.910   \n..                 ...                ...          ...      ...        ...   \n613                  5                C30          C30       32     79.190   \n614                 11                C31          C31       64    129.530   \n615                  1                C35          C35      128    222.635   \n616                  1                C35          C35      128    204.085   \n617                  1                C35          C35      128    203.335   \n\n     rating  deliverydays  \n0    4.5000           1.0  \n1    4.5000           5.0  \n2    4.5000           4.0  \n3    4.8269           2.0  \n4    4.8200           4.0  \n..      ...           ...  \n613  2.5000           1.0  \n614  0.0000           1.0  \n615  2.5000           2.5  \n616  0.0000           4.5  \n617  0.0000           2.0  \n\n[618 rows x 13 columns]",
      "text/html": "<div>\n<style scoped>\n    .dataframe tbody tr th:only-of-type {\n        vertical-align: middle;\n    }\n\n    .dataframe tbody tr th {\n        vertical-align: top;\n    }\n\n    .dataframe thead th {\n        text-align: right;\n    }\n</style>\n<table border=\"1\" class=\"dataframe\">\n  <thead>\n    <tr style=\"text-align: right;\">\n      <th></th>\n      <th>brand</th>\n      <th>name</th>\n      <th>extracted_gb</th>\n      <th>scrapeday</th>\n      <th>price</th>\n      <th>extracted_rating</th>\n      <th>delivery_time_days</th>\n      <th>cleaned_phone_name</th>\n      <th>model</th>\n      <th>storage</th>\n      <th>price_CHF</th>\n      <th>rating</th>\n      <th>deliverydays</th>\n    </tr>\n  </thead>\n  <tbody>\n    <tr>\n      <th>0</th>\n      <td>ASUS</td>\n      <td>ROG Phone 7</td>\n      <td>256.0</td>\n      <td>af</td>\n      <td>921.0</td>\n      <td>3.4</td>\n      <td>1</td>\n      <td>ROG Phone 7</td>\n      <td>ROG Phone 7</td>\n      <td>256</td>\n      <td>1015.500</td>\n      <td>4.5000</td>\n      <td>1.0</td>\n    </tr>\n    <tr>\n      <th>1</th>\n      <td>ASUS</td>\n      <td>ROG Phone 7</td>\n      <td>256.0</td>\n      <td>bf</td>\n      <td>909.0</td>\n      <td>3.4</td>\n      <td>1</td>\n      <td>ROG Phone 7</td>\n      <td>ROG Phone 7</td>\n      <td>256</td>\n      <td>1012.655</td>\n      <td>4.5000</td>\n      <td>5.0</td>\n    </tr>\n    <tr>\n      <th>2</th>\n      <td>ASUS</td>\n      <td>ROG Phone 7</td>\n      <td>256.0</td>\n      <td>cm</td>\n      <td>999.0</td>\n      <td>3.4</td>\n      <td>1</td>\n      <td>ROG Phone 7</td>\n      <td>ROG Phone 7</td>\n      <td>256</td>\n      <td>1048.460</td>\n      <td>4.5000</td>\n      <td>4.0</td>\n    </tr>\n    <tr>\n      <th>3</th>\n      <td>ASUS</td>\n      <td>ROG Phone 7</td>\n      <td>512.0</td>\n      <td>af</td>\n      <td>1079.0</td>\n      <td>4.5</td>\n      <td>1</td>\n      <td>ROG Phone 7</td>\n      <td>ROG Phone 7</td>\n      <td>512</td>\n      <td>1133.650</td>\n      <td>4.8269</td>\n      <td>2.0</td>\n    </tr>\n    <tr>\n      <th>4</th>\n      <td>ASUS</td>\n      <td>ROG Phone 7</td>\n      <td>512.0</td>\n      <td>bf</td>\n      <td>999.5</td>\n      <td>4.5</td>\n      <td>1</td>\n      <td>ROG Phone 7</td>\n      <td>ROG Phone 7</td>\n      <td>512</td>\n      <td>1156.910</td>\n      <td>4.8200</td>\n      <td>4.0</td>\n    </tr>\n    <tr>\n      <th>...</th>\n      <td>...</td>\n      <td>...</td>\n      <td>...</td>\n      <td>...</td>\n      <td>...</td>\n      <td>...</td>\n      <td>...</td>\n      <td>...</td>\n      <td>...</td>\n      <td>...</td>\n      <td>...</td>\n      <td>...</td>\n      <td>...</td>\n    </tr>\n    <tr>\n      <th>613</th>\n      <td>REALME</td>\n      <td>C30</td>\n      <td>32.0</td>\n      <td>cm</td>\n      <td>84.4</td>\n      <td>3.7</td>\n      <td>5</td>\n      <td>C30</td>\n      <td>C30</td>\n      <td>32</td>\n      <td>79.190</td>\n      <td>2.5000</td>\n      <td>1.0</td>\n    </tr>\n    <tr>\n      <th>614</th>\n      <td>REALME</td>\n      <td>C31</td>\n      <td>64.0</td>\n      <td>cm</td>\n      <td>142.5</td>\n      <td>5.0</td>\n      <td>11</td>\n      <td>C31</td>\n      <td>C31</td>\n      <td>64</td>\n      <td>129.530</td>\n      <td>0.0000</td>\n      <td>1.0</td>\n    </tr>\n    <tr>\n      <th>615</th>\n      <td>REALME</td>\n      <td>C35</td>\n      <td>128.0</td>\n      <td>af</td>\n      <td>191.0</td>\n      <td>5.0</td>\n      <td>1</td>\n      <td>C35</td>\n      <td>C35</td>\n      <td>128</td>\n      <td>222.635</td>\n      <td>2.5000</td>\n      <td>2.5</td>\n    </tr>\n    <tr>\n      <th>616</th>\n      <td>REALME</td>\n      <td>C35</td>\n      <td>128.0</td>\n      <td>bf</td>\n      <td>191.0</td>\n      <td>5.0</td>\n      <td>1</td>\n      <td>C35</td>\n      <td>C35</td>\n      <td>128</td>\n      <td>204.085</td>\n      <td>0.0000</td>\n      <td>4.5</td>\n    </tr>\n    <tr>\n      <th>617</th>\n      <td>REALME</td>\n      <td>C35</td>\n      <td>128.0</td>\n      <td>cm</td>\n      <td>191.0</td>\n      <td>5.0</td>\n      <td>1</td>\n      <td>C35</td>\n      <td>C35</td>\n      <td>128</td>\n      <td>203.335</td>\n      <td>0.0000</td>\n      <td>2.0</td>\n    </tr>\n  </tbody>\n</table>\n<p>618 rows × 13 columns</p>\n</div>"
     },
     "execution_count": 93,
     "metadata": {},
     "output_type": "execute_result"
    }
   ],
   "source": [
    "pd.merge(df_robin_grouped, df_oli_grouped,\n",
    "                     left_on=[\"brand\", \"cleaned_phone_name\", \"extracted_gb\",\"scrapeday\"],\n",
    "                     right_on=[\"brand\", \"cleaned_phone_name\", \"storage\", \"scrapeday\"],\n",
    "                     how=\"inner\", suffixes=(\"_digitec\", \"_mediamarkt\"))"
   ],
   "metadata": {
    "collapsed": false,
    "ExecuteTime": {
     "end_time": "2023-12-09T17:17:03.789998700Z",
     "start_time": "2023-12-09T17:17:03.774334500Z"
    }
   }
  }
 ],
 "metadata": {
  "kernelspec": {
   "display_name": "Python 3",
   "language": "python",
   "name": "python3"
  },
  "language_info": {
   "codemirror_mode": {
    "name": "ipython",
    "version": 2
   },
   "file_extension": ".py",
   "mimetype": "text/x-python",
   "name": "python",
   "nbconvert_exporter": "python",
   "pygments_lexer": "ipython2",
   "version": "2.7.6"
  }
 },
 "nbformat": 4,
 "nbformat_minor": 5
}
